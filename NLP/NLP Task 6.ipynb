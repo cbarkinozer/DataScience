{
 "cells": [
  {
   "cell_type": "markdown",
   "metadata": {},
   "source": [
    "Lesk Algorithm compares the unambigous words definition with the terms in that sentence.<br/>\n",
    "Steps:<br/>\n",
    "1_For every unambigious word's meaning, count neighbours of the word and words in the word's dictionary definition. <br/>\n",
    "2_The meaning with the greatest count should be selected for that word. <br/>\n",
    "Synset: A set of senses(meanings) that similar words have.<br/>"
   ]
  },
  {
   "cell_type": "code",
   "execution_count": 144,
   "metadata": {},
   "outputs": [],
   "source": [
    "#Corpus\n",
    "text=\"Belçika'da hükümet, son günlerde hızla artan Covid vakaları nedeniyle önlemleri daha da sıkılaştırma kararı aldı.\\\n",
    "Cumartesi gününden itibaren 10 yaşından büyük herkes için açık ve kapalı kamusal alanlarda ağız maskesi takmak yeniden zorunlu olacak.\\\n",
    "Daha önce bu zorunluluk, 12 yaş ve üzeri kişileri kapsıyordu.Yiyecek, içecek ve eğlence mekanlarına Covid sertifikası ve ağız maskesi ile girilebilecek.\\\n",
    "Avrupada nüfusa oranla en fazla Covid-19 kaynaklı ölümün yaşandığı ülkelerden olan Belçika, 5-11 yaş arasındaki çocukları da kısa süre içinde koronavirüse karşı aşılayacak.\\\n",
    "Perşembe günü yapılan Danışma Kurulu toplantısı sonrası bir açıklama yapan Başbakan Alexander De Croo, Belçika'da her 10 kişiden 9'u aşılandı.\\\n",
    "O yüzden şu anda yeni bir kapanma gerekli değil ancak ek önlemler kesinlikle gerekli dedi.\\\n",
    "Şu an yayılmakta olan virüsün bir öncekinden 3 kat daha güçlü ve bulaşıcı olduğunu vurgulayan De Croo, bu nedenle önlemleri sıkılaştırma kararı aldıklarını belirtti.\\\n",
    "Cumartesi gününden itibaren yürürlüğe girecek ve en az 28 Ocak 2022'ye kadar geçerli olacak yeni önlemler kapsamında, ağız maskesi takmak yeniden zorunlu hale getirildi.\\\n",
    "Belçikada 10 yaşından büyük herkesi kapsayan maske zorunluluğu şuralarda geçerli olacak:\\\n",
    "Toplu taşıma,Temas gerektiren meslek çalışanları,Sağlık kurumları,Yiyecek, içecek ve eğlence sektörü (oturan müşteriler hariç),Açık ve kapalı alanlardaki etkinlikler,Mağazalar ve alışveriş merkezleri,Kültürel ve spor etkinlikleri,Kamu binaları,Kütüphaneler,Spor salonları,Sinema, tiyatro, konser salonları ve müzeler,Eğlence parkları,İbadet yerleri,Ortaokullar,\\\n",
    "İlkokullarda maske takma zorunluluğu ise 12 yaşından itibaren başlıyor.\\\n",
    "Yeni önlemler kapsamında 1,5 metrelik sosyal mesafeye uymak da zorunlu olacak.\\\n",
    "Beklenenin aksine yiyecek, içecek ve eğlence sektörü için kapanma kararı çıkmadı. Ancak bu sektörlere girişte Covid sertifikası göstermek zorunlu olacak.\\\n",
    "Müşterilerini maske takmasını istemeyen gece kulübü ve diskolar, girişte hızlı koronavirüs testleri yapmak zorunda olacak.\\\n",
    "Düğün ve benzeri eğlencelerde dans ederken de maske takmak zorunlu hale getirildi.\\\n",
    "Kapalı alanlarda 50, açık alanlarda 100'den fazla konuğun bulunduğu düğün ve etkinliklerde Covid sertifikası göstermek gerekecek.\""
   ]
  },
  {
   "cell_type": "code",
   "execution_count": 145,
   "metadata": {},
   "outputs": [],
   "source": [
    "#Cleaning the text from punctuations\n",
    "import string\n",
    "clean_text = text.translate(str.maketrans('','', string.punctuation)).lower()"
   ]
  },
  {
   "cell_type": "code",
   "execution_count": 146,
   "metadata": {},
   "outputs": [
    {
     "name": "stderr",
     "output_type": "stream",
     "text": [
      "[nltk_data] Downloading package stopwords to\n",
      "[nltk_data]     C:\\Users\\barkin\\AppData\\Roaming\\nltk_data...\n",
      "[nltk_data]   Package stopwords is already up-to-date!\n"
     ]
    }
   ],
   "source": [
    "#Downloading the Turkish stopwords\n",
    "import nltk\n",
    "from nltk.corpus import stopwords\n",
    "nltk.download('stopwords')\n",
    "\n",
    "my_stopwords=set(stopwords.words('turkish'))"
   ]
  },
  {
   "cell_type": "code",
   "execution_count": 147,
   "metadata": {},
   "outputs": [],
   "source": [
    "#Tokenization\n",
    "tokens=nltk.word_tokenize(clean_text)"
   ]
  },
  {
   "cell_type": "code",
   "execution_count": 148,
   "metadata": {},
   "outputs": [],
   "source": [
    "#Cleaning the text from stop words\n",
    "words=[]\n",
    "for token in tokens:\n",
    "    if token not in my_stopwords:\n",
    "        words.append(token)"
   ]
  },
  {
   "cell_type": "code",
   "execution_count": 149,
   "metadata": {},
   "outputs": [
    {
     "name": "stdout",
     "output_type": "stream",
     "text": [
      "Number of bigrams (more than 2): 3\n"
     ]
    }
   ],
   "source": [
    "#Bigram analysis of the text\n",
    "import pandas as pd\n",
    "count_bigrams = (pd.Series(nltk.ngrams(words, 2)).value_counts())\n",
    "print(\"Number of bigrams (more than 2):\",len(count_bigrams[count_bigrams > 2]))"
   ]
  },
  {
   "cell_type": "code",
   "execution_count": 150,
   "metadata": {},
   "outputs": [
    {
     "name": "stdout",
     "output_type": "stream",
     "text": [
      "(içecek, eğlence)                    3\n",
      "(ağız, maskesi)                      3\n",
      "(covid, sertifikası)                 3\n",
      "(önlemleri, sıkılaştırma)            2\n",
      "(takmak, yeniden)                    2\n",
      "(yeniden, zorunlu)                   2\n",
      "(gününden, itibaren)                 2\n",
      "(maskesi, takmak)                    2\n",
      "(yaşından, büyük)                    2\n",
      "(10, yaşından)                       2\n",
      "(eğlence, sektörü)                   2\n",
      "(sıkılaştırma, kararı)               2\n",
      "(önlemler, kapsamında)               2\n",
      "(zorunlu, hale)                      2\n",
      "(sertifikası, göstermek)             2\n",
      "(sertifikası, ağız)                  1\n",
      "(alanlarda, 50)                      1\n",
      "(etkinliklermağazalar, alışveriş)    1\n",
      "(aldıcumartesi, gününden)            1\n",
      "(girilebilecekavrupada, nüfusa)      1\n",
      "dtype: int64\n"
     ]
    }
   ],
   "source": [
    "#Most common bigrams\n",
    "bigram_series = (count_bigrams)[:20]\n",
    "print(bigram_series)"
   ]
  },
  {
   "cell_type": "code",
   "execution_count": 157,
   "metadata": {},
   "outputs": [],
   "source": [
    "#Words is a list, we want it to be tokens again\n",
    "words=\" \".join(words) # Converts list to string to make it tokenizable        \n",
    "tokens=nltk.word_tokenize(words) # Tokenized again   "
   ]
  },
  {
   "cell_type": "code",
   "execution_count": 152,
   "metadata": {},
   "outputs": [],
   "source": [
    "#Glossary class\n",
    "class Synset():\n",
    "    \n",
    "    __slots__=('_name','_definition','_list')\n",
    "    \n",
    "    #Constructor\n",
    "    def __init__(self,name,definition):\n",
    "        self._name=name\n",
    "        if isinstance(definition,str):\n",
    "            self._definition=definition\n",
    "        else:\n",
    "            self._list=definition\n",
    "    \n",
    "    #string formatting\n",
    "    def __repr__(self):\n",
    "        return \"%s: '%s'\" %(self._name,self._definition)\n",
    "    \n",
    "    #Getters\n",
    "    def name(self):\n",
    "        return self._name\n",
    "    \n",
    "    def list(self):\n",
    "        return self._list\n",
    "    \n",
    "    def definition(self):\n",
    "        return self._definition\n",
    "    \n",
    "    def get(self,str):\n",
    "        for set in self._list:\n",
    "            if set.name()==str:\n",
    "                return set.list()"
   ]
  },
  {
   "cell_type": "code",
   "execution_count": 153,
   "metadata": {},
   "outputs": [],
   "source": [
    "#Glossary\n",
    "\n",
    "#Ağız: mouth and dialect\n",
    "Agiz_1=Synset(\"Agiz_1\",\"Yüzde bulunan, ses çıkarmaya, soluk alıp vermeye yarayan, besinlerin sindirilmeye başlandığı organ.\")\n",
    "Agiz_2=Synset(\"Agiz_2\",\"Dilin, belli yerleşim bölgelerine veya sınıflara özgü olan konuşma dili.\")\n",
    "\n",
    "#Takmak: wear and obsessed\n",
    "Takmak_1=Synset(\"Takmak_1\",\"Bir şeyi başka bir yere uygun bir biçimde tutturmak, iliştirmek, geçirmek.\")\n",
    "Takmak_2=Synset(\"Takmak_2\",\"Biriyle olumsuz olarak uğraşmak.\")\n",
    "\n",
    "#Büyük: older and supreme\n",
    "Buyuk_1=Synset(\"Buyuk_1\",\"Boyutları, benzerlerinden daha fazla olan (somut nesne), makro, küçük karşıtı.\")\n",
    "Buyuk_2=Synset(\"Buyuk_2\",\"Üstün niteliği olan.\")"
   ]
  },
  {
   "cell_type": "code",
   "execution_count": 154,
   "metadata": {},
   "outputs": [],
   "source": [
    "agiz=Synset(\"ağız\",[Agiz_1,Agiz_2])\n",
    "takmak=Synset(\"takmak\",[Takmak_1,Takmak_2])\n",
    "buyuk=Synset(\"büyük\",[Buyuk_1,Buyuk_2])\n",
    "\n",
    "_synsets=Synset(\"_synsets\",[agiz,takmak,buyuk])"
   ]
  },
  {
   "cell_type": "code",
   "execution_count": 155,
   "metadata": {},
   "outputs": [],
   "source": [
    "def Lesk(context_sentence,ambiguous_word,synsets=None):\n",
    "    context=set(context_sentence)\n",
    "    if synsets is None:\n",
    "        synsets= _synsets.get(ambiguous_word)\n",
    "    if not synsets:\n",
    "        return None\n",
    "    _,sense=max(\n",
    "        (len(context.intersection(ss.definition().split())),ss) for ss in synsets\n",
    "        )\n",
    "    return sense   "
   ]
  },
  {
   "cell_type": "code",
   "execution_count": 156,
   "metadata": {},
   "outputs": [
    {
     "name": "stdout",
     "output_type": "stream",
     "text": [
      "Agiz_2: 'Dilin, belli yerleşim bölgelerine veya sınıflara özgü olan konuşma dili.'\n",
      "Takmak_1: 'Bir şeyi başka bir yere uygun bir biçimde tutturmak, iliştirmek, geçirmek.'\n",
      "Buyuk_1: 'Boyutları, benzerlerinden daha fazla olan (somut nesne), makro, küçük karşıtı.'\n"
     ]
    }
   ],
   "source": [
    "result_1=Lesk(tokens,'ağız')\n",
    "result_2=Lesk(tokens,'takmak')\n",
    "result_3=Lesk(tokens,'büyük')\n",
    "print(result_1)\n",
    "print(result_2)\n",
    "print(result_3)"
   ]
  },
  {
   "cell_type": "markdown",
   "metadata": {},
   "source": [
    "Our corpus is about covid and health. Therefore while \"takmak\"(maske-takmak/wearing-mask) and \"büyük\"(yaşından-büyük/older than) words' meanings are selected correctly, \"ağız\"(ağız-maskesi/mouth mask) is selected wrong."
   ]
  }
 ],
 "metadata": {
  "kernelspec": {
   "display_name": "Python 3",
   "language": "python",
   "name": "python3"
  },
  "language_info": {
   "codemirror_mode": {
    "name": "ipython",
    "version": 3
   },
   "file_extension": ".py",
   "mimetype": "text/x-python",
   "name": "python",
   "nbconvert_exporter": "python",
   "pygments_lexer": "ipython3",
   "version": "3.8.5"
  }
 },
 "nbformat": 4,
 "nbformat_minor": 4
}
