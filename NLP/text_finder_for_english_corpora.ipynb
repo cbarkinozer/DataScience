{
 "cells": [
  {
   "cell_type": "code",
   "execution_count": 1,
   "metadata": {},
   "outputs": [],
   "source": [
    "import numpy as np\n",
    "import pandas as pd\n",
    "from sklearn.decomposition import TruncatedSVD\n",
    "from sklearn.metrics.pairwise import cosine_similarity\n",
    "import spacy"
   ]
  },
  {
   "cell_type": "code",
   "execution_count": 2,
   "metadata": {},
   "outputs": [],
   "source": [
    "#Run below line, if you do not have spacy\n",
    "#pip install spacy"
   ]
  },
  {
   "cell_type": "markdown",
   "metadata": {},
   "source": [
    "We will use en_core_web_sm .</br>\n",
    "sm/md/lg refer to the sizes of the models (small, medium, large respectively).</br>\n",
    "### In your Anaconda Prompt, run the command:\n",
    "!python -m spacy download en_core_web_sm"
   ]
  },
  {
   "cell_type": "code",
   "execution_count": 3,
   "metadata": {},
   "outputs": [],
   "source": [
    "nlp = spacy.load('en_core_web_sm')\n",
    "df=pd.read_csv('corpus_en.csv')"
   ]
  },
  {
   "cell_type": "code",
   "execution_count": 4,
   "metadata": {},
   "outputs": [],
   "source": [
    "sentence_vector=[nlp(x).vector for x in df[df['Brand']=='Yamazaki']['Review_Content'].values]\n",
    "sentence_vector=np.stack(sentence_vector,axis=0)"
   ]
  },
  {
   "cell_type": "code",
   "execution_count": 5,
   "metadata": {},
   "outputs": [
    {
     "data": {
      "text/plain": [
       "7      1.000000\n",
       "26     0.958735\n",
       "262    0.927690\n",
       "72     0.894932\n",
       "92     0.890143\n",
       "371    0.875245\n",
       "425    0.866783\n",
       "104    0.856870\n",
       "378    0.853456\n",
       "43     0.851558\n",
       "Name: 7, dtype: float32"
      ]
     },
     "execution_count": 5,
     "metadata": {},
     "output_type": "execute_result"
    }
   ],
   "source": [
    "svd=TruncatedSVD(n_components=10)\n",
    "svd_sentences=svd.fit_transform(sentence_vector)\n",
    "cos_sim=cosine_similarity(svd_sentences,svd_sentences)\n",
    "pd.DataFrame(cos_sim)[7].sort_values(ascending=False)[:10]"
   ]
  },
  {
   "cell_type": "code",
   "execution_count": 6,
   "metadata": {},
   "outputs": [
    {
     "name": "stdout",
     "output_type": "stream",
     "text": [
      "Enter the word/sentence you want to search on corpus: super\n"
     ]
    }
   ],
   "source": [
    "word=input(\"Enter the word/sentence you want to search on corpus: \")\n",
    "my_sentence_vector=np.stack([nlp(word).vector])\n",
    "sentence_vector=np.append(sentence_vector,my_sentence_vector,axis=0)\n",
    "svd_sentences=svd.fit_transform(sentence_vector)\n",
    "cos_sim=cosine_similarity(svd_sentences,svd_sentences)"
   ]
  },
  {
   "cell_type": "code",
   "execution_count": 7,
   "metadata": {},
   "outputs": [
    {
     "name": "stdout",
     "output_type": "stream",
     "text": [
      "457    1.000000\n",
      "66     0.664153\n",
      "193    0.644429\n",
      "446    0.638045\n",
      "124    0.629126\n",
      "194    0.625693\n",
      "191    0.615540\n",
      "17     0.610074\n",
      "35     0.595310\n",
      "264    0.591302\n",
      "Name: 457, dtype: float32\n",
      "Enter the sentence number that is smaller than 1.0: 66\n",
      "Best\n"
     ]
    }
   ],
   "source": [
    "print(pd.DataFrame(cos_sim)[457].sort_values(ascending=False)[:10])\n",
    "number=int(input(\"Enter the sentence number that is smaller than 1.0: \"))\n",
    "print(df[df['Brand']=='Yamazaki']['Review_Content'][number])"
   ]
  },
  {
   "cell_type": "code",
   "execution_count": null,
   "metadata": {},
   "outputs": [],
   "source": []
  }
 ],
 "metadata": {
  "kernelspec": {
   "display_name": "Python 3",
   "language": "python",
   "name": "python3"
  },
  "language_info": {
   "codemirror_mode": {
    "name": "ipython",
    "version": 3
   },
   "file_extension": ".py",
   "mimetype": "text/x-python",
   "name": "python",
   "nbconvert_exporter": "python",
   "pygments_lexer": "ipython3",
   "version": "3.8.5"
  }
 },
 "nbformat": 4,
 "nbformat_minor": 4
}
