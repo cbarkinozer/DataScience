{
 "cells": [
  {
   "cell_type": "code",
   "execution_count": null,
   "metadata": {},
   "outputs": [],
   "source": [
    "import numpy as np\n",
    "import pandas as pd\n",
    "from sklearn.decomposition import TruncatedSVD\n",
    "from sklearn.metrics.pairwise import cosine_similarity\n",
    "import spacy"
   ]
  },
  {
   "cell_type": "code",
   "execution_count": null,
   "metadata": {},
   "outputs": [],
   "source": [
    "#Run below line, if you do not have spacy\n",
    "#pip install spacy"
   ]
  },
  {
   "cell_type": "markdown",
   "metadata": {},
   "source": [
    "We will use en_core_web_sm .</br>\n",
    "sm/md/lg refer to the sizes of the models (small, medium, large respectively).</br>\n",
    "### In your Anaconda Prompt, run the command:\n",
    "!python -m spacy download en_core_web_sm"
   ]
  },
  {
   "cell_type": "code",
   "execution_count": null,
   "metadata": {},
   "outputs": [],
   "source": [
    "nlp = spacy.load('en_core_web_sm')\n",
    "df=pd.read_csv('corpus_en.csv')"
   ]
  },
  {
   "cell_type": "code",
   "execution_count": null,
   "metadata": {},
   "outputs": [],
   "source": [
    "sentence_vector=[nlp(x).vector for x in df[df['Brand']=='Yamazaki']['Review_Content'].values]\n",
    "sentence_vector=np.stack(sentence_vector,axis=0)"
   ]
  },
  {
   "cell_type": "code",
   "execution_count": null,
   "metadata": {},
   "outputs": [],
   "source": [
    "svd=TruncatedSVD(n_components=10)\n",
    "svd_sentences=svd.fit_transform(sentence_vector)\n",
    "cos_sim=cosine_similarity(svd_sentences,svd_sentences)\n",
    "pd.DataFrame(cos_sim)[7].sort_values(ascending=False)[:10]"
   ]
  },
  {
   "cell_type": "code",
   "execution_count": null,
   "metadata": {},
   "outputs": [],
   "source": [
    "word=input(\"Enter the word/sentence you want to search on corpus: \")\n",
    "my_sentence_vector=np.stack([nlp(word).vector])\n",
    "sentence_vector=np.append(sentence_vector,my_sentence_vector,axis=0)\n",
    "svd_sentences=svd.fit_transform(sentence_vector)\n",
    "cos_sim=cosine_similarity(svd_sentences,svd_sentences)"
   ]
  },
  {
   "cell_type": "code",
   "execution_count": null,
   "metadata": {},
   "outputs": [],
   "source": [
    "print(pd.DataFrame(cos_sim)[457].sort_values(ascending=False)[:10])\n",
    "number=int(input(\"Enter the sentence number that is smaller than 1.0: \"))\n",
    "print(df[df['Brand']=='Yamazaki']['Review_Content'][number])"
   ]
  }
 ],
 "metadata": {
  "kernelspec": {
   "display_name": "Python 3",
   "language": "python",
   "name": "python3"
  },
  "language_info": {
   "codemirror_mode": {
    "name": "ipython",
    "version": 3
   },
   "file_extension": ".py",
   "mimetype": "text/x-python",
   "name": "python",
   "nbconvert_exporter": "python",
   "pygments_lexer": "ipython3",
   "version": "3.8.5"
  }
 },
 "nbformat": 4,
 "nbformat_minor": 4
}
