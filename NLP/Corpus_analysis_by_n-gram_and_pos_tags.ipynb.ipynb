{
 "cells": [
  {
   "cell_type": "code",
   "execution_count": 1,
   "metadata": {},
   "outputs": [],
   "source": [
    "from newspaper import Article, fulltext\n",
    "import requests, string"
   ]
  },
  {
   "cell_type": "code",
   "execution_count": 42,
   "metadata": {},
   "outputs": [
    {
     "name": "stdout",
     "output_type": "stream",
     "text": [
      "2021 Nobel Fizik Ödülü, 'küresel ısınma' vurgusuyla Japon, Alman ve İtalyan üç bilim insanına verildi\n",
      "\n",
      "5 Ekim 2021\n",
      "\n",
      "Kaynak, Getty Images\n",
      "\n",
      "2021 Nobel Fizik Ödülü, bilim insanları Syukuro Manabe, Klaus Hasselmann ve Giorgio Parisi'ye verildi.\n",
      "\n",
      "Manabe ve Hasselmann, Dünya'nın iklimini modellemeleri ve küresel ısınmayı tahmin etmeleri, Parisi de gazlarda ve sıvılarda rastgele görünen hareketlerin arkasındaki \"gizli kuralları\" keşfetmesi nedeniyle ödüle layık görüldü.\n",
      "\n",
      "Nobel Komitesi'nden yapılan açıklamada \"Syukuro Manabe ve Klaus Hasselmann, Dünya'nın iklimi ve insanlığın onu nasıl etkilediği konusundaki bilgimizin temelini attı\" denildi.\n",
      "\n",
      "Açıklamada, Giorgio Parisi'nin çalışması için ise \"Karmaşık sistemler rastgelelik ve düzensizlikle tanımlanır ve anlaşılmaları zordur\" ifadesi yer aldı.\n",
      "\n",
      "90 yaşındaki Japon Manabe, ABD'deki Princeton Üniversitesi'nde profesör olarak çalışmalarını sürdürüyor.\n",
      "\n",
      "Alman Hasselmann, Almanya'nın Hamburg kentindeki Max Planck Meteoroloji Enstitüsü'nde görev yapıyor.\n",
      "\n",
      "İtalyan Parisi ise Roma Sapienza Üniversitesi'nde görevli.\n",
      "\n",
      "Kaynak, Getty Images\n",
      "\n",
      "Son iki yıldır, İsveç Kraliyet Bilimler Akademisi astronomi alanındaki bulguları ödüle layık görüyordu ve bu nedenle bu yıl ödül verilen alanın değişeceği tahminleri yapılıyordu.\n",
      "\n",
      "Nobel Fizik Komitesi Başkanı Thors Hans Hansson, \"Bu yıl ödüllendirilen keşifler, iklim hakkındaki bilgilerimizin sıkı bir gözlem analizine dayanan sağlam bir bilimsel temele dayandığını gösteriyor\" dedi.\n",
      "\n",
      "2019'da Nobel Fizik Ödülü, Büyük Patlama'dan sonra evrenin evrimini açıklayan James Peebles ile bir güneş sistemi dışındaki gezegenin keşfi nedeniyle Michel Mayor ve Didier Queloz'a verilmişti\n",
      "\n",
      "2020'de ise kara delikleri araştıran Roger Penrose, Reinhard Genzel ve Andrea Ghez ödülü paylaşmıştı.\n",
      "\n",
      "Covid nedeniyle geçen yıl olduğu gibi bu yıl da Stockholm'de ödül töreni düzenlenmeyecek.\n",
      "\n",
      "\n",
      "---------------------------------------------------------\n",
      "\n",
      "\n",
      "Fenerbahçe-Antwerp beraberliği Belçika basınında: \"Kadıköy'deki yangından ilk puanını çıkaran Antwerp Avrupa umudunu korudu\"\n",
      "\n",
      "Yusuf Özkan\n",
      "\n",
      "Lahey, Hollanda\n",
      "\n",
      "22 Ekim 2021\n",
      "\n",
      "Kaynak, Getty Images\n",
      "\n",
      "Royal Antwerp takımının İstanbul'da Fenerbahçe ile 2 - 2 berabere kalarak, UEFA Avrupa Ligi'nde ilk puanını elde etmesi, Belçika basınında geniş yer buldu.\n",
      "\n",
      "Belçika medyasına göre, Kadıköy'deki ateşli ortamdan 1 puan çıkarmayı başaran Antwerp takımı, Avrupa kupalarındaki umudunu sürdürdü.\n",
      "\n",
      "Basına göre, Pro Leauge'de 4. sırada bulunan Royal Antwerp, haftaya kendi evinde seyircisiz oynanacak maçta Fenerbahçe'yi yenerek yolunda devam etmek istiyor.\n",
      "\n",
      "Perşembe günü Şükrü Saraçoğlu Stadyumu'nda Fenerbahçe karşısına çıkan Belçika takımının aklı, Antwerpen'deki (Anvers) Bosuil stadyumundaydı.\n",
      "\n",
      "Sabah saatlerinde Hollanda ve Belçika'da etkili olan fırtına, Royal Antwerp takımının maçlarını oynadığı Bosuil stadyumunun çatısını da uçurdu. Çatıdan kopan parçalar sahanın ortasına indi.\n",
      "\n",
      "Fırtınadan kaynaklanan hasarın Pazar günü oynanacak Club Brugge maçını etkileyip etkilemeyeceği hâlâ belli değil.\n",
      "\n",
      "Kaynak, Getty Images Fotoğraf altı yazısı, Belçika'da etkili olan fırtınada Bosuil Stadyumu'nun çatısı uçtu.\n",
      "\n",
      "Yönetim ve teknik ekip, Kadıköy'e bu endişe ile gitti. Şükrü Saraçoğlu'ndaki ateşli ortam, maç öncesi Royal Antwerp ekibini daha da endişelendirdi.\n",
      "\n",
      "Ancak maçın 2. dakikasında Fenerbahçe'den kiralanan Samatta'nın attığı gol, Antwerp takımını rahatlattı. HLN gazetesine göre, \"rüya gibi bir başlangıç yapan\" Antwerp'in golü sayesinde \"İstanbul'daki Türk desibelleri\" yetersiz kaldı.\n",
      "\n",
      "Fenerbahçe, Ener Valencia'nın 21 ve 45. dakikalarda attığı 2 gol ve kaçırdığı bir penaltı ile ilk yarıyı 2 - 1 önde kapadı. Taraftarlarda Fenerbahçe'nin, ikinci yarıda rahat bir galibiyet alacağı beklentisi vardı.\n",
      "\n",
      "Ancak ikinci yarıda bu beklenti gerçeğe dönüşmedi. Topu Antwerp'e bırakan Fenerbahçe, sık sık kalesinde duran topların yarattığı tehlikelerle karşı karşıya kaldı.\n",
      "\n",
      "Maçın 62. dakikasında Pieter Gerkens, durumu 2 - 2 yaparak, maçın skorunu belirledi. Bu golle, Antwerp takımı UEFA Avrupa Ligi'nde ilk puanını da elde etmiş oldu.\n",
      "\n",
      "Kaynak, Getty Images\n",
      "\n",
      "Belçika basını: \"Antwerp ateşi söndürdü\"\n",
      "\n",
      "HLN gazetesi, \"Pieter Gerkens Fenerbahçe yangınından 1 puan çıkardı, Antwerp, Avrupa Ligi'nde 0 puandan kurtuldu\" başlığını attı.\n",
      "\n",
      "Flamanca yayımlanan Nieuwsblad gazetesi de, \"Antwerp Avrupa'da ilk puanını aldı ve umudunu diri tuttu\" başlığıyla verdiği haberde, Antwerpen ekibinin haftaya Perşembe günü Fenerbahçe'yi yenme şansı bulunduğuna işaret etti.\n",
      "\n",
      "Gazeteye göre, geçen sezon Fenerbahçe formasıyla 6 gole imza atan Samatta, Kadıköy'de gol atmanın nasıl bir şey olduğunu zaten biliyordu. Bu da, Antwerp'in İstanbul'dan başı dik ayrılmasını sağladı.\n",
      "\n",
      "De Standaard gazetesi de, İstanbul'da Antwerp'in daha fazlasını da yapabileceğini vurgulayarak, 2 - 2'lik beraberlikle, kışı Avrupa Ligi'nde geçirme umudunu canlı tuttuğunu yazdı.\n",
      "\n",
      "De Standaard'a göre de Antwerp'in, cezası nedeniyle haftaya Bosuil'de seyircisiz oynanacak karşılaşmada Fenerbahçe'yi yenme şansı yüksek.\n",
      "\n",
      "Fransızca yayımlanan Le Soir ve La libre gazeteleri, Antwerp'in \"ateşli bir ortamda Fenerbahçe'den 1 puan koparmayı başardığını\" vurguladı.\n",
      "\n",
      "Fransızca yayın yapan RTFB kanalı da, Teknik Direktör Vitor Pereira'nın 2 - 2'lik skordan sonra yaptığı peş peşe değişikliklerin, maçı çevirmeye yetmediğine işaret etti.\n",
      "\n",
      "Flaman kamu yayıncısı VRT, Antwerp'in 2 - 2'lik beraberlikle, ilk puanınını kazanarak, \"Avrupa'da sıfırdan kurtulduğunu\" belirtirken, Antwerpen gazetesi de, Belçika takımının sergilediği futbolla 1 puanı hak ettiğini yazdı.\n"
     ]
    }
   ],
   "source": [
    "#Science category\n",
    "url1='https://www.bbc.com/turkce/haberler-dunya-58802585'\n",
    "\n",
    "article1=Article(url1)\n",
    "article1.download()\n",
    "article1.parse()\n",
    "\n",
    "text1=article1.text\n",
    "\n",
    "print(text1)\n",
    "print(\"\\n\")\n",
    "print(\"---------------------------------------------------------\")\n",
    "print(\"\\n\")\n",
    "\n",
    "#Sports category\n",
    "url2='https://www.bbc.com/turkce/haberler-turkiye-59004914'\n",
    "\n",
    "article2=Article(url2)\n",
    "article2.download()\n",
    "article2.parse()\n",
    "\n",
    "text2=article2.text\n",
    "print(text2)"
   ]
  },
  {
   "cell_type": "code",
   "execution_count": 5,
   "metadata": {},
   "outputs": [],
   "source": [
    "clean_text1 = text1.translate(str.maketrans('','', string.punctuation)).lower()\n",
    "clean_text2 = text2.translate(str.maketrans('','', string.punctuation)).lower()"
   ]
  },
  {
   "cell_type": "code",
   "execution_count": 6,
   "metadata": {},
   "outputs": [
    {
     "name": "stderr",
     "output_type": "stream",
     "text": [
      "[nltk_data] Downloading package stopwords to\n",
      "[nltk_data]     C:\\Users\\barkin\\AppData\\Roaming\\nltk_data...\n",
      "[nltk_data]   Package stopwords is already up-to-date!\n"
     ]
    }
   ],
   "source": [
    "import nltk\n",
    "from nltk.corpus import stopwords\n",
    "nltk.download('stopwords')\n",
    "\n",
    "my_stopwords=set(stopwords.words('turkish'))"
   ]
  },
  {
   "cell_type": "code",
   "execution_count": 7,
   "metadata": {},
   "outputs": [],
   "source": [
    "# Tokenization using word_tokenize()\n",
    "tokens1=nltk.word_tokenize(clean_text1)\n",
    "tokens2=nltk.word_tokenize(clean_text2)"
   ]
  },
  {
   "cell_type": "code",
   "execution_count": 8,
   "metadata": {},
   "outputs": [],
   "source": [
    "#Cleaning from stop words\n",
    "words1=[]\n",
    "for token in tokens1:\n",
    "    if token not in my_stopwords:\n",
    "        words1.append(token)\n",
    "\n",
    "words2=[]\n",
    "for token in tokens2:\n",
    "    if token not in my_stopwords:\n",
    "        words2.append(token)"
   ]
  },
  {
   "cell_type": "code",
   "execution_count": 33,
   "metadata": {},
   "outputs": [
    {
     "name": "stdout",
     "output_type": "stream",
     "text": [
      "1. corpus number of unigrams (more than 2): 9\n",
      "2. corpus number of unigrams (more than 2) 29\n"
     ]
    }
   ],
   "source": [
    "import pandas as pd\n",
    "count_unigrams1 = (pd.Series(nltk.ngrams(words1, 1)).value_counts())\n",
    "print(\"1. corpus number of unigrams (more than 2):\",len(count_bigrams1[count_bigrams1 > 2]))\n",
    "count_unigrams2 = (pd.Series(nltk.ngrams(words2, 1)).value_counts())\n",
    "print(\"2. corpus number of unigrams (more than 2)\",len(count_bigrams2[count_bigrams2 > 2]))"
   ]
  },
  {
   "cell_type": "code",
   "execution_count": 35,
   "metadata": {},
   "outputs": [
    {
     "name": "stdout",
     "output_type": "stream",
     "text": [
      "1. corporus number of bigrams (more than 2): 2\n",
      "2. corpus number of bigrams (more than 2) 7\n"
     ]
    }
   ],
   "source": [
    "count_bigrams1 = (pd.Series(nltk.ngrams(words1, 2)).value_counts())\n",
    "print(\"1. corpus number of bigrams (more than 2):\",len(count_bigrams1[count_bigrams1 > 2]))\n",
    "count_bigrams2 = (pd.Series(nltk.ngrams(words2, 2)).value_counts())\n",
    "print(\"2. corpus number of bigrams (more than 2)\",len(count_bigrams2[count_bigrams2 > 2]))"
   ]
  },
  {
   "cell_type": "code",
   "execution_count": 37,
   "metadata": {},
   "outputs": [
    {
     "name": "stdout",
     "output_type": "stream",
     "text": [
      "1. corpus number of trigrams (more than 2): 1\n",
      "2. corpus number of trigrams (more than 2): 1\n"
     ]
    }
   ],
   "source": [
    "count_trigrams1 = (pd.Series(nltk.ngrams(words1, 3)).value_counts())\n",
    "print(\"1. corpus number of trigrams (more than 2):\",len(count_trigrams1[count_trigrams1 > 2]))\n",
    "count_trigrams2 = (pd.Series(nltk.ngrams(words2, 3)).value_counts())\n",
    "print(\"2. corpus number of trigrams (more than 2):\",len(count_trigrams2[count_trigrams2 > 2]))"
   ]
  },
  {
   "cell_type": "code",
   "execution_count": 15,
   "metadata": {},
   "outputs": [
    {
     "name": "stdout",
     "output_type": "stream",
     "text": [
      "(nobel, fizik)            4\n",
      "(fizik, ödülü)            3\n",
      "(kaynak, getty)           2\n",
      "(getty, images)           2\n",
      "(syukuro, manabe)         2\n",
      "(manabe, klaus)           2\n",
      "(2021, nobel)             2\n",
      "(ödüle, layık)            2\n",
      "(hasselmann, dünyanın)    2\n",
      "(klaus, hasselmann)       2\n",
      "dtype: int64\n",
      "(nobel, fizik, ödülü)                       3\n",
      "(manabe, klaus, hasselmann)                 2\n",
      "(kaynak, getty, images)                     2\n",
      "(2021, nobel, fizik)                        2\n",
      "(syukuro, manabe, klaus)                    2\n",
      "(rastgelelik, düzensizlikle, tanımlanır)    1\n",
      "(sıvılarda, rastgele, görünen)              1\n",
      "(roger, penrose, reinhard)                  1\n",
      "(üç, bilim, insanına)                       1\n",
      "(ödüle, layık, görüldü)                     1\n",
      "dtype: int64\n"
     ]
    }
   ],
   "source": [
    "bigram_series1 = (count_bigrams1)[:10]\n",
    "trigram_series1 = (count_trigrams1)[:10]\n",
    "print(bigram_series1)\n",
    "print(trigram_series1)"
   ]
  },
  {
   "cell_type": "code",
   "execution_count": 20,
   "metadata": {},
   "outputs": [
    {
     "name": "stdout",
     "output_type": "stream",
     "text": [
      "(royal, antwerp)     4\n",
      "(avrupa, liginde)    4\n",
      "(ilk, puanını)       4\n",
      "(2, 2lik)            3\n",
      "(getty, images)      3\n",
      "(1, puan)            3\n",
      "(kaynak, getty)      3\n",
      "(pieter, gerkens)    2\n",
      "(ikinci, yarıda)     2\n",
      "(puanını, elde)      2\n",
      "dtype: int64\n",
      "(kaynak, getty, images)         3\n",
      "(ilk, puanını, elde)            2\n",
      "(royal, antwerp, takımının)     2\n",
      "(fenerbahçeyi, yenme, şansı)    2\n",
      "(uefa, avrupa, liginde)         2\n",
      "(avrupa, liginde, ilk)          2\n",
      "(belçikada, etkili, olan)       2\n",
      "(2, 2lik, beraberlikle)         2\n",
      "(liginde, ilk, puanını)         2\n",
      "(lahey, hollanda, 22)           1\n",
      "dtype: int64\n"
     ]
    }
   ],
   "source": [
    "bigram_series2 = (count_bigrams2)[:10]\n",
    "trigram_series2 = (count_trigrams2)[:10]\n",
    "print(bigram_series2)\n",
    "print(trigram_series2)"
   ]
  },
  {
   "cell_type": "code",
   "execution_count": 57,
   "metadata": {},
   "outputs": [
    {
     "name": "stdout",
     "output_type": "stream",
     "text": [
      "Counter({'NN': 175, 'JJ': 17, 'NNP': 16, 'CD': 7, 'FW': 6, 'NNS': 5, 'VBP': 3, 'IN': 2, 'VBD': 2, 'VBZ': 2, 'VB': 1})\n",
      "Counter({'NN': 315, 'JJ': 44, 'CD': 26, 'FW': 21, 'NNP': 15, 'VBD': 11, 'VBP': 7, 'VBZ': 6, 'NNS': 5, 'IN': 5, 'RB': 4, 'WP': 1, '$': 1, 'VBN': 1})\n"
     ]
    },
    {
     "name": "stderr",
     "output_type": "stream",
     "text": [
      "[nltk_data] Downloading package averaged_perceptron_tagger to\n",
      "[nltk_data]     C:\\Users\\barkin\\AppData\\Roaming\\nltk_data...\n",
      "[nltk_data]   Package averaged_perceptron_tagger is already up-to-\n",
      "[nltk_data]       date!\n"
     ]
    }
   ],
   "source": [
    "nltk.download('averaged_perceptron_tagger')\n",
    "import nltk\n",
    "from collections import Counter\n",
    "def pos_tagging(tokens):\n",
    "    tags=nltk.pos_tag(tokens)\n",
    "    counts=Counter(tag for word,tag in tags)\n",
    "    return counts\n",
    "pos1=pos_tagging(tokens1)\n",
    "print(pos1)\n",
    "pos2=pos_tagging(tokens2)\n",
    "print(pos2)"
   ]
  },
  {
   "cell_type": "markdown",
   "metadata": {},
   "source": [
    "1. corpus has VB (verb,base) compared to 2. corpus\n",
    "2. corpus has RB(adverb), WP(wh-pronoun), $,VBN(verb past participle) compared to 1. corpus"
   ]
  },
  {
   "cell_type": "code",
   "execution_count": 60,
   "metadata": {},
   "outputs": [
    {
     "name": "stdout",
     "output_type": "stream",
     "text": [
      "$: dollar\n",
      "    $ -$ --$ A$ C$ HK$ M$ NZ$ S$ U.S.$ US$\n",
      "'': closing quotation mark\n",
      "    ' ''\n",
      "(: opening parenthesis\n",
      "    ( [ {\n",
      "): closing parenthesis\n",
      "    ) ] }\n",
      ",: comma\n",
      "    ,\n",
      "--: dash\n",
      "    --\n",
      ".: sentence terminator\n",
      "    . ! ?\n",
      ":: colon or ellipsis\n",
      "    : ; ...\n",
      "CC: conjunction, coordinating\n",
      "    & 'n and both but either et for less minus neither nor or plus so\n",
      "    therefore times v. versus vs. whether yet\n",
      "CD: numeral, cardinal\n",
      "    mid-1890 nine-thirty forty-two one-tenth ten million 0.5 one forty-\n",
      "    seven 1987 twenty '79 zero two 78-degrees eighty-four IX '60s .025\n",
      "    fifteen 271,124 dozen quintillion DM2,000 ...\n",
      "DT: determiner\n",
      "    all an another any both del each either every half la many much nary\n",
      "    neither no some such that the them these this those\n",
      "EX: existential there\n",
      "    there\n",
      "FW: foreign word\n",
      "    gemeinschaft hund ich jeux habeas Haementeria Herr K'ang-si vous\n",
      "    lutihaw alai je jour objets salutaris fille quibusdam pas trop Monte\n",
      "    terram fiche oui corporis ...\n",
      "IN: preposition or conjunction, subordinating\n",
      "    astride among uppon whether out inside pro despite on by throughout\n",
      "    below within for towards near behind atop around if like until below\n",
      "    next into if beside ...\n",
      "JJ: adjective or numeral, ordinal\n",
      "    third ill-mannered pre-war regrettable oiled calamitous first separable\n",
      "    ectoplasmic battery-powered participatory fourth still-to-be-named\n",
      "    multilingual multi-disciplinary ...\n",
      "JJR: adjective, comparative\n",
      "    bleaker braver breezier briefer brighter brisker broader bumper busier\n",
      "    calmer cheaper choosier cleaner clearer closer colder commoner costlier\n",
      "    cozier creamier crunchier cuter ...\n",
      "JJS: adjective, superlative\n",
      "    calmest cheapest choicest classiest cleanest clearest closest commonest\n",
      "    corniest costliest crassest creepiest crudest cutest darkest deadliest\n",
      "    dearest deepest densest dinkiest ...\n",
      "LS: list item marker\n",
      "    A A. B B. C C. D E F First G H I J K One SP-44001 SP-44002 SP-44005\n",
      "    SP-44007 Second Third Three Two * a b c d first five four one six three\n",
      "    two\n",
      "MD: modal auxiliary\n",
      "    can cannot could couldn't dare may might must need ought shall should\n",
      "    shouldn't will would\n",
      "NN: noun, common, singular or mass\n",
      "    common-carrier cabbage knuckle-duster Casino afghan shed thermostat\n",
      "    investment slide humour falloff slick wind hyena override subhumanity\n",
      "    machinist ...\n",
      "NNP: noun, proper, singular\n",
      "    Motown Venneboerger Czestochwa Ranzer Conchita Trumplane Christos\n",
      "    Oceanside Escobar Kreisler Sawyer Cougar Yvette Ervin ODI Darryl CTCA\n",
      "    Shannon A.K.C. Meltex Liverpool ...\n",
      "NNPS: noun, proper, plural\n",
      "    Americans Americas Amharas Amityvilles Amusements Anarcho-Syndicalists\n",
      "    Andalusians Andes Andruses Angels Animals Anthony Antilles Antiques\n",
      "    Apache Apaches Apocrypha ...\n",
      "NNS: noun, common, plural\n",
      "    undergraduates scotches bric-a-brac products bodyguards facets coasts\n",
      "    divestitures storehouses designs clubs fragrances averages\n",
      "    subjectivists apprehensions muses factory-jobs ...\n",
      "PDT: pre-determiner\n",
      "    all both half many quite such sure this\n",
      "POS: genitive marker\n",
      "    ' 's\n",
      "PRP: pronoun, personal\n",
      "    hers herself him himself hisself it itself me myself one oneself ours\n",
      "    ourselves ownself self she thee theirs them themselves they thou thy us\n",
      "PRP$: pronoun, possessive\n",
      "    her his mine my our ours their thy your\n",
      "RB: adverb\n",
      "    occasionally unabatingly maddeningly adventurously professedly\n",
      "    stirringly prominently technologically magisterially predominately\n",
      "    swiftly fiscally pitilessly ...\n",
      "RBR: adverb, comparative\n",
      "    further gloomier grander graver greater grimmer harder harsher\n",
      "    healthier heavier higher however larger later leaner lengthier less-\n",
      "    perfectly lesser lonelier longer louder lower more ...\n",
      "RBS: adverb, superlative\n",
      "    best biggest bluntest earliest farthest first furthest hardest\n",
      "    heartiest highest largest least less most nearest second tightest worst\n",
      "RP: particle\n",
      "    aboard about across along apart around aside at away back before behind\n",
      "    by crop down ever fast for forth from go high i.e. in into just later\n",
      "    low more off on open out over per pie raising start teeth that through\n",
      "    under unto up up-pp upon whole with you\n",
      "SYM: symbol\n",
      "    % & ' '' ''. ) ). * + ,. < = > @ A[fj] U.S U.S.S.R * ** ***\n",
      "TO: \"to\" as preposition or infinitive marker\n",
      "    to\n",
      "UH: interjection\n",
      "    Goodbye Goody Gosh Wow Jeepers Jee-sus Hubba Hey Kee-reist Oops amen\n",
      "    huh howdy uh dammit whammo shucks heck anyways whodunnit honey golly\n",
      "    man baby diddle hush sonuvabitch ...\n",
      "VB: verb, base form\n",
      "    ask assemble assess assign assume atone attention avoid bake balkanize\n",
      "    bank begin behold believe bend benefit bevel beware bless boil bomb\n",
      "    boost brace break bring broil brush build ...\n",
      "VBD: verb, past tense\n",
      "    dipped pleaded swiped regummed soaked tidied convened halted registered\n",
      "    cushioned exacted snubbed strode aimed adopted belied figgered\n",
      "    speculated wore appreciated contemplated ...\n",
      "VBG: verb, present participle or gerund\n",
      "    telegraphing stirring focusing angering judging stalling lactating\n",
      "    hankerin' alleging veering capping approaching traveling besieging\n",
      "    encrypting interrupting erasing wincing ...\n",
      "VBN: verb, past participle\n",
      "    multihulled dilapidated aerosolized chaired languished panelized used\n",
      "    experimented flourished imitated reunifed factored condensed sheared\n",
      "    unsettled primed dubbed desired ...\n",
      "VBP: verb, present tense, not 3rd person singular\n",
      "    predominate wrap resort sue twist spill cure lengthen brush terminate\n",
      "    appear tend stray glisten obtain comprise detest tease attract\n",
      "    emphasize mold postpone sever return wag ...\n",
      "VBZ: verb, present tense, 3rd person singular\n",
      "    bases reconstructs marks mixes displeases seals carps weaves snatches\n",
      "    slumps stretches authorizes smolders pictures emerges stockpiles\n",
      "    seduces fizzes uses bolsters slaps speaks pleads ...\n",
      "WDT: WH-determiner\n",
      "    that what whatever which whichever\n",
      "WP: WH-pronoun\n",
      "    that what whatever whatsoever which who whom whosoever\n",
      "WP$: WH-pronoun, possessive\n",
      "    whose\n",
      "WRB: Wh-adverb\n",
      "    how however whence whenever where whereby whereever wherein whereof why\n",
      "``: opening quotation mark\n",
      "    ` ``\n"
     ]
    },
    {
     "name": "stderr",
     "output_type": "stream",
     "text": [
      "[nltk_data] Downloading package tagsets to\n",
      "[nltk_data]     C:\\Users\\barkin\\AppData\\Roaming\\nltk_data...\n",
      "[nltk_data]   Package tagsets is already up-to-date!\n"
     ]
    }
   ],
   "source": [
    "nltk.download('tagsets')\n",
    "#List of pos-tags\n",
    "nltk.help.upenn_tagset()"
   ]
  }
 ],
 "metadata": {
  "kernelspec": {
   "display_name": "Python 3",
   "language": "python",
   "name": "python3"
  },
  "language_info": {
   "codemirror_mode": {
    "name": "ipython",
    "version": 3
   },
   "file_extension": ".py",
   "mimetype": "text/x-python",
   "name": "python",
   "nbconvert_exporter": "python",
   "pygments_lexer": "ipython3",
   "version": "3.8.5"
  }
 },
 "nbformat": 4,
 "nbformat_minor": 4
}
