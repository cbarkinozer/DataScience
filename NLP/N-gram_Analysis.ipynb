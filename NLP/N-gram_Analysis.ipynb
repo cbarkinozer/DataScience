{
 "cells": [
  {
   "cell_type": "code",
   "execution_count": 2,
   "metadata": {},
   "outputs": [],
   "source": [
    "from newspaper import Article, fulltext\n",
    "import requests, string"
   ]
  },
  {
   "cell_type": "code",
   "execution_count": 4,
   "metadata": {},
   "outputs": [
    {
     "name": "stdout",
     "output_type": "stream",
     "text": [
      "Dolar/TL kuru haftaya rekorla başladı: 9,85\n",
      "\n",
      "25 Ekim 2021 Güncelleme bir saat önce\n",
      "\n",
      "Kaynak, Getty Images\n",
      "\n",
      "Pazartesi günü Asya piyasalarında işlemlerin başlamasından kısa süre sonra Dolar/TL kuru 9,85'i aşarak rekor kırdı. Euro/TL kuru da 11,46'yı aştı.\n",
      "\n",
      "Merkez Bankası'nın geçen hafta piyasa beklentilerinin üzerinde bir indirimle politika faizini 200 baz puan düşürerek yüzde 16'ya çekmesinin ardından Türk Lirası'nda değer kaybı hızlanmıştı.\n",
      "\n",
      "Dolar/TL kuru 9,66'yı, Euro/TL kuru ise 11,25'i görmüş; gram altın da döviz kurundaki yukarı yönlü seyirden etkilenerek 561 TL'ye çıkmıştı.\n",
      "\n",
      "Bazı uzmanlar Cumhurbaşkanı Recep Tayyip Erdoğan'ın, Osman Kavala'nın serbest bırakılması çağrısı yapan 10 ülkenin büyükelçilerinin \"istenmeyen kişi\" ilan edilmelerini istemesinin de piyasaları olumsuz etkileyebileceğini söylüyor.\n",
      "\n",
      "Twitter'da bir paylaşım yapan ABD merkezli düşünce kuruluşu Washington Institute'tan Soner Cağaptay, Erdoğan'ın bu açıklamayı piyasaların kapalı olduğu Cumartesi gününde yapmasının Türk ekonomisi için büyük bir şans olduğunu söyledi.\n",
      "\n",
      "Merkezi Londra'da bulunan BlueBay portföy yönetimi şirketinin gelişmekte olan piyasalar masasından stratejist Timothy Ash ise Reuters haber ajansına yaptığı değerlendirmede Pazartesi günü Türk finans piyasaları için endişelendiğini söyledi.\n",
      "\n",
      "Ash, kaçınılmaz bir biçimde TL'nin yoğun satış baskısı altına gireceğini ifade ederek şunları aktardı:\n",
      "\n",
      "\"Hepimiz biliyoruz ki [Merkez Bankası Başkanı] Şahap Kavcıoğlu'nun faiz artırma yetkisi yok. Bu yüzden tek savunma, Merkez Bankası'nın sahip olmadığı döviz rezervlerini harcamak olacak.\"\n",
      "\n",
      "Cumhurbaşkanlığı kabinesi bugün TSİ 15.00'te Cumhurbaşkanı Erdoğan'ın başkanlığında toplanacak.\n",
      "\n",
      "Yabancı bankalar ne öngörüyor?\n",
      "\n",
      "Barclays ve Goldman Sachs bankaları, Merkez Bankası'nın faiz indirimlerine devam edeceği tahmininde bulundu.\n",
      "\n",
      "Reuters haber ajansına göre iki banka da yıl sonunda politika faizinin yüzde 15 olacağını öngörüyor.\n",
      "\n",
      "Goldman Sachs'ın tahmininde Para Politika Kurulu'nun öncelikle 50 baz puan faiz indirimine gideceğini, sonraki iki toplantıda da 25 baz puanlık indirimler yapılacağı yer aldı.\n",
      "\n",
      "Goldman Sachs'a göre, yüksek enflasyon nedeniyle bu yanlış bir karar olacak:\n",
      "\n",
      "\"Türk ekonomisinin esas probleminin büyümenin artması yerine, zaten yüksek seviyede olan enflasyonun artacak olması.\n"
     ]
    }
   ],
   "source": [
    "url='https://www.bbc.com/turkce/haberler-turkiye-59032961'\n",
    "article=Article(url)\n",
    "article.download()\n",
    "article.parse()\n",
    "\n",
    "text=article.text\n",
    "print(text)"
   ]
  },
  {
   "cell_type": "code",
   "execution_count": 27,
   "metadata": {},
   "outputs": [
    {
     "name": "stdout",
     "output_type": "stream",
     "text": [
      "dolartl kuru haftaya rekorla başladı 985\n",
      "\n",
      "25 ekim 2021 güncelleme bir saat önce\n",
      "\n",
      "kaynak getty images\n",
      "\n",
      "pazartesi günü asya piyasalarında işlemlerin başlamasından kısa süre sonra dolartl kuru 985i aşarak rekor kırdı eurotl kuru da 1146yı aştı\n",
      "\n",
      "merkez bankasının geçen hafta piyasa beklentilerinin üzerinde bir indirimle politika faizini 200 baz puan düşürerek yüzde 16ya çekmesinin ardından türk lirasında değer kaybı hızlanmıştı\n",
      "\n",
      "dolartl kuru 966yı eurotl kuru ise 1125i görmüş gram altın da döviz kurundaki yukarı yönlü seyirden etkilenerek 561 tlye çıkmıştı\n",
      "\n",
      "bazı uzmanlar cumhurbaşkanı recep tayyip erdoğanın osman kavalanın serbest bırakılması çağrısı yapan 10 ülkenin büyükelçilerinin istenmeyen kişi ilan edilmelerini istemesinin de piyasaları olumsuz etkileyebileceğini söylüyor\n",
      "\n",
      "twitterda bir paylaşım yapan abd merkezli düşünce kuruluşu washington institutetan soner cağaptay erdoğanın bu açıklamayı piyasaların kapalı olduğu cumartesi gününde yapmasının türk ekonomisi için büyük bir şans olduğunu söyledi\n",
      "\n",
      "merkezi londrada bulunan bluebay portföy yönetimi şirketinin gelişmekte olan piyasalar masasından stratejist timothy ash ise reuters haber ajansına yaptığı değerlendirmede pazartesi günü türk finans piyasaları için endişelendiğini söyledi\n",
      "\n",
      "ash kaçınılmaz bir biçimde tlnin yoğun satış baskısı altına gireceğini ifade ederek şunları aktardı\n",
      "\n",
      "hepimiz biliyoruz ki merkez bankası başkanı şahap kavcıoğlunun faiz artırma yetkisi yok bu yüzden tek savunma merkez bankasının sahip olmadığı döviz rezervlerini harcamak olacak\n",
      "\n",
      "cumhurbaşkanlığı kabinesi bugün tsi̇ 1500te cumhurbaşkanı erdoğanın başkanlığında toplanacak\n",
      "\n",
      "yabancı bankalar ne öngörüyor\n",
      "\n",
      "barclays ve goldman sachs bankaları merkez bankasının faiz indirimlerine devam edeceği tahmininde bulundu\n",
      "\n",
      "reuters haber ajansına göre iki banka da yıl sonunda politika faizinin yüzde 15 olacağını öngörüyor\n",
      "\n",
      "goldman sachsın tahmininde para politika kurulunun öncelikle 50 baz puan faiz indirimine gideceğini sonraki iki toplantıda da 25 baz puanlık indirimler yapılacağı yer aldı\n",
      "\n",
      "goldman sachsa göre yüksek enflasyon nedeniyle bu yanlış bir karar olacak\n",
      "\n",
      "türk ekonomisinin esas probleminin büyümenin artması yerine zaten yüksek seviyede olan enflasyonun artacak olması\n"
     ]
    }
   ],
   "source": [
    "clean_text = text.translate(str.maketrans('','', string.punctuation)).lower()\n",
    "print(clean_text)"
   ]
  },
  {
   "cell_type": "code",
   "execution_count": 28,
   "metadata": {},
   "outputs": [
    {
     "name": "stdout",
     "output_type": "stream",
     "text": [
      "{'yani', 'gibi', 'tüm', 'da', 'nereye', 'bu', 'sanki', 'nerde', 'belki', 'her', 'biz', 'nasıl', 'de', 'siz', 'ama', 'ile', 'daha', 'kez', 'ise', 'çok', 'niçin', 'mü', 'defa', 'mu', 've', 'eğer', 'mı', 'kim', 'ne', 'ya', 'çünkü', 'acaba', 'aslında', 'biri', 'hepsi', 'niye', 'ki', 'neden', 'o', 'şey', 'veya', 'şu', 'birşey', 'hep', 'hem', 'hiç', 'birkaç', 'en', 'için', 'bazı', 'nerede', 'az', 'diye'}\n"
     ]
    },
    {
     "name": "stderr",
     "output_type": "stream",
     "text": [
      "[nltk_data] Downloading package stopwords to\n",
      "[nltk_data]     C:\\Users\\barkin\\AppData\\Roaming\\nltk_data...\n",
      "[nltk_data]   Package stopwords is already up-to-date!\n"
     ]
    }
   ],
   "source": [
    "import nltk\n",
    "import re\n",
    "from nltk.corpus import stopwords\n",
    "nltk.download('stopwords')\n",
    "\n",
    "my_stopwords=set(stopwords.words('turkish'))\n",
    "print(my_stopwords)"
   ]
  },
  {
   "cell_type": "code",
   "execution_count": 29,
   "metadata": {},
   "outputs": [
    {
     "name": "stdout",
     "output_type": "stream",
     "text": [
      "['dolartl', 'kuru', 'haftaya', 'rekorla', 'başladı', '985', '25', 'ekim', '2021', 'güncelleme', 'bir', 'saat', 'önce', 'kaynak', 'getty', 'images', 'pazartesi', 'günü', 'asya', 'piyasalarında', 'işlemlerin', 'başlamasından', 'kısa', 'süre', 'sonra', 'dolartl', 'kuru', '985i', 'aşarak', 'rekor', 'kırdı', 'eurotl', 'kuru', 'da', '1146yı', 'aştı', 'merkez', 'bankasının', 'geçen', 'hafta', 'piyasa', 'beklentilerinin', 'üzerinde', 'bir', 'indirimle', 'politika', 'faizini', '200', 'baz', 'puan', 'düşürerek', 'yüzde', '16ya', 'çekmesinin', 'ardından', 'türk', 'lirasında', 'değer', 'kaybı', 'hızlanmıştı', 'dolartl', 'kuru', '966yı', 'eurotl', 'kuru', 'ise', '1125i', 'görmüş', 'gram', 'altın', 'da', 'döviz', 'kurundaki', 'yukarı', 'yönlü', 'seyirden', 'etkilenerek', '561', 'tlye', 'çıkmıştı', 'bazı', 'uzmanlar', 'cumhurbaşkanı', 'recep', 'tayyip', 'erdoğanın', 'osman', 'kavalanın', 'serbest', 'bırakılması', 'çağrısı', 'yapan', '10', 'ülkenin', 'büyükelçilerinin', 'istenmeyen', 'kişi', 'ilan', 'edilmelerini', 'istemesinin', 'de', 'piyasaları', 'olumsuz', 'etkileyebileceğini', 'söylüyor', 'twitterda', 'bir', 'paylaşım', 'yapan', 'abd', 'merkezli', 'düşünce', 'kuruluşu', 'washington', 'institutetan', 'soner', 'cağaptay', 'erdoğanın', 'bu', 'açıklamayı', 'piyasaların', 'kapalı', 'olduğu', 'cumartesi', 'gününde', 'yapmasının', 'türk', 'ekonomisi', 'için', 'büyük', 'bir', 'şans', 'olduğunu', 'söyledi', 'merkezi', 'londrada', 'bulunan', 'bluebay', 'portföy', 'yönetimi', 'şirketinin', 'gelişmekte', 'olan', 'piyasalar', 'masasından', 'stratejist', 'timothy', 'ash', 'ise', 'reuters', 'haber', 'ajansına', 'yaptığı', 'değerlendirmede', 'pazartesi', 'günü', 'türk', 'finans', 'piyasaları', 'için', 'endişelendiğini', 'söyledi', 'ash', 'kaçınılmaz', 'bir', 'biçimde', 'tlnin', 'yoğun', 'satış', 'baskısı', 'altına', 'gireceğini', 'ifade', 'ederek', 'şunları', 'aktardı', 'hepimiz', 'biliyoruz', 'ki', 'merkez', 'bankası', 'başkanı', 'şahap', 'kavcıoğlunun', 'faiz', 'artırma', 'yetkisi', 'yok', 'bu', 'yüzden', 'tek', 'savunma', 'merkez', 'bankasının', 'sahip', 'olmadığı', 'döviz', 'rezervlerini', 'harcamak', 'olacak', 'cumhurbaşkanlığı', 'kabinesi', 'bugün', 'tsi̇', '1500te', 'cumhurbaşkanı', 'erdoğanın', 'başkanlığında', 'toplanacak', 'yabancı', 'bankalar', 'ne', 'öngörüyor', 'barclays', 've', 'goldman', 'sachs', 'bankaları', 'merkez', 'bankasının', 'faiz', 'indirimlerine', 'devam', 'edeceği', 'tahmininde', 'bulundu', 'reuters', 'haber', 'ajansına', 'göre', 'iki', 'banka', 'da', 'yıl', 'sonunda', 'politika', 'faizinin', 'yüzde', '15', 'olacağını', 'öngörüyor', 'goldman', 'sachsın', 'tahmininde', 'para', 'politika', 'kurulunun', 'öncelikle', '50', 'baz', 'puan', 'faiz', 'indirimine', 'gideceğini', 'sonraki', 'iki', 'toplantıda', 'da', '25', 'baz', 'puanlık', 'indirimler', 'yapılacağı', 'yer', 'aldı', 'goldman', 'sachsa', 'göre', 'yüksek', 'enflasyon', 'nedeniyle', 'bu', 'yanlış', 'bir', 'karar', 'olacak', 'türk', 'ekonomisinin', 'esas', 'probleminin', 'büyümenin', 'artması', 'yerine', 'zaten', 'yüksek', 'seviyede', 'olan', 'enflasyonun', 'artacak', 'olması']\n"
     ]
    }
   ],
   "source": [
    "# Tokenization using word_tokenize()\n",
    "all_tokens=nltk.word_tokenize(clean_text)\n",
    "print(all_tokens)"
   ]
  },
  {
   "cell_type": "code",
   "execution_count": 30,
   "metadata": {},
   "outputs": [
    {
     "name": "stdout",
     "output_type": "stream",
     "text": [
      "['dolartl', 'kuru', 'haftaya', 'rekorla', 'başladı', '985', '25', 'ekim', '2021', 'güncelleme', 'bir', 'saat', 'önce', 'kaynak', 'getty', 'images', 'pazartesi', 'günü', 'asya', 'piyasalarında', 'işlemlerin', 'başlamasından', 'kısa', 'süre', 'sonra', 'dolartl', 'kuru', '985i', 'aşarak', 'rekor', 'kırdı', 'eurotl', 'kuru', '1146yı', 'aştı', 'merkez', 'bankasının', 'geçen', 'hafta', 'piyasa', 'beklentilerinin', 'üzerinde', 'bir', 'indirimle', 'politika', 'faizini', '200', 'baz', 'puan', 'düşürerek', 'yüzde', '16ya', 'çekmesinin', 'ardından', 'türk', 'lirasında', 'değer', 'kaybı', 'hızlanmıştı', 'dolartl', 'kuru', '966yı', 'eurotl', 'kuru', '1125i', 'görmüş', 'gram', 'altın', 'döviz', 'kurundaki', 'yukarı', 'yönlü', 'seyirden', 'etkilenerek', '561', 'tlye', 'çıkmıştı', 'uzmanlar', 'cumhurbaşkanı', 'recep', 'tayyip', 'erdoğanın', 'osman', 'kavalanın', 'serbest', 'bırakılması', 'çağrısı', 'yapan', '10', 'ülkenin', 'büyükelçilerinin', 'istenmeyen', 'kişi', 'ilan', 'edilmelerini', 'istemesinin', 'piyasaları', 'olumsuz', 'etkileyebileceğini', 'söylüyor', 'twitterda', 'bir', 'paylaşım', 'yapan', 'abd', 'merkezli', 'düşünce', 'kuruluşu', 'washington', 'institutetan', 'soner', 'cağaptay', 'erdoğanın', 'açıklamayı', 'piyasaların', 'kapalı', 'olduğu', 'cumartesi', 'gününde', 'yapmasının', 'türk', 'ekonomisi', 'büyük', 'bir', 'şans', 'olduğunu', 'söyledi', 'merkezi', 'londrada', 'bulunan', 'bluebay', 'portföy', 'yönetimi', 'şirketinin', 'gelişmekte', 'olan', 'piyasalar', 'masasından', 'stratejist', 'timothy', 'ash', 'reuters', 'haber', 'ajansına', 'yaptığı', 'değerlendirmede', 'pazartesi', 'günü', 'türk', 'finans', 'piyasaları', 'endişelendiğini', 'söyledi', 'ash', 'kaçınılmaz', 'bir', 'biçimde', 'tlnin', 'yoğun', 'satış', 'baskısı', 'altına', 'gireceğini', 'ifade', 'ederek', 'şunları', 'aktardı', 'hepimiz', 'biliyoruz', 'merkez', 'bankası', 'başkanı', 'şahap', 'kavcıoğlunun', 'faiz', 'artırma', 'yetkisi', 'yok', 'yüzden', 'tek', 'savunma', 'merkez', 'bankasının', 'sahip', 'olmadığı', 'döviz', 'rezervlerini', 'harcamak', 'olacak', 'cumhurbaşkanlığı', 'kabinesi', 'bugün', 'tsi̇', '1500te', 'cumhurbaşkanı', 'erdoğanın', 'başkanlığında', 'toplanacak', 'yabancı', 'bankalar', 'öngörüyor', 'barclays', 'goldman', 'sachs', 'bankaları', 'merkez', 'bankasının', 'faiz', 'indirimlerine', 'devam', 'edeceği', 'tahmininde', 'bulundu', 'reuters', 'haber', 'ajansına', 'göre', 'iki', 'banka', 'yıl', 'sonunda', 'politika', 'faizinin', 'yüzde', '15', 'olacağını', 'öngörüyor', 'goldman', 'sachsın', 'tahmininde', 'para', 'politika', 'kurulunun', 'öncelikle', '50', 'baz', 'puan', 'faiz', 'indirimine', 'gideceğini', 'sonraki', 'iki', 'toplantıda', '25', 'baz', 'puanlık', 'indirimler', 'yapılacağı', 'yer', 'aldı', 'goldman', 'sachsa', 'göre', 'yüksek', 'enflasyon', 'nedeniyle', 'yanlış', 'bir', 'karar', 'olacak', 'türk', 'ekonomisinin', 'esas', 'probleminin', 'büyümenin', 'artması', 'yerine', 'zaten', 'yüksek', 'seviyede', 'olan', 'enflasyonun', 'artacak', 'olması']\n"
     ]
    }
   ],
   "source": [
    "words=[]\n",
    "for token in all_tokens:\n",
    "    if token not in my_stopwords:\n",
    "        words.append(token)\n",
    "print(words)"
   ]
  },
  {
   "cell_type": "code",
   "execution_count": 41,
   "metadata": {},
   "outputs": [
    {
     "data": {
      "text/plain": [
       "7"
      ]
     },
     "execution_count": 41,
     "metadata": {},
     "output_type": "execute_result"
    }
   ],
   "source": [
    "import pandas as pd\n",
    "\n",
    "count_bigrams = (pd.Series(nltk.ngrams(words, 2)).value_counts())\n",
    "len(count_bigrams[count_bigrams > 1])"
   ]
  },
  {
   "cell_type": "code",
   "execution_count": 42,
   "metadata": {},
   "outputs": [
    {
     "data": {
      "text/plain": [
       "1"
      ]
     },
     "execution_count": 42,
     "metadata": {},
     "output_type": "execute_result"
    }
   ],
   "source": [
    "count_trigrams = (pd.Series(nltk.ngrams(words, 3)).value_counts())\n",
    "len(count_trigrams[count_trigrams > 1])"
   ]
  },
  {
   "cell_type": "code",
   "execution_count": 40,
   "metadata": {},
   "outputs": [
    {
     "name": "stdout",
     "output_type": "stream",
     "text": [
      "(merkez, bankasının)          3\n",
      "(dolartl, kuru)               3\n",
      "(reuters, haber)              2\n",
      "(baz, puan)                   2\n",
      "(haber, ajansına)             2\n",
      "(eurotl, kuru)                2\n",
      "(pazartesi, günü)             2\n",
      "(yaptığı, değerlendirmede)    1\n",
      "(cağaptay, erdoğanın)         1\n",
      "(bir, saat)                   1\n",
      "(1500te, cumhurbaşkanı)       1\n",
      "(önce, kaynak)                1\n",
      "(bluebay, portföy)            1\n",
      "(şirketinin, gelişmekte)      1\n",
      "(politika, faizinin)          1\n",
      "(olacağını, öngörüyor)        1\n",
      "(bankaları, merkez)           1\n",
      "(15, olacağını)               1\n",
      "(sachsa, göre)                1\n",
      "(kavalanın, serbest)          1\n",
      "dtype: int64\n",
      "(reuters, haber, ajansına)               2\n",
      "(türk, lirasında, değer)                 1\n",
      "(bırakılması, çağrısı, yapan)            1\n",
      "(yaptığı, değerlendirmede, pazartesi)    1\n",
      "(faizini, 200, baz)                      1\n",
      "(toplanacak, yabancı, bankalar)          1\n",
      "(iki, toplantıda, 25)                    1\n",
      "(indirimlerine, devam, edeceği)          1\n",
      "(iki, banka, yıl)                        1\n",
      "(erdoğanın, osman, kavalanın)            1\n",
      "(goldman, sachs, bankaları)              1\n",
      "(önce, kaynak, getty)                    1\n",
      "(artırma, yetkisi, yok)                  1\n",
      "(çekmesinin, ardından, türk)             1\n",
      "(yok, yüzden, tek)                       1\n",
      "(zaten, yüksek, seviyede)                1\n",
      "(şans, olduğunu, söyledi)                1\n",
      "(25, ekim, 2021)                         1\n",
      "(öncelikle, 50, baz)                     1\n",
      "(devam, edeceği, tahmininde)             1\n",
      "dtype: int64\n"
     ]
    }
   ],
   "source": [
    "bigram_series = (count_bigrams)[:20]\n",
    "trigram_series = (count_trigrams)[:20]\n",
    "print(bigram_series)\n",
    "print(trigram_series)"
   ]
  },
  {
   "cell_type": "markdown",
   "metadata": {},
   "source": [
    "**Importance of lemmatization**<br />",
    "Because Turkish is an agglutinative language some words are getting tokenized wrongly and \n",
    "therefore lemmatized wrongly.\n",
    "Hence lemmatization of the Turkish language is important.\n",
    "\n",
    "**Where N-grams can be used?**<br />",
    "N-Grams are useful for turning written language into data, and breaking down larger \n",
    "portions of search data into more meaningful segments that help to identify the root cause \n",
    "behind trends.\n",
    "\n",
    "**Applications of Ngrams**<br />",
    "Spelling error detection and correction, query expansion, information retrieval with\n",
    "serial, inverted and signature files, dictionary look‐up, text compression, and language \n",
    "identification."
   ]
  }
 ],
 "metadata": {
  "kernelspec": {
   "display_name": "Python 3",
   "language": "python",
   "name": "python3"
  },
  "language_info": {
   "codemirror_mode": {
    "name": "ipython",
    "version": 3
   },
   "file_extension": ".py",
   "mimetype": "text/x-python",
   "name": "python",
   "nbconvert_exporter": "python",
   "pygments_lexer": "ipython3",
   "version": "3.8.5"
  }
 },
 "nbformat": 4,
 "nbformat_minor": 4
}
