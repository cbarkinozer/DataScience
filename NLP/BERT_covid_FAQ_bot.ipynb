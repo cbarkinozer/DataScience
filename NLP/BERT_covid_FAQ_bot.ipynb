{
 "cells": [
  {
   "cell_type": "markdown",
   "metadata": {},
   "source": [
    "Data link: https://www.kaggle.com/narendrageek/covid19-frequent-asked-questions"
   ]
  },
  {
   "cell_type": "code",
   "execution_count": 1,
   "metadata": {},
   "outputs": [
    {
     "name": "stdout",
     "output_type": "stream",
     "text": [
      "Requirement already satisfied: transformers in c:\\users\\barkin\\anaconda3\\lib\\site-packages (4.15.0)\n",
      "Requirement already satisfied: numpy>=1.17 in c:\\users\\barkin\\anaconda3\\lib\\site-packages (from transformers) (1.19.2)\n",
      "Requirement already satisfied: filelock in c:\\users\\barkin\\anaconda3\\lib\\site-packages (from transformers) (3.0.12)\n",
      "Requirement already satisfied: pyyaml>=5.1 in c:\\users\\barkin\\anaconda3\\lib\\site-packages (from transformers) (5.3.1)\n",
      "Requirement already satisfied: requests in c:\\users\\barkin\\anaconda3\\lib\\site-packages (from transformers) (2.24.0)\n",
      "Requirement already satisfied: huggingface-hub<1.0,>=0.1.0 in c:\\users\\barkin\\anaconda3\\lib\\site-packages (from transformers) (0.2.1)\n",
      "Requirement already satisfied: packaging>=20.0 in c:\\users\\barkin\\anaconda3\\lib\\site-packages (from transformers) (20.4)\n",
      "Requirement already satisfied: sacremoses in c:\\users\\barkin\\anaconda3\\lib\\site-packages (from transformers) (0.0.46)\n",
      "Requirement already satisfied: regex!=2019.12.17 in c:\\users\\barkin\\anaconda3\\lib\\site-packages (from transformers) (2020.10.15)\n",
      "Requirement already satisfied: tqdm>=4.27 in c:\\users\\barkin\\anaconda3\\lib\\site-packages (from transformers) (4.50.2)\n",
      "Requirement already satisfied: tokenizers<0.11,>=0.10.1 in c:\\users\\barkin\\anaconda3\\lib\\site-packages (from transformers) (0.10.3)\n",
      "Requirement already satisfied: urllib3!=1.25.0,!=1.25.1,<1.26,>=1.21.1 in c:\\users\\barkin\\anaconda3\\lib\\site-packages (from requests->transformers) (1.25.11)\n",
      "Requirement already satisfied: idna<3,>=2.5 in c:\\users\\barkin\\anaconda3\\lib\\site-packages (from requests->transformers) (2.10)\n",
      "Requirement already satisfied: certifi>=2017.4.17 in c:\\users\\barkin\\anaconda3\\lib\\site-packages (from requests->transformers) (2020.6.20)\n",
      "Requirement already satisfied: chardet<4,>=3.0.2 in c:\\users\\barkin\\anaconda3\\lib\\site-packages (from requests->transformers) (3.0.4)\n",
      "Requirement already satisfied: typing-extensions>=3.7.4.3 in c:\\users\\barkin\\anaconda3\\lib\\site-packages (from huggingface-hub<1.0,>=0.1.0->transformers) (3.7.4.3)\n",
      "Requirement already satisfied: pyparsing>=2.0.2 in c:\\users\\barkin\\anaconda3\\lib\\site-packages (from packaging>=20.0->transformers) (2.4.7)\n",
      "Requirement already satisfied: six in c:\\users\\barkin\\anaconda3\\lib\\site-packages (from packaging>=20.0->transformers) (1.15.0)\n",
      "Requirement already satisfied: joblib in c:\\users\\barkin\\anaconda3\\lib\\site-packages (from sacremoses->transformers) (0.17.0)\n",
      "Requirement already satisfied: click in c:\\users\\barkin\\anaconda3\\lib\\site-packages (from sacremoses->transformers) (7.1.2)\n"
     ]
    }
   ],
   "source": [
    "!pip install transformers"
   ]
  },
  {
   "cell_type": "code",
   "execution_count": 2,
   "metadata": {},
   "outputs": [],
   "source": [
    "import tensorflow as tf\n",
    "from transformers import BertTokenizer\n",
    "from transformers import TFBertForQuestionAnswering\n",
    "from transformers import TFTrainer, TFTrainingArguments\n",
    "import numpy as np\n",
    "import pandas as pd\n",
    "from sklearn.decomposition import TruncatedSVD\n",
    "from sklearn.metrics.pairwise import cosine_similarity\n",
    "import spacy"
   ]
  },
  {
   "cell_type": "code",
   "execution_count": 3,
   "metadata": {},
   "outputs": [],
   "source": [
    "data= pd.read_csv('COVID19_FAQ.csv')"
   ]
  },
  {
   "cell_type": "code",
   "execution_count": 7,
   "metadata": {},
   "outputs": [],
   "source": [
    "nlp = spacy.load('en_core_web_sm')"
   ]
  },
  {
   "cell_type": "code",
   "execution_count": 4,
   "metadata": {},
   "outputs": [
    {
     "data": {
      "text/html": [
       "<div>\n",
       "<style scoped>\n",
       "    .dataframe tbody tr th:only-of-type {\n",
       "        vertical-align: middle;\n",
       "    }\n",
       "\n",
       "    .dataframe tbody tr th {\n",
       "        vertical-align: top;\n",
       "    }\n",
       "\n",
       "    .dataframe thead th {\n",
       "        text-align: right;\n",
       "    }\n",
       "</style>\n",
       "<table border=\"1\" class=\"dataframe\">\n",
       "  <thead>\n",
       "    <tr style=\"text-align: right;\">\n",
       "      <th></th>\n",
       "      <th>questions</th>\n",
       "      <th>answers</th>\n",
       "    </tr>\n",
       "  </thead>\n",
       "  <tbody>\n",
       "    <tr>\n",
       "      <th>0</th>\n",
       "      <td>1. How does COVID-19 spread?</td>\n",
       "      <td>People can catch COVID-19 from others who have...</td>\n",
       "    </tr>\n",
       "    <tr>\n",
       "      <th>1</th>\n",
       "      <td>2. What are the symptoms of COVID-19?</td>\n",
       "      <td>The most common symptoms of COVID-19 are fever...</td>\n",
       "    </tr>\n",
       "    <tr>\n",
       "      <th>2</th>\n",
       "      <td>3. How do I know if it is COVID-19 or just the...</td>\n",
       "      <td>A COVID-19 infection has the same signs and sy...</td>\n",
       "    </tr>\n",
       "    <tr>\n",
       "      <th>3</th>\n",
       "      <td>4. Can the virus that causes COVID-19 be trans...</td>\n",
       "      <td>Studies to date suggest that the virus that ca...</td>\n",
       "    </tr>\n",
       "    <tr>\n",
       "      <th>4</th>\n",
       "      <td>5. What can I do to protect myself and prevent...</td>\n",
       "      <td>Protection measures for everyone   Stay aware ...</td>\n",
       "    </tr>\n",
       "  </tbody>\n",
       "</table>\n",
       "</div>"
      ],
      "text/plain": [
       "                                           questions  \\\n",
       "0                       1. How does COVID-19 spread?   \n",
       "1              2. What are the symptoms of COVID-19?   \n",
       "2  3. How do I know if it is COVID-19 or just the...   \n",
       "3  4. Can the virus that causes COVID-19 be trans...   \n",
       "4  5. What can I do to protect myself and prevent...   \n",
       "\n",
       "                                             answers  \n",
       "0  People can catch COVID-19 from others who have...  \n",
       "1  The most common symptoms of COVID-19 are fever...  \n",
       "2  A COVID-19 infection has the same signs and sy...  \n",
       "3  Studies to date suggest that the virus that ca...  \n",
       "4  Protection measures for everyone   Stay aware ...  "
      ]
     },
     "execution_count": 4,
     "metadata": {},
     "output_type": "execute_result"
    }
   ],
   "source": [
    "data.head()"
   ]
  },
  {
   "cell_type": "code",
   "execution_count": 8,
   "metadata": {},
   "outputs": [],
   "source": [
    "#Seperating sentences to words.\n",
    "question_vectors=[nlp(x).vector for x in data['questions'].values]"
   ]
  },
  {
   "cell_type": "code",
   "execution_count": 9,
   "metadata": {},
   "outputs": [],
   "source": [
    "#Vectorization of words and finding similarity matrix of words using cosine similarity.\n",
    "svd=TruncatedSVD(n_components=3)\n",
    "svd_questions=svd.fit_transform(question_vectors)\n",
    "cos_sim=cosine_similarity(svd_questions,svd_questions)"
   ]
  },
  {
   "cell_type": "code",
   "execution_count": 36,
   "metadata": {},
   "outputs": [
    {
     "name": "stdout",
     "output_type": "stream",
     "text": [
      "Please enter your question: how covid spread?\n"
     ]
    }
   ],
   "source": [
    "question=input(\"Please enter your question: \")\n",
    "my_question_vector=np.stack([nlp(question).vector])\n",
    "question_vectors=np.append(question_vectors,my_question_vector,axis=0)\n",
    "svd_questions=svd.fit_transform(question_vectors)\n",
    "cos_sim=cosine_similarity(svd_questions,svd_questions)"
   ]
  },
  {
   "cell_type": "code",
   "execution_count": 42,
   "metadata": {},
   "outputs": [
    {
     "name": "stdout",
     "output_type": "stream",
     "text": [
      "67    0.937804\n",
      "0     0.837722\n",
      "48    0.804925\n",
      "43    0.787931\n",
      "6     0.780949\n",
      "20    0.775102\n",
      "28    0.736660\n",
      "37    0.717705\n",
      "18    0.715567\n",
      "Name: 68, dtype: float32\n",
      "Enter the sentence number that is smaller than 1.0: 0\n",
      "People can catch COVID-19 from others who have the virus. The disease can spread from person   to person through small droplets from the nose or mouth which are spread when a person with   COVID-19 coughs or exhales. These droplets land on objects and surfaces around the person.   Other people then catch COVID-19 by touching these objects or surfaces, then touching their   eyes, nose or mouth. People can also catch COVID-19 if they breathe in droplets from a person   with COVID-19 who coughs out or exhales droplets. This is why it is important to stay more than   1 meter (3 feet) away from a person who is sick.\n"
     ]
    }
   ],
   "source": [
    "print(pd.DataFrame(cos_sim)[68].sort_values(ascending=False)[1:10])\n",
    "number=int(input(\"Enter the sentence number that is smaller than 1.0: \"))\n",
    "answer=data['answers'][number]\n",
    "print(answer)"
   ]
  },
  {
   "cell_type": "code",
   "execution_count": 43,
   "metadata": {},
   "outputs": [],
   "source": [
    "tokenizer= BertTokenizer.from_pretrained(\"bert-large-uncased-whole-word-masking-finetuned-squad\")"
   ]
  },
  {
   "cell_type": "code",
   "execution_count": 44,
   "metadata": {},
   "outputs": [],
   "source": [
    "input_dict=(tokenizer((question,answer),return_tensors='tf',padding=True,truncation=True))"
   ]
  },
  {
   "cell_type": "code",
   "execution_count": 45,
   "metadata": {},
   "outputs": [
    {
     "name": "stderr",
     "output_type": "stream",
     "text": [
      "All model checkpoint layers were used when initializing TFBertForQuestionAnswering.\n",
      "\n",
      "All the layers of TFBertForQuestionAnswering were initialized from the model checkpoint at bert-large-uncased-whole-word-masking-finetuned-squad.\n",
      "If your task is similar to the task the model of the checkpoint was trained on, you can already use TFBertForQuestionAnswering for predictions without further training.\n"
     ]
    }
   ],
   "source": [
    "#bert-large-uncased-whole-word-masking-finetuned-squad: 1.25GB\n",
    "model=TFBertForQuestionAnswering.from_pretrained(\"bert-large-uncased-whole-word-masking-finetuned-squad\")\n",
    "outputs=model(input_dict)"
   ]
  },
  {
   "cell_type": "code",
   "execution_count": 46,
   "metadata": {},
   "outputs": [],
   "source": [
    "start_logits=outputs.start_logits\n",
    "end_logits=outputs.end_logits"
   ]
  },
  {
   "cell_type": "code",
   "execution_count": 70,
   "metadata": {},
   "outputs": [],
   "source": [
    "all_tokens=tokenizer.convert_ids_to_tokens(input_dict[\"input_ids\"].numpy()[1])\n",
    "answer=' '.join(all_tokens[tf.math.argmax(start_logits,1)[1]:tf.math.argmax(end_logits,1)[1]+1])"
   ]
  },
  {
   "cell_type": "code",
   "execution_count": 73,
   "metadata": {},
   "outputs": [
    {
     "name": "stdout",
     "output_type": "stream",
     "text": [
      "other people then catch covid - 19 by touching these objects or surfaces , then touching their eyes , nose or mouth . people can also catch covid - 19 if they breathe in droplets from a person with covid - 19 who coughs out or exhales droplets [CLS] people can catch covid - 19 from others who have the virus . the disease can spread from person to person through small droplets from the nose or mouth which are spread when a person with covid - 19 coughs or exhales . these droplets land on objects and surfaces around the person . other people then catch covid - 19 by touching these objects or surfaces , then touching their eyes , nose or mouth . people can also catch covid - 19 if they breathe in droplets from a person with covid - 19 who coughs out or exhales droplets . this is why it is important to stay more than 1 meter ( 3 feet ) away from a person who is sick . [SEP]\n"
     ]
    }
   ],
   "source": [
    "#BERT use wordpiece tokenization, rare words get broken down into subwords.\n",
    "#Wordpiece tokenization uses ## to delimit tokens that have been split.\n",
    "answer= answer.replace(\" ##\",\"\")\n",
    "print(answer)"
   ]
  }
 ],
 "metadata": {
  "kernelspec": {
   "display_name": "Python 3",
   "language": "python",
   "name": "python3"
  },
  "language_info": {
   "codemirror_mode": {
    "name": "ipython",
    "version": 3
   },
   "file_extension": ".py",
   "mimetype": "text/x-python",
   "name": "python",
   "nbconvert_exporter": "python",
   "pygments_lexer": "ipython3",
   "version": "3.8.5"
  }
 },
 "nbformat": 4,
 "nbformat_minor": 4
}
