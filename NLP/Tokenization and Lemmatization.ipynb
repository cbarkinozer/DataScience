{
 "cells": [
  {
   "cell_type": "code",
   "execution_count": 33,
   "metadata": {},
   "outputs": [
    {
     "name": "stdout",
     "output_type": "stream",
     "text": [
      "Collecting zeyrek\n",
      "  Downloading zeyrek-0.1.2-py2.py3-none-any.whl (930 kB)\n",
      "Requirement already satisfied: nltk>=3 in c:\\users\\barkin\\anaconda3\\lib\\site-packages (from zeyrek) (3.5)\n",
      "Requirement already satisfied: regex in c:\\users\\barkin\\anaconda3\\lib\\site-packages (from nltk>=3->zeyrek) (2020.10.15)\n",
      "Requirement already satisfied: joblib in c:\\users\\barkin\\anaconda3\\lib\\site-packages (from nltk>=3->zeyrek) (0.17.0)\n",
      "Requirement already satisfied: tqdm in c:\\users\\barkin\\anaconda3\\lib\\site-packages (from nltk>=3->zeyrek) (4.50.2)\n",
      "Requirement already satisfied: click in c:\\users\\barkin\\anaconda3\\lib\\site-packages (from nltk>=3->zeyrek) (7.1.2)\n",
      "Installing collected packages: zeyrek\n",
      "Successfully installed zeyrek-0.1.2\n"
     ]
    }
   ],
   "source": [
    "!pip install zeyrek"
   ]
  },
  {
   "cell_type": "code",
   "execution_count": 11,
   "metadata": {},
   "outputs": [
    {
     "name": "stdout",
     "output_type": "stream",
     "text": [
      "Collecting newspaper3k\n",
      "  Downloading newspaper3k-0.2.8-py3-none-any.whl (211 kB)\n",
      "Collecting tldextract>=2.0.1\n",
      "  Downloading tldextract-3.1.2-py2.py3-none-any.whl (87 kB)\n",
      "Requirement already satisfied: Pillow>=3.3.0 in c:\\users\\barkin\\anaconda3\\lib\\site-packages (from newspaper3k) (8.0.1)\n",
      "Collecting feedparser>=5.2.1\n",
      "  Downloading feedparser-6.0.8-py3-none-any.whl (81 kB)\n",
      "Collecting cssselect>=0.9.2\n",
      "  Downloading cssselect-1.1.0-py2.py3-none-any.whl (16 kB)\n",
      "Requirement already satisfied: PyYAML>=3.11 in c:\\users\\barkin\\anaconda3\\lib\\site-packages (from newspaper3k) (5.3.1)\n",
      "Requirement already satisfied: python-dateutil>=2.5.3 in c:\\users\\barkin\\anaconda3\\lib\\site-packages (from newspaper3k) (2.8.1)\n",
      "Collecting jieba3k>=0.35.1\n",
      "  Downloading jieba3k-0.35.1.zip (7.4 MB)\n",
      "Collecting feedfinder2>=0.0.4\n",
      "  Downloading feedfinder2-0.0.4.tar.gz (3.3 kB)\n",
      "Requirement already satisfied: beautifulsoup4>=4.4.1 in c:\\users\\barkin\\anaconda3\\lib\\site-packages (from newspaper3k) (4.9.3)\n",
      "Requirement already satisfied: lxml>=3.6.0 in c:\\users\\barkin\\anaconda3\\lib\\site-packages (from newspaper3k) (4.6.1)\n",
      "Collecting tinysegmenter==0.3\n",
      "  Downloading tinysegmenter-0.3.tar.gz (16 kB)\n",
      "Requirement already satisfied: nltk>=3.2.1 in c:\\users\\barkin\\anaconda3\\lib\\site-packages (from newspaper3k) (3.5)\n",
      "Requirement already satisfied: requests>=2.10.0 in c:\\users\\barkin\\anaconda3\\lib\\site-packages (from newspaper3k) (2.24.0)\n",
      "Requirement already satisfied: idna in c:\\users\\barkin\\anaconda3\\lib\\site-packages (from tldextract>=2.0.1->newspaper3k) (2.10)\n",
      "Requirement already satisfied: filelock>=3.0.8 in c:\\users\\barkin\\anaconda3\\lib\\site-packages (from tldextract>=2.0.1->newspaper3k) (3.0.12)\n",
      "Collecting requests-file>=1.4\n",
      "  Downloading requests_file-1.5.1-py2.py3-none-any.whl (3.7 kB)\n",
      "Collecting sgmllib3k\n",
      "  Downloading sgmllib3k-1.0.0.tar.gz (5.8 kB)\n",
      "Requirement already satisfied: six>=1.5 in c:\\users\\barkin\\anaconda3\\lib\\site-packages (from python-dateutil>=2.5.3->newspaper3k) (1.15.0)\n",
      "Requirement already satisfied: soupsieve>1.2; python_version >= \"3.0\" in c:\\users\\barkin\\anaconda3\\lib\\site-packages (from beautifulsoup4>=4.4.1->newspaper3k) (2.0.1)\n",
      "Requirement already satisfied: joblib in c:\\users\\barkin\\anaconda3\\lib\\site-packages (from nltk>=3.2.1->newspaper3k) (0.17.0)\n",
      "Requirement already satisfied: regex in c:\\users\\barkin\\anaconda3\\lib\\site-packages (from nltk>=3.2.1->newspaper3k) (2020.10.15)\n",
      "Requirement already satisfied: click in c:\\users\\barkin\\anaconda3\\lib\\site-packages (from nltk>=3.2.1->newspaper3k) (7.1.2)\n",
      "Requirement already satisfied: tqdm in c:\\users\\barkin\\anaconda3\\lib\\site-packages (from nltk>=3.2.1->newspaper3k) (4.50.2)\n",
      "Requirement already satisfied: urllib3!=1.25.0,!=1.25.1,<1.26,>=1.21.1 in c:\\users\\barkin\\anaconda3\\lib\\site-packages (from requests>=2.10.0->newspaper3k) (1.25.11)\n",
      "Requirement already satisfied: chardet<4,>=3.0.2 in c:\\users\\barkin\\anaconda3\\lib\\site-packages (from requests>=2.10.0->newspaper3k) (3.0.4)\n",
      "Requirement already satisfied: certifi>=2017.4.17 in c:\\users\\barkin\\anaconda3\\lib\\site-packages (from requests>=2.10.0->newspaper3k) (2020.6.20)\n",
      "Building wheels for collected packages: jieba3k, feedfinder2, tinysegmenter, sgmllib3k\n",
      "  Building wheel for jieba3k (setup.py): started\n",
      "  Building wheel for jieba3k (setup.py): finished with status 'done'\n",
      "  Created wheel for jieba3k: filename=jieba3k-0.35.1-py3-none-any.whl size=7398411 sha256=efcd67772ce09468b512f1b644ee50e7744fb377a92996ada5104321ea2c5ed1\n",
      "  Stored in directory: c:\\users\\barkin\\appdata\\local\\pip\\cache\\wheels\\1f\\7e\\0c\\54f3b0f5164278677899f2db08f2b07943ce2d024a3c862afb\n",
      "  Building wheel for feedfinder2 (setup.py): started\n",
      "  Building wheel for feedfinder2 (setup.py): finished with status 'done'\n",
      "  Created wheel for feedfinder2: filename=feedfinder2-0.0.4-py3-none-any.whl size=3362 sha256=ffc66f13630d67d9056d1f6c139133a8487b8e7db3f2f993892d3baf98390608\n",
      "  Stored in directory: c:\\users\\barkin\\appdata\\local\\pip\\cache\\wheels\\b6\\09\\68\\a9f15498ac02c23dde29f18745bc6a6f574ba4ab41861a3575\n",
      "  Building wheel for tinysegmenter (setup.py): started\n",
      "  Building wheel for tinysegmenter (setup.py): finished with status 'done'\n",
      "  Created wheel for tinysegmenter: filename=tinysegmenter-0.3-py3-none-any.whl size=13543 sha256=3cafa2b62dd1592ad8154d7638a8382740aa8b54bbd32b01d931ed3901516369\n",
      "  Stored in directory: c:\\users\\barkin\\appdata\\local\\pip\\cache\\wheels\\99\\74\\83\\8fac1c8d9c648cfabebbbffe97a889f6624817f3aa0bbe6c09\n",
      "  Building wheel for sgmllib3k (setup.py): started\n",
      "  Building wheel for sgmllib3k (setup.py): finished with status 'done'\n",
      "  Created wheel for sgmllib3k: filename=sgmllib3k-1.0.0-py3-none-any.whl size=6070 sha256=bda48c53684e747fe2137a7575057e6d8665f6ec5391981cd3e91ba84b654a63\n",
      "  Stored in directory: c:\\users\\barkin\\appdata\\local\\pip\\cache\\wheels\\83\\63\\2f\\117884c3b19d46b64d3d61690333aa80c88dc14050e269c546\n",
      "Successfully built jieba3k feedfinder2 tinysegmenter sgmllib3k\n",
      "Installing collected packages: requests-file, tldextract, sgmllib3k, feedparser, cssselect, jieba3k, feedfinder2, tinysegmenter, newspaper3k\n",
      "Successfully installed cssselect-1.1.0 feedfinder2-0.0.4 feedparser-6.0.8 jieba3k-0.35.1 newspaper3k-0.2.8 requests-file-1.5.1 sgmllib3k-1.0.0 tinysegmenter-0.3 tldextract-3.1.2\n"
     ]
    }
   ],
   "source": [
    "!pip install newspaper3k"
   ]
  },
  {
   "cell_type": "markdown",
   "metadata": {},
   "source": [
    "**The results must be listed by applying at least 2 different tokenizers and 2\n",
    "different lemmatizers representing the Tokenization and Lemmatization processes.**"
   ]
  },
  {
   "cell_type": "code",
   "execution_count": 19,
   "metadata": {},
   "outputs": [
    {
     "name": "stderr",
     "output_type": "stream",
     "text": [
      "[nltk_data] Downloading package punkt to\n",
      "[nltk_data]     C:\\Users\\barkin\\AppData\\Roaming\\nltk_data...\n",
      "[nltk_data]   Unzipping tokenizers\\punkt.zip.\n"
     ]
    }
   ],
   "source": [
    "import nltk\n",
    "from nltk import pos_tag\n",
    "from nltk.probability import FreqDist\n",
    "from nltk.corpus import treebank\n",
    "from newspaper import Article, fulltext\n",
    "import requests, string"
   ]
  },
  {
   "cell_type": "code",
   "execution_count": 13,
   "metadata": {},
   "outputs": [],
   "source": [
    "url='https://www.bbc.com/turkce/haberler-dunya-58938376'\n",
    "article=Article(url)\n",
    "article.download()\n",
    "article.parse()\n",
    "\n",
    "text=article.text"
   ]
  },
  {
   "cell_type": "code",
   "execution_count": 14,
   "metadata": {},
   "outputs": [
    {
     "name": "stdout",
     "output_type": "stream",
     "text": [
      "Rusya’da günlük Covid-19 ölümleri ilk defa 1.000’i aştı\n",
      "\n",
      "16 Ekim 2021\n",
      "\n",
      "Kaynak, Reuters Fotoğraf altı yazısı, Moskova'da Covid-19 tedavisi için hastaneye kaldırılan bir kişi\n",
      "\n",
      "Rusya son 24 saatte Covid-19 nedeniyle hayatını kaybeden kişi sayısının 1.002 olduğunu açıkladı.\n",
      "\n",
      "Bugün açıklanan sayı, pandemi başından bu yana en yüksek günlük ölüm sayısı oldu.\n",
      "\n",
      "Rusya'da günlük ölümler bir haftadır yükselirken Kremlin, bunun sorumlusu olarak aşılanmak istemeyen Rusları gösteriyor.\n",
      "\n",
      "Ülke genelinde aşılara güvenin az olması nedeniyle toplumun yalnızca üçte biri aşı oldu.\n",
      "\n",
      "Rusya'da bugüne kadar 222 bin kişi Covid-19 nedeniyle hayatını kaybetti. Bu Avrupa'daki en yüksek sayı.\n",
      "\n",
      "Ülkedeki günlük vaka sayısı ise 33 bin olarak açıklandı.\n",
      "\n",
      "Hükümet ekonominin işleyişine zarar vermemek için Covid-19 önlemlerini sıkılaştırmak istemediklerini duyurdu.\n",
      "\n",
      "Kremlin, daha fazla önlem yerine halkı aşılanmaya ikna etmeye çalışıyor.\n",
      "\n",
      "Bu hafta konuyla ilgili bir açıklama yapan Kremlin Sözcüsü Dmitri Peskov, \"Vakaların arttığı dönemlerde halka aşılanmalarının gerektiğini anlatmaya devam ediyoruz.\n",
      "\n",
      "\"Aşılanmamak büyük bir sorumsuzluk. Çünkü virüs öldürüyor.\"\n",
      "\n",
      "Hükümet ülkedeki sağlık sisteminin henüz kilitlenme aşamasına gelmediğini söylüyor.\n",
      "\n",
      "Fakat Sağlık Bakanı Mihail Muraşko, Covid-19 endişesiyle istifa etmiş olan doktorlara aşılanıp işe geri dönme çağrısı yaptı.\n",
      "\n",
      "Rusya'daki aktif vaka sayısı da 750 bin olarak açıklandı.\n",
      "\n",
      "Bu, kayıtların tutulmaya başladığı Şubat 2020'den bu yana en yüksek sayı.\n",
      "\n",
      "Pandemi başından beri ülkede 8 milyon kişide koronavirüs tespit edildi.\n",
      "\n",
      "Kaynak, Reuters Fotoğraf altı yazısı, Ülkede aşılanmak isteyen neredeyse herkes çift aşı olsa da, toplumun üçte ikisi hiç aşı olmadı\n",
      "\n",
      "Rusya'da aşılanan kişi sayısı ile çift doz aşılanan kişi sayısı neredeyse aynı.\n",
      "\n",
      "Bu da aşılanmak isteyen kişilerin çift doz aşılarını tamamlama imkanı bulduğunu fakat aşıya güvenmeyen kişilerin tek bir doz bile yaptırmamayı seçtiğini gösteriyor.\n",
      "\n",
      "Rusya'da yaşayanlar, aşı yaptırmış veya son altı ayda Covid-19 geçirmiş olmaları durumunda Türkiye'ye PCR veya antijen testi yaptırmadan girebiliyor.\n"
     ]
    }
   ],
   "source": [
    "print(text)"
   ]
  },
  {
   "cell_type": "code",
   "execution_count": 29,
   "metadata": {},
   "outputs": [
    {
     "name": "stdout",
     "output_type": "stream",
     "text": [
      "Rusya’da günlük Covid19 ölümleri ilk defa 1000’i aştı\n",
      "\n",
      "16 Ekim 2021\n",
      "\n",
      "Kaynak Reuters Fotoğraf altı yazısı Moskovada Covid19 tedavisi için hastaneye kaldırılan bir kişi\n",
      "\n",
      "Rusya son 24 saatte Covid19 nedeniyle hayatını kaybeden kişi sayısının 1002 olduğunu açıkladı\n",
      "\n",
      "Bugün açıklanan sayı pandemi başından bu yana en yüksek günlük ölüm sayısı oldu\n",
      "\n",
      "Rusyada günlük ölümler bir haftadır yükselirken Kremlin bunun sorumlusu olarak aşılanmak istemeyen Rusları gösteriyor\n",
      "\n",
      "Ülke genelinde aşılara güvenin az olması nedeniyle toplumun yalnızca üçte biri aşı oldu\n",
      "\n",
      "Rusyada bugüne kadar 222 bin kişi Covid19 nedeniyle hayatını kaybetti Bu Avrupadaki en yüksek sayı\n",
      "\n",
      "Ülkedeki günlük vaka sayısı ise 33 bin olarak açıklandı\n",
      "\n",
      "Hükümet ekonominin işleyişine zarar vermemek için Covid19 önlemlerini sıkılaştırmak istemediklerini duyurdu\n",
      "\n",
      "Kremlin daha fazla önlem yerine halkı aşılanmaya ikna etmeye çalışıyor\n",
      "\n",
      "Bu hafta konuyla ilgili bir açıklama yapan Kremlin Sözcüsü Dmitri Peskov Vakaların arttığı dönemlerde halka aşılanmalarının gerektiğini anlatmaya devam ediyoruz\n",
      "\n",
      "Aşılanmamak büyük bir sorumsuzluk Çünkü virüs öldürüyor\n",
      "\n",
      "Hükümet ülkedeki sağlık sisteminin henüz kilitlenme aşamasına gelmediğini söylüyor\n",
      "\n",
      "Fakat Sağlık Bakanı Mihail Muraşko Covid19 endişesiyle istifa etmiş olan doktorlara aşılanıp işe geri dönme çağrısı yaptı\n",
      "\n",
      "Rusyadaki aktif vaka sayısı da 750 bin olarak açıklandı\n",
      "\n",
      "Bu kayıtların tutulmaya başladığı Şubat 2020den bu yana en yüksek sayı\n",
      "\n",
      "Pandemi başından beri ülkede 8 milyon kişide koronavirüs tespit edildi\n",
      "\n",
      "Kaynak Reuters Fotoğraf altı yazısı Ülkede aşılanmak isteyen neredeyse herkes çift aşı olsa da toplumun üçte ikisi hiç aşı olmadı\n",
      "\n",
      "Rusyada aşılanan kişi sayısı ile çift doz aşılanan kişi sayısı neredeyse aynı\n",
      "\n",
      "Bu da aşılanmak isteyen kişilerin çift doz aşılarını tamamlama imkanı bulduğunu fakat aşıya güvenmeyen kişilerin tek bir doz bile yaptırmamayı seçtiğini gösteriyor\n",
      "\n",
      "Rusyada yaşayanlar aşı yaptırmış veya son altı ayda Covid19 geçirmiş olmaları durumunda Türkiyeye PCR veya antijen testi yaptırmadan girebiliyor\n"
     ]
    }
   ],
   "source": [
    "clean_text = text.translate(str.maketrans('','', string.punctuation))\n",
    "print(clean_text)"
   ]
  },
  {
   "cell_type": "code",
   "execution_count": 30,
   "metadata": {},
   "outputs": [
    {
     "name": "stdout",
     "output_type": "stream",
     "text": [
      "['Rusya’da günlük Covid19 ölümleri ilk defa 1000’i aştı\\n\\n16 Ekim 2021\\n\\nKaynak Reuters Fotoğraf altı yazısı Moskovada Covid19 tedavisi için hastaneye kaldırılan bir kişi\\n\\nRusya son 24 saatte Covid19 nedeniyle hayatını kaybeden kişi sayısının 1002 olduğunu açıkladı\\n\\nBugün açıklanan sayı pandemi başından bu yana en yüksek günlük ölüm sayısı oldu\\n\\nRusyada günlük ölümler bir haftadır yükselirken Kremlin bunun sorumlusu olarak aşılanmak istemeyen Rusları gösteriyor\\n\\nÜlke genelinde aşılara güvenin az olması nedeniyle toplumun yalnızca üçte biri aşı oldu\\n\\nRusyada bugüne kadar 222 bin kişi Covid19 nedeniyle hayatını kaybetti Bu Avrupadaki en yüksek sayı\\n\\nÜlkedeki günlük vaka sayısı ise 33 bin olarak açıklandı\\n\\nHükümet ekonominin işleyişine zarar vermemek için Covid19 önlemlerini sıkılaştırmak istemediklerini duyurdu\\n\\nKremlin daha fazla önlem yerine halkı aşılanmaya ikna etmeye çalışıyor\\n\\nBu hafta konuyla ilgili bir açıklama yapan Kremlin Sözcüsü Dmitri Peskov Vakaların arttığı dönemlerde halka aşılanmalarının gerektiğini anlatmaya devam ediyoruz\\n\\nAşılanmamak büyük bir sorumsuzluk Çünkü virüs öldürüyor\\n\\nHükümet ülkedeki sağlık sisteminin henüz kilitlenme aşamasına gelmediğini söylüyor\\n\\nFakat Sağlık Bakanı Mihail Muraşko Covid19 endişesiyle istifa etmiş olan doktorlara aşılanıp işe geri dönme çağrısı yaptı\\n\\nRusyadaki aktif vaka sayısı da 750 bin olarak açıklandı\\n\\nBu kayıtların tutulmaya başladığı Şubat 2020den bu yana en yüksek sayı\\n\\nPandemi başından beri ülkede 8 milyon kişide koronavirüs tespit edildi\\n\\nKaynak Reuters Fotoğraf altı yazısı Ülkede aşılanmak isteyen neredeyse herkes çift aşı olsa da toplumun üçte ikisi hiç aşı olmadı\\n\\nRusyada aşılanan kişi sayısı ile çift doz aşılanan kişi sayısı neredeyse aynı\\n\\nBu da aşılanmak isteyen kişilerin çift doz aşılarını tamamlama imkanı bulduğunu fakat aşıya güvenmeyen kişilerin tek bir doz bile yaptırmamayı seçtiğini gösteriyor\\n\\nRusyada yaşayanlar aşı yaptırmış veya son altı ayda Covid19 geçirmiş olmaları durumunda Türkiyeye PCR veya antijen testi yaptırmadan girebiliyor']\n"
     ]
    },
    {
     "name": "stderr",
     "output_type": "stream",
     "text": [
      "[nltk_data] Downloading package punkt to\n",
      "[nltk_data]     C:\\Users\\barkin\\AppData\\Roaming\\nltk_data...\n",
      "[nltk_data]   Package punkt is already up-to-date!\n"
     ]
    }
   ],
   "source": [
    "#Lookup error: download punkt from nltk\n",
    "nltk.download('punkt')\n",
    "sentences = nltk.sent_tokenize(clean_text)\n",
    "print(sentences)"
   ]
  },
  {
   "cell_type": "code",
   "execution_count": 31,
   "metadata": {},
   "outputs": [
    {
     "name": "stdout",
     "output_type": "stream",
     "text": [
      "[['Rusya', '’', 'da', 'günlük', 'Covid19', 'ölümleri', 'ilk', 'defa', '1000', '’', 'i', 'aştı', '16', 'Ekim', '2021', 'Kaynak', 'Reuters', 'Fotoğraf', 'altı', 'yazısı', 'Moskovada', 'Covid19', 'tedavisi', 'için', 'hastaneye', 'kaldırılan', 'bir', 'kişi', 'Rusya', 'son', '24', 'saatte', 'Covid19', 'nedeniyle', 'hayatını', 'kaybeden', 'kişi', 'sayısının', '1002', 'olduğunu', 'açıkladı', 'Bugün', 'açıklanan', 'sayı', 'pandemi', 'başından', 'bu', 'yana', 'en', 'yüksek', 'günlük', 'ölüm', 'sayısı', 'oldu', 'Rusyada', 'günlük', 'ölümler', 'bir', 'haftadır', 'yükselirken', 'Kremlin', 'bunun', 'sorumlusu', 'olarak', 'aşılanmak', 'istemeyen', 'Rusları', 'gösteriyor', 'Ülke', 'genelinde', 'aşılara', 'güvenin', 'az', 'olması', 'nedeniyle', 'toplumun', 'yalnızca', 'üçte', 'biri', 'aşı', 'oldu', 'Rusyada', 'bugüne', 'kadar', '222', 'bin', 'kişi', 'Covid19', 'nedeniyle', 'hayatını', 'kaybetti', 'Bu', 'Avrupadaki', 'en', 'yüksek', 'sayı', 'Ülkedeki', 'günlük', 'vaka', 'sayısı', 'ise', '33', 'bin', 'olarak', 'açıklandı', 'Hükümet', 'ekonominin', 'işleyişine', 'zarar', 'vermemek', 'için', 'Covid19', 'önlemlerini', 'sıkılaştırmak', 'istemediklerini', 'duyurdu', 'Kremlin', 'daha', 'fazla', 'önlem', 'yerine', 'halkı', 'aşılanmaya', 'ikna', 'etmeye', 'çalışıyor', 'Bu', 'hafta', 'konuyla', 'ilgili', 'bir', 'açıklama', 'yapan', 'Kremlin', 'Sözcüsü', 'Dmitri', 'Peskov', 'Vakaların', 'arttığı', 'dönemlerde', 'halka', 'aşılanmalarının', 'gerektiğini', 'anlatmaya', 'devam', 'ediyoruz', 'Aşılanmamak', 'büyük', 'bir', 'sorumsuzluk', 'Çünkü', 'virüs', 'öldürüyor', 'Hükümet', 'ülkedeki', 'sağlık', 'sisteminin', 'henüz', 'kilitlenme', 'aşamasına', 'gelmediğini', 'söylüyor', 'Fakat', 'Sağlık', 'Bakanı', 'Mihail', 'Muraşko', 'Covid19', 'endişesiyle', 'istifa', 'etmiş', 'olan', 'doktorlara', 'aşılanıp', 'işe', 'geri', 'dönme', 'çağrısı', 'yaptı', 'Rusyadaki', 'aktif', 'vaka', 'sayısı', 'da', '750', 'bin', 'olarak', 'açıklandı', 'Bu', 'kayıtların', 'tutulmaya', 'başladığı', 'Şubat', '2020den', 'bu', 'yana', 'en', 'yüksek', 'sayı', 'Pandemi', 'başından', 'beri', 'ülkede', '8', 'milyon', 'kişide', 'koronavirüs', 'tespit', 'edildi', 'Kaynak', 'Reuters', 'Fotoğraf', 'altı', 'yazısı', 'Ülkede', 'aşılanmak', 'isteyen', 'neredeyse', 'herkes', 'çift', 'aşı', 'olsa', 'da', 'toplumun', 'üçte', 'ikisi', 'hiç', 'aşı', 'olmadı', 'Rusyada', 'aşılanan', 'kişi', 'sayısı', 'ile', 'çift', 'doz', 'aşılanan', 'kişi', 'sayısı', 'neredeyse', 'aynı', 'Bu', 'da', 'aşılanmak', 'isteyen', 'kişilerin', 'çift', 'doz', 'aşılarını', 'tamamlama', 'imkanı', 'bulduğunu', 'fakat', 'aşıya', 'güvenmeyen', 'kişilerin', 'tek', 'bir', 'doz', 'bile', 'yaptırmamayı', 'seçtiğini', 'gösteriyor', 'Rusyada', 'yaşayanlar', 'aşı', 'yaptırmış', 'veya', 'son', 'altı', 'ayda', 'Covid19', 'geçirmiş', 'olmaları', 'durumunda', 'Türkiyeye', 'PCR', 'veya', 'antijen', 'testi', 'yaptırmadan', 'girebiliyor']]\n"
     ]
    }
   ],
   "source": [
    "#First tokenization using nltk\n",
    "words = []\n",
    "for sentence in sentences:\n",
    "    words.append(nltk.word_tokenize(sentence))\n",
    "print(words)"
   ]
  },
  {
   "cell_type": "code",
   "execution_count": 35,
   "metadata": {},
   "outputs": [],
   "source": [
    "import zeyrek\n",
    "analyzer = zeyrek.MorphAnalyzer()"
   ]
  },
  {
   "cell_type": "code",
   "execution_count": 36,
   "metadata": {},
   "outputs": [
    {
     "name": "stdout",
     "output_type": "stream",
     "text": [
      "[[('Rusyada', ['Rusya']), ('günlük', ['günlük', 'gün']), ('Covid19', ['Covid19']), ('ölümleri', ['ölüm']), ('ilk', ['ilk']), ('defa', ['defa']), ('1000i', ['1000i']), ('aştı', ['aş', 'aşmak']), ('16', ['16']), ('Ekim', ['ekim', 'ek']), ('2021', ['2021']), ('Kaynak', ['kaynak', 'Kaynak']), ('Reuters', ['Reuters']), ('Fotoğraf', ['fotoğraf']), ('altı', ['altı', 'alt']), ('yazısı', ['yazı']), ('Moskovada', ['Moskova']), ('Covid19', ['Covid19']), ('tedavisi', ['tedavi']), ('için', ['içmek', 'için', 'iç']), ('hastaneye', ['hastane']), ('kaldırılan', ['kalmak', 'kaldırmak']), ('bir', ['bir']), ('kişi', ['kişi']), ('Rusya', ['Rusya']), ('son', ['son']), ('24', ['24']), ('saatte', ['saat']), ('Covid19', ['Covid19']), ('nedeniyle', ['nedeniyle', 'neden']), ('hayatını', ['hayat']), ('kaybeden', ['kaybetmek']), ('kişi', ['kişi']), ('sayısının', ['sayı']), ('1002', ['1002']), ('olduğunu', ['olmak']), ('açıkladı', ['açıklamak']), ('Bugün', ['bugün']), ('açıklanan', ['açık', 'açıklamak', 'Açık']), ('sayı', ['sayı', 'say']), ('pandemi', ['pandemi']), ('başından', ['baş']), ('bu', ['bu']), ('yana', ['yana', 'yanmak', 'yan']), ('en', ['en']), ('yüksek', ['yüksek', 'Yüksek', 'yük']), ('günlük', ['günlük', 'gün']), ('ölüm', ['ölüm', 'ölü']), ('sayısı', ['sayı']), ('oldu', ['olmak']), ('Rusyada', ['Rusya']), ('günlük', ['günlük', 'gün']), ('ölümler', ['ölüm', 'ölü']), ('bir', ['bir']), ('haftadır', ['hafta', 'haf']), ('yükselirken', ['yükselmek', 'Yükselir']), ('Kremlin', ['krem']), ('bunun', ['bun', 'bu']), ('sorumlusu', ['sorum', 'sorumlu']), ('olarak', ['olmak']), ('aşılanmak', ['aşılamak', 'aşı']), ('istemeyen', ['istemek']), ('Rusları', ['Rus']), ('gösteriyor', ['göstermek']), ('Ülke', ['Ülke', 'ülke']), ('genelinde', ['genel']), ('aşılara', ['aşı']), ('güvenin', ['güve', 'güvenmek', 'güven']), ('az', ['Az', 'azmak', 'az']), ('olması', ['olmak']), ('nedeniyle', ['nedeniyle', 'neden']), ('toplumun', ['toplum', 'toplu', 'top']), ('yalnızca', ['yalnız', 'yalnızca']), ('üçte', ['üç']), ('biri', ['bir', 'biri']), ('aşı', ['aş', 'aşı']), ('oldu', ['olmak']), ('Rusyada', ['Rusya']), ('bugüne', ['bugün']), ('kadar', ['Kadar', 'kadar']), ('222', ['222']), ('bin', ['binmek', 'bin']), ('kişi', ['kişi']), ('Covid19', ['Covid19']), ('nedeniyle', ['nedeniyle', 'neden']), ('hayatını', ['hayat']), ('kaybetti', ['kaybetmek']), ('Bu', ['bu']), ('Avrupadaki', ['Avrupa']), ('en', ['en']), ('yüksek', ['yüksek', 'Yüksek', 'yük']), ('sayı', ['sayı', 'say']), ('Ülkedeki', ['Ülke', 'ülke']), ('günlük', ['günlük', 'gün']), ('vaka', ['vaka']), ('sayısı', ['sayı']), ('ise', ['ise', 'imek', 'is']), ('33', ['33']), ('bin', ['binmek', 'bin']), ('olarak', ['olmak']), ('açıklandı', ['açık', 'açıklamak', 'Açık']), ('Hükümet', ['hükümet']), ('ekonominin', ['ekonomi']), ('işleyişine', ['işlemek']), ('zarar', ['zarar']), ('vermemek', ['vermek']), ('için', ['içmek', 'için', 'iç']), ('Covid19', ['Covid19']), ('önlemlerini', ['önlem']), ('sıkılaştırmak', ['sıkı']), ('istemediklerini', ['istemek']), ('duyurdu', ['duyurmak']), ('Kremlin', ['krem']), ('daha', ['daha']), ('fazla', ['fazla', 'faz']), ('önlem', ['önlem']), ('yerine', ['yerine', 'yerinmek', 'yer']), ('halkı', ['halk']), ('aşılanmaya', ['aşılamak', 'aşı']), ('ikna', ['ikna']), ('etmeye', ['etmek']), ('çalışıyor', ['çalışmak']), ('Bu', ['bu']), ('hafta', ['hafta', 'haf']), ('konuyla', ['konu']), ('ilgili', ['ilgili', 'İlgi', 'ilgi']), ('bir', ['bir']), ('açıklama', ['açıklamak', 'açıklama']), ('yapan', ['yapmak']), ('Kremlin', ['krem']), ('Sözcüsü', ['söz', 'sözcü']), ('Dmitri', ['Dmitri']), ('Peskov', ['Peskov']), ('Vakaların', ['vaka']), ('arttığı', ['artmak']), ('dönemlerde', ['dönem']), ('halka', ['halka', 'halk']), ('aşılanmalarının', ['aşılamak', 'aşı']), ('gerektiğini', ['gerekmek']), ('anlatmaya', ['anlamak', 'anlatmak']), ('devam', ['devam', 'Deva', 'deva']), ('ediyoruz', ['etmek']), ('Aşılanmamak', ['aşılamak', 'aşı']), ('büyük', ['büyük', 'Büyük']), ('bir', ['bir']), ('sorumsuzluk', ['sorum', 'sorumsuz']), ('Çünkü', ['çünkü', 'Çünk']), ('virüs', ['virüs']), ('öldürüyor', ['ölmek', 'öldürmek']), ('Hükümet', ['hükümet']), ('ülkedeki', ['Ülke', 'ülke']), ('sağlık', ['sağ', 'Sağlık', 'sağlık']), ('sisteminin', ['sistem']), ('henüz', ['henüz']), ('kilitlenme', ['kilit', 'kilitlemek']), ('aşamasına', ['aşama']), ('gelmediğini', ['gelmek']), ('söylüyor', ['söylemek']), ('Fakat', ['fakat']), ('Sağlık', ['sağ', 'Sağlık', 'sağlık']), ('Bakanı', ['bakmak', 'bakan']), ('Mihail', ['Mihail']), ('Muraşko', ['Muraşko']), ('Covid19', ['Covid19']), ('endişesiyle', ['endişe']), ('istifa', ['istifa']), ('etmiş', ['et', 'etmek']), ('olan', ['o', 'olmak']), ('doktorlara', ['doktor']), ('aşılanıp', ['aşılamak', 'aşı']), ('işe', ['işemek', 'iş']), ('geri', ['geri']), ('dönme', ['dönme', 'dönmek']), ('çağrısı', ['çağrı', 'Çağrı']), ('yaptı', ['yapmak']), ('Rusyadaki', ['Rusya']), ('aktif', ['aktif']), ('vaka', ['vaka']), ('sayısı', ['sayı']), ('da', ['da']), ('750', ['750']), ('bin', ['binmek', 'bin']), ('olarak', ['olmak']), ('açıklandı', ['açık', 'açıklamak', 'Açık']), ('Bu', ['bu']), ('kayıtların', ['kayıt']), ('tutulmaya', ['tutulmak', 'tutmak']), ('başladığı', ['başlamak']), ('Şubat', ['şubat', 'Şubat']), ('2020den', ['2020den']), ('bu', ['bu']), ('yana', ['yana', 'yanmak', 'yan']), ('en', ['en']), ('yüksek', ['yüksek', 'Yüksek', 'yük']), ('sayı', ['sayı', 'say']), ('Pandemi', ['pandemi']), ('başından', ['baş']), ('beri', ['Beri', 'beri']), ('ülkede', ['Ülke', 'ülke']), ('8', ['8']), ('milyon', ['milyon']), ('kişide', ['kişi']), ('koronavirüs', ['koronavirüs']), ('tespit', ['tespit']), ('edildi', ['etmek']), ('Kaynak', ['kaynak', 'Kaynak']), ('Reuters', ['Reuters']), ('Fotoğraf', ['fotoğraf']), ('altı', ['altı', 'alt']), ('yazısı', ['yazı']), ('Ülkede', ['Ülke', 'ülke']), ('aşılanmak', ['aşılamak', 'aşı']), ('isteyen', ['istemek']), ('neredeyse', ['neredeyse', 'nere']), ('herkes', ['herkes']), ('çift', ['çift']), ('aşı', ['aş', 'aşı']), ('olsa', ['olmak']), ('da', ['da']), ('toplumun', ['toplum', 'toplu', 'top']), ('üçte', ['üç']), ('ikisi', ['iki']), ('hiç', ['hiç']), ('aşı', ['aş', 'aşı']), ('olmadı', ['olmak']), ('Rusyada', ['Rusya']), ('aşılanan', ['aşılamak', 'aşı']), ('kişi', ['kişi']), ('sayısı', ['sayı']), ('ile', ['ile', 'il', 'ilmek']), ('çift', ['çift']), ('doz', ['doz']), ('aşılanan', ['aşılamak', 'aşı']), ('kişi', ['kişi']), ('sayısı', ['sayı']), ('neredeyse', ['neredeyse', 'nere']), ('aynı', ['ayn', 'aynı']), ('Bu', ['bu']), ('da', ['da']), ('aşılanmak', ['aşılamak', 'aşı']), ('isteyen', ['istemek']), ('kişilerin', ['kişi']), ('çift', ['çift']), ('doz', ['doz']), ('aşılarını', ['aşı']), ('tamamlama', ['tamamlamak']), ('imkanı', ['imkân']), ('bulduğunu', ['bulmak']), ('fakat', ['fakat']), ('aşıya', ['aşı']), ('güvenmeyen', ['güvenmek']), ('kişilerin', ['kişi']), ('tek', ['tek']), ('bir', ['bir']), ('doz', ['doz']), ('bile', ['bilmek', 'bile', 'bilemek']), ('yaptırmamayı', ['yapmak']), ('seçtiğini', ['seçmek']), ('gösteriyor', ['göstermek']), ('Rusyada', ['Rusya']), ('yaşayanlar', ['yaşamak']), ('aşı', ['aş', 'aşı']), ('yaptırmış', ['yapmak']), ('veya', ['veya']), ('son', ['son']), ('altı', ['altı', 'alt']), ('ayda', ['ay', 'Ay']), ('Covid19', ['Covid19']), ('geçirmiş', ['geçirmek']), ('olmaları', ['olmak']), ('durumunda', ['durum']), ('Türkiyeye', ['Türkiye']), ('PCR', ['PCR']), ('veya', ['veya']), ('antijen', ['antijen']), ('testi', ['test', 'testi']), ('yaptırmadan', ['yapmak']), ('girebiliyor', ['girmek'])]]\n"
     ]
    }
   ],
   "source": [
    "#First lemmatization using zeyrek\n",
    "zeyrek_words = []\n",
    "for sentence in sentences:\n",
    "    zeyrek_words.append(analyzer.lemmatize(sentence))\n",
    "print(zeyrek_words)"
   ]
  },
  {
   "cell_type": "code",
   "execution_count": 40,
   "metadata": {},
   "outputs": [],
   "source": [
    "from nltk.tokenize import MWETokenizer"
   ]
  },
  {
   "cell_type": "code",
   "execution_count": 48,
   "metadata": {},
   "outputs": [
    {
     "name": "stdout",
     "output_type": "stream",
     "text": [
      "['Rusya’da', 'günlük', 'Covid-19', 'ölümleri', 'ilk', 'defa', '1.000’i', 'aştı', '16', 'Ekim', '2021', 'Kaynak,', 'Reuters', 'Fotoğraf', 'altı', 'yazısı,', \"Moskova'da\", 'Covid-19', 'tedavisi', 'için', 'hastaneye', 'kaldırılan', 'bir', 'kişi', 'Rusya', 'son', '24', 'saatte', 'Covid-19', 'nedeniyle', 'hayatını', 'kaybeden', 'kişi', 'sayısının', '1.002', 'olduğunu', 'açıkladı.', 'Bugün', 'açıklanan', 'sayı,', 'pandemi', 'başından', 'bu', 'yana', 'en', 'yüksek', 'günlük', 'ölüm', 'sayısı', 'oldu.', \"Rusya'da\", 'günlük', 'ölümler', 'bir', 'haftadır', 'yükselirken', 'Kremlin,', 'bunun', 'sorumlusu', 'olarak', 'aşılanmak', 'istemeyen', 'Rusları', 'gösteriyor.', 'Ülke', 'genelinde', 'aşılara', 'güvenin', 'az', 'olması', 'nedeniyle', 'toplumun', 'yalnızca', 'üçte', 'biri', 'aşı', 'oldu.', \"Rusya'da\", 'bugüne', 'kadar', '222', 'bin', 'kişi', 'Covid-19', 'nedeniyle', 'hayatını', 'kaybetti.', 'Bu', \"Avrupa'daki\", 'en', 'yüksek', 'sayı.', 'Ülkedeki', 'günlük', 'vaka', 'sayısı', 'ise', '33', 'bin', 'olarak', 'açıklandı.', 'Hükümet', 'ekonominin', 'işleyişine', 'zarar', 'vermemek', 'için', 'Covid-19', 'önlemlerini', 'sıkılaştırmak', 'istemediklerini', 'duyurdu.', 'Kremlin,', 'daha', 'fazla', 'önlem', 'yerine', 'halkı', 'aşılanmaya', 'ikna', 'etmeye', 'çalışıyor.', 'Bu', 'hafta', 'konuyla', 'ilgili', 'bir', 'açıklama', 'yapan', 'Kremlin_Sözcüsü', 'Dmitri', 'Peskov,', '\"Vakaların', 'arttığı', 'dönemlerde', 'halka', 'aşılanmalarının', 'gerektiğini', 'anlatmaya', 'devam', 'ediyoruz.', '\"Aşılanmamak', 'büyük', 'bir', 'sorumsuzluk.', 'Çünkü', 'virüs', 'öldürüyor.\"', 'Hükümet', 'ülkedeki_sağlık_sisteminin', 'henüz', 'kilitlenme', 'aşamasına', 'gelmediğini', 'söylüyor.', 'Fakat', 'Sağlık_Bakanı', 'Mihail', 'Muraşko,', 'Covid-19', 'endişesiyle', 'istifa', 'etmiş', 'olan', 'doktorlara', 'aşılanıp', 'işe', 'geri', 'dönme', 'çağrısı', 'yaptı.', \"Rusya'daki\", 'aktif', 'vaka', 'sayısı', 'da', '750', 'bin', 'olarak', 'açıklandı.', 'Bu,', 'kayıtların', 'tutulmaya', 'başladığı', 'Şubat', \"2020'den\", 'bu', 'yana', 'en', 'yüksek', 'sayı.', 'Pandemi', 'başından', 'beri', 'ülkede', '8', 'milyon', 'kişide', 'koronavirüs', 'tespit', 'edildi.', 'Kaynak,', 'Reuters', 'Fotoğraf', 'altı', 'yazısı,', 'Ülkede', 'aşılanmak', 'isteyen', 'neredeyse', 'herkes', 'çift', 'aşı', 'olsa', 'da,', 'toplumun', 'üçte', 'ikisi', 'hiç', 'aşı', 'olmadı', \"Rusya'da\", 'aşılanan', 'kişi', 'sayısı', 'ile', 'çift', 'doz', 'aşılanan', 'kişi', 'sayısı', 'neredeyse', 'aynı.', 'Bu', 'da', 'aşılanmak', 'isteyen', 'kişilerin', 'çift', 'doz', 'aşılarını', 'tamamlama', 'imkanı', 'bulduğunu', 'fakat', 'aşıya', 'güvenmeyen', 'kişilerin', 'tek', 'bir', 'doz', 'bile', 'yaptırmamayı', 'seçtiğini', 'gösteriyor.', \"Rusya'da\", 'yaşayanlar,', 'aşı', 'yaptırmış', 'veya', 'son', 'altı', 'ayda', 'Covid-19', 'geçirmiş', 'olmaları', 'durumunda', \"Türkiye'ye\", 'PCR', 'veya', 'antijen', 'testi', 'yaptırmadan', 'girebiliyor.']\n"
     ]
    }
   ],
   "source": [
    "#Second tokenization\n",
    "tk = MWETokenizer()\n",
    "tk.add_mwe(('Kremlin', 'Sözcüsü'))\n",
    "tk.add_mwe(('Sağlık', 'Bakanı'))\n",
    "tk.add_mwe(('ülkedeki', 'sağlık', 'sisteminin'))\n",
    "result = tk.tokenize(text.split())\n",
    "print(result)"
   ]
  },
  {
   "cell_type": "code",
   "execution_count": 64,
   "metadata": {},
   "outputs": [
    {
     "name": "stdout",
     "output_type": "stream",
     "text": [
      "I\n",
      "I\n",
      "think\n",
      "think\n",
      "babies\n",
      "baby\n",
      "feet\n",
      "foot\n",
      "look\n",
      "look\n",
      "like\n",
      "like\n",
      "fat\n",
      "fat\n",
      ",\n",
      ",\n",
      "little\n",
      "little\n",
      "pillows\n",
      "pillow\n"
     ]
    },
    {
     "name": "stderr",
     "output_type": "stream",
     "text": [
      "[nltk_data] Downloading package wordnet to\n",
      "[nltk_data]     C:\\Users\\barkin\\AppData\\Roaming\\nltk_data...\n",
      "[nltk_data]   Package wordnet is already up-to-date!\n"
     ]
    }
   ],
   "source": [
    "#Second lemmatization\n",
    "#Lookup Error: download wordnet\n",
    "nltk.download('wordnet')\n",
    "\n",
    "from nltk.stem import WordNetLemmatizer\n",
    "\n",
    "lemmatizer = WordNetLemmatizer()\n",
    "\n",
    "text2 = (\"I think babies feet look like fat, little pillows\")\n",
    "\n",
    "\n",
    "\n",
    "for token in word_tokenize(text2):\n",
    "    print(token)\n",
    "    print(lemmatizer.lemmatize(token))"
   ]
  }
 ],
 "metadata": {
  "kernelspec": {
   "display_name": "Python 3",
   "language": "python",
   "name": "python3"
  },
  "language_info": {
   "codemirror_mode": {
    "name": "ipython",
    "version": 3
   },
   "file_extension": ".py",
   "mimetype": "text/x-python",
   "name": "python",
   "nbconvert_exporter": "python",
   "pygments_lexer": "ipython3",
   "version": "3.8.5"
  }
 },
 "nbformat": 4,
 "nbformat_minor": 4
}
