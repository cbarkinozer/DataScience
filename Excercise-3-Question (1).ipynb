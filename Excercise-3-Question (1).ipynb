{
 "cells": [
  {
   "cell_type": "markdown",
   "metadata": {
    "colab_type": "text",
    "id": "iQjHqsmTAVLU"
   },
   "source": [
    "Fashion MNIST clothing detection using Convolutions. For your exercise see if you can improve MNIST to 99.8% accuracy. It should happen in less than 20 epochs.When 99.8% accuracy has been hit, it will stop."
   ]
  },
  {
   "cell_type": "code",
   "execution_count": 1,
   "metadata": {},
   "outputs": [],
   "source": [
    "import tensorflow as tf\n",
    "from os import path, getcwd, chdir\n",
    "\n",
    "# If you are developing in a local environment,\n",
    "# grab mnist.npz from the Coursera Jupyter Notebook\n",
    "# and place it inside a local folder and edit the path to that location\n",
    "path = f\"{getcwd()}/../tmp2/mnist.npz\""
   ]
  },
  {
   "cell_type": "code",
   "execution_count": 2,
   "metadata": {},
   "outputs": [],
   "source": [
    "#GPU activation\n",
    "config = tf.ConfigProto()\n",
    "config.gpu_options.allow_growth = True\n",
    "sess = tf.Session(config=config)"
   ]
  },
  {
   "cell_type": "code",
   "execution_count": 6,
   "metadata": {},
   "outputs": [],
   "source": [
    "#Convolutional Method\n",
    "def train_mnist_conv():\n",
    "    \n",
    "    class myCallback(tf.keras.callbacks.Callback):\n",
    "        def on_epoch_end(self, epoch, logs={}):\n",
    "            if logs.get('acc') is not None and logs.get('acc') >= 0.998:\n",
    "                print(\"Reached 99.8% accuracy so cancelling training!\")\n",
    "                self.model.stop_training = True\n",
    "   \n",
    "    mnist = tf.keras.datasets.mnist\n",
    "    (training_images, training_labels), (test_images, test_labels) = mnist.load_data(path=path)\n",
    "   \n",
    "    training_images=training_images.reshape(60000, 28, 28, 1)\n",
    "    training_images=training_images / 255.0\n",
    "    test_images = test_images.reshape(10000, 28, 28, 1)\n",
    "    test_images=test_images/255.0\n",
    "    callbacks = myCallback()\n",
    "    \n",
    "\n",
    "    model = tf.keras.models.Sequential([\n",
    "        #Convolutional layer isolates features of the image\n",
    "        tf.keras.layers.Conv2D(64, (3,3), activation='relu', input_shape=(28, 28, 1)),\n",
    "        #MaxPooling lowers resolution of the image without changing image\n",
    "        tf.keras.layers.MaxPooling2D(2, 2),\n",
    "        tf.keras.layers.Conv2D(64, (3,3), activation='relu'),\n",
    "        tf.keras.layers.MaxPooling2D(2,2),\n",
    "        tf.keras.layers.Flatten(),\n",
    "        tf.keras.layers.Dense(128, activation='relu'),\n",
    "        tf.keras.layers.Dense(10, activation='softmax')\n",
    "    ])\n",
    "\n",
    "    model.compile(optimizer='adam', loss='sparse_categorical_crossentropy', metrics=['accuracy'])\n",
    "    # model fitting\n",
    "    history = model.fit(training_images, training_labels,epochs=19,callbacks=[myCallback()])\n",
    "    # model fitting\n",
    "    return history.epoch, history.history['acc'][-1]"
   ]
  },
  {
   "cell_type": "code",
   "execution_count": 7,
   "metadata": {},
   "outputs": [
    {
     "name": "stderr",
     "output_type": "stream",
     "text": [
      "WARNING: Logging before flag parsing goes to stderr.\n",
      "W0925 09:21:54.862621 139816662091584 deprecation.py:506] From /usr/local/lib/python3.6/dist-packages/tensorflow/python/ops/init_ops.py:1251: calling VarianceScaling.__init__ (from tensorflow.python.ops.init_ops) with dtype is deprecated and will be removed in a future version.\n",
      "Instructions for updating:\n",
      "Call initializer instance with the dtype argument instead of passing it to the constructor\n"
     ]
    },
    {
     "name": "stdout",
     "output_type": "stream",
     "text": [
      "Epoch 1/19\n",
      "60000/60000 [==============================] - 18s 297us/sample - loss: 0.1210 - acc: 0.9635\n",
      "Epoch 2/19\n",
      "60000/60000 [==============================] - 14s 241us/sample - loss: 0.0402 - acc: 0.9871\n",
      "Epoch 3/19\n",
      "60000/60000 [==============================] - 13s 218us/sample - loss: 0.0270 - acc: 0.9915\n",
      "Epoch 4/19\n",
      "60000/60000 [==============================] - 14s 232us/sample - loss: 0.0197 - acc: 0.9932\n",
      "Epoch 5/19\n",
      "60000/60000 [==============================] - 15s 248us/sample - loss: 0.0153 - acc: 0.9954\n",
      "Epoch 6/19\n",
      "60000/60000 [==============================] - 15s 252us/sample - loss: 0.0109 - acc: 0.9962\n",
      "Epoch 7/19\n",
      "60000/60000 [==============================] - 15s 253us/sample - loss: 0.0098 - acc: 0.9968\n",
      "Epoch 8/19\n",
      "60000/60000 [==============================] - 15s 255us/sample - loss: 0.0080 - acc: 0.9972\n",
      "Epoch 9/19\n",
      "59936/60000 [============================>.] - ETA: 0s - loss: 0.0057 - acc: 0.9984Reached 99.8% accuracy so cancelling training!\n",
      "60000/60000 [==============================] - 15s 258us/sample - loss: 0.0057 - acc: 0.9984\n"
     ]
    }
   ],
   "source": [
    "_, _ = train_mnist_conv()"
   ]
  }
 ],
 "metadata": {
  "coursera": {
   "course_slug": "introduction-tensorflow",
   "graded_item_id": "ml06H",
   "launcher_item_id": "hQF8A"
  },
  "kernelspec": {
   "display_name": "Python 3",
   "language": "python",
   "name": "python3"
  },
  "language_info": {
   "codemirror_mode": {
    "name": "ipython",
    "version": 3
   },
   "file_extension": ".py",
   "mimetype": "text/x-python",
   "name": "python",
   "nbconvert_exporter": "python",
   "pygments_lexer": "ipython3",
   "version": "3.8.5"
  }
 },
 "nbformat": 4,
 "nbformat_minor": 1
}
