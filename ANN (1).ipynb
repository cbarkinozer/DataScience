{
 "cells": [
  {
   "cell_type": "code",
   "execution_count": 96,
   "metadata": {},
   "outputs": [],
   "source": [
    "#To make these codes to work apply these:\n",
    "#Enter to channels from Anaconda Navigator. Add \"www.conda.anaconda.org\".\n",
    "#Run Anaconda Power Shell as admin.\n",
    "#Download python3 and pip (if you have them already,no need to re-download).\n",
    "#Download tensorflow library with \"pip install tensorflow\" command in Anaconda Power Shell.\n",
    "#Download the keras library with \"pip install keras\" command in Anaconda Power Shell."
   ]
  },
  {
   "cell_type": "code",
   "execution_count": 97,
   "metadata": {},
   "outputs": [],
   "source": [
    "#The problem:\n",
    "#Build an ANN structure by using MNIST train data to predict the MNIST handwritten digits.\n",
    "#You will use MNIST test data to evaluate your trained ANN structure in terms of \n",
    "#evaluation metrics that are accuracy and F1 score.\n",
    "#Train your ANN structure with activation functions that are sigmoid, ReLU, and tanh separately.\n",
    "#Use the same activation functions in hidden layer and output layer for your ANN structure. \n",
    "#Add the convergence curve of your ANN structure along iterations.\n",
    "#Explain your ANN structure in terms of the included number of neurons in hidden layer and output layer.\n",
    "#Explain which value of learning rate is used for your ANN structure.\n",
    "#Explain which activation function provides the highest or the lowest classification performance"
   ]
  },
  {
   "cell_type": "code",
   "execution_count": 98,
   "metadata": {},
   "outputs": [],
   "source": [
    "#Keras is used for quickly experimenting with deep neural networks\n",
    "import numpy as np #For matrix operations\n",
    "import matplotlib.pyplot as plt #For plotting to the screen\n",
    "from keras.layers import Dense, Flatten #For layers in our model\n",
    "from keras.models import Sequential #For modeling ann\n",
    "from tensorflow.keras.utils import to_categorical\n",
    "from keras.datasets import mnist #We upload our csv train and test files from keras"
   ]
  },
  {
   "cell_type": "code",
   "execution_count": 99,
   "metadata": {},
   "outputs": [],
   "source": [
    "# Load MNIST handwritten digit data from keras\n",
    "(X_train, y_train), (X_test, y_test) = mnist.load_data()"
   ]
  },
  {
   "cell_type": "code",
   "execution_count": 100,
   "metadata": {},
   "outputs": [],
   "source": [
    "# Convert y_train into one-hot format\n",
    "#One-hot encoding: change the values as they are \n",
    "#either 1 or 0 to work with categorical data directly\n",
    "temp = []\n",
    "for i in range(len(y_train)):\n",
    "    temp.append(to_categorical(y_train[i], num_classes=10))\n",
    "    \n",
    "y_train = np.array(temp)"
   ]
  },
  {
   "cell_type": "code",
   "execution_count": 101,
   "metadata": {},
   "outputs": [],
   "source": [
    "# Convert y_test into one-hot format \n",
    "temp = []\n",
    "for i in range(len(y_test)):\n",
    "    temp.append(to_categorical(y_test[i], num_classes=10))\n",
    "\n",
    "y_test = np.array(temp)"
   ]
  },
  {
   "cell_type": "code",
   "execution_count": 102,
   "metadata": {},
   "outputs": [
    {
     "name": "stdout",
     "output_type": "stream",
     "text": [
      "Model: \"sequential_12\"\n",
      "_________________________________________________________________\n",
      "Layer (type)                 Output Shape              Param #   \n",
      "=================================================================\n",
      "flatten_12 (Flatten)         (None, 784)               0         \n",
      "_________________________________________________________________\n",
      "dense_24 (Dense)             (None, 5)                 3925      \n",
      "_________________________________________________________________\n",
      "dense_25 (Dense)             (None, 10)                60        \n",
      "=================================================================\n",
      "Total params: 3,985\n",
      "Trainable params: 3,985\n",
      "Non-trainable params: 0\n",
      "_________________________________________________________________\n"
     ]
    }
   ],
   "source": [
    "#We will create 3 different models seperately\n",
    "# with using sigmoid,ReLu and tanh functions\n",
    "#to compare each one of them with others\n",
    "\n",
    "#For Sigmoid\n",
    "# Create simple Neural Network model\n",
    "model1 = Sequential()\n",
    "model1.add(Flatten(input_shape=(28,28)))\n",
    "model1.add(Dense(5, activation='sigmoid'))\n",
    "model1.add(Dense(10, activation='sigmoid'))\n",
    "\n",
    "model1.summary()\n",
    "\n",
    "model1.compile(loss='categorical_crossentropy', \n",
    "\t      optimizer='adam',\n",
    "\t      metrics=['acc'])"
   ]
  },
  {
   "cell_type": "code",
   "execution_count": 103,
   "metadata": {},
   "outputs": [
    {
     "name": "stdout",
     "output_type": "stream",
     "text": [
      "Epoch 1/5\n",
      "1875/1875 [==============================] - 4s 2ms/step - loss: 1.9329 - acc: 0.3856 - val_loss: 1.3006 - val_acc: 0.5720\n",
      "Epoch 2/5\n",
      "1875/1875 [==============================] - 3s 2ms/step - loss: 1.2020 - acc: 0.6710 - val_loss: 1.0610 - val_acc: 0.6723\n",
      "Epoch 3/5\n",
      "1875/1875 [==============================] - 3s 1ms/step - loss: 1.0051 - acc: 0.7046 - val_loss: 0.8906 - val_acc: 0.7371\n",
      "Epoch 4/5\n",
      "1875/1875 [==============================] - 2s 1ms/step - loss: 0.8883 - acc: 0.7377 - val_loss: 0.8407 - val_acc: 0.7531\n",
      "Epoch 5/5\n",
      "1875/1875 [==============================] - 3s 1ms/step - loss: 0.8440 - acc: 0.7484 - val_loss: 0.8361 - val_acc: 0.7559\n"
     ]
    }
   ],
   "source": [
    "#For Sigmoid\n",
    "# Train the Neural Network model\n",
    "history_sigmoid = model1.fit(X_train, y_train, epochs=5, validation_data=(X_test,y_test))\n",
    "#Our model works for 5 times and sets its values by backpropagation"
   ]
  },
  {
   "cell_type": "code",
   "execution_count": 104,
   "metadata": {},
   "outputs": [],
   "source": [
    "#For Sigmoid\n",
    "# Making predictions using our trained model\n",
    "predictions = model1.predict(X_test)\n",
    "predictions = np.argmax(predictions, axis=1)"
   ]
  },
  {
   "cell_type": "code",
   "execution_count": 105,
   "metadata": {},
   "outputs": [
    {
     "data": {
      "image/png": "[encoded data removed]",
      "text/plain": [
       "<Figure size 432x288 with 2 Axes>"
      ]
     },
     "metadata": {
      "needs_background": "light"
     },
     "output_type": "display_data"
    }
   ],
   "source": [
    "#For Sigmoid\n",
    "# plotting the convergence curve\n",
    "fig = plt.figure()\n",
    "plt.subplot(2,1,1)\n",
    "plt.plot(history.history['acc'])\n",
    "plt.plot(history.history['val_acc'])\n",
    "plt.title('model accuracy')\n",
    "plt.ylabel('accuracy')\n",
    "plt.xlabel('epoch')\n",
    "plt.legend(['train', 'test'], loc='lower right')\n",
    "\n",
    "plt.subplot(2,1,2)\n",
    "plt.plot(history_sigmoid.history['loss'])\n",
    "plt.plot(history_sigmoid.history['val_loss'])\n",
    "plt.title('model loss')\n",
    "plt.ylabel('loss')\n",
    "plt.xlabel('epoch')\n",
    "plt.legend(['train', 'test'], loc='upper right')\n",
    "\n",
    "plt.tight_layout()"
   ]
  },
  {
   "cell_type": "code",
   "execution_count": 106,
   "metadata": {},
   "outputs": [
    {
     "data": {
      "image/png": "[encoded data removed]",
      "text/plain": [
       "<Figure size 1440x288 with 10 Axes>"
      ]
     },
     "metadata": {
      "needs_background": "light"
     },
     "output_type": "display_data"
    }
   ],
   "source": [
    "#For Sigmoid\n",
    "# Display predictions on test data for\n",
    "fig, axes = plt.subplots(ncols=10, sharex=False,\n",
    "\t\t\t sharey=True, figsize=(20, 4))\n",
    "for i in range(10):\n",
    "\taxes[i].set_title(predictions[i])\n",
    "\taxes[i].imshow(X_test[i], cmap='gray')\n",
    "\taxes[i].get_xaxis().set_visible(False)\n",
    "\taxes[i].get_yaxis().set_visible(False)\n",
    "plt.show()"
   ]
  },
  {
   "cell_type": "code",
   "execution_count": 107,
   "metadata": {},
   "outputs": [
    {
     "name": "stdout",
     "output_type": "stream",
     "text": [
      "Model: \"sequential_13\"\n",
      "_________________________________________________________________\n",
      "Layer (type)                 Output Shape              Param #   \n",
      "=================================================================\n",
      "flatten_13 (Flatten)         (None, 784)               0         \n",
      "_________________________________________________________________\n",
      "dense_26 (Dense)             (None, 5)                 3925      \n",
      "_________________________________________________________________\n",
      "dense_27 (Dense)             (None, 10)                60        \n",
      "=================================================================\n",
      "Total params: 3,985\n",
      "Trainable params: 3,985\n",
      "Non-trainable params: 0\n",
      "_________________________________________________________________\n"
     ]
    }
   ],
   "source": [
    "#For ReLu\n",
    "# Create simple Neural Network model\n",
    "model2 = Sequential()\n",
    "model2.add(Flatten(input_shape=(28,28)))\n",
    "model2.add(Dense(5, activation='relu'))\n",
    "model2.add(Dense(10, activation='relu'))\n",
    "\n",
    "model2.summary()\n",
    "\n",
    "model2.compile(loss='categorical_crossentropy', \n",
    "\t      optimizer='adam',\n",
    "\t      metrics=['acc'])"
   ]
  },
  {
   "cell_type": "code",
   "execution_count": 108,
   "metadata": {},
   "outputs": [
    {
     "name": "stdout",
     "output_type": "stream",
     "text": [
      "Epoch 1/5\n",
      "1875/1875 [==============================] - 3s 1ms/step - loss: nan - acc: 0.0999 - val_loss: nan - val_acc: 0.0980\n",
      "Epoch 2/5\n",
      "1875/1875 [==============================] - 2s 1ms/step - loss: nan - acc: 0.0956 - val_loss: nan - val_acc: 0.0980\n",
      "Epoch 3/5\n",
      "1875/1875 [==============================] - 3s 1ms/step - loss: nan - acc: 0.0988 - val_loss: nan - val_acc: 0.0980\n",
      "Epoch 4/5\n",
      "1875/1875 [==============================] - 2s 1ms/step - loss: nan - acc: 0.0985 - val_loss: nan - val_acc: 0.0980\n",
      "Epoch 5/5\n",
      "1875/1875 [==============================] - 2s 1ms/step - loss: nan - acc: 0.0995 - val_loss: nan - val_acc: 0.0980\n"
     ]
    }
   ],
   "source": [
    "#For ReLu\n",
    "# Train the Neural Network model\n",
    "history_relu = model2.fit(X_train, y_train, epochs=5, validation_data=(X_test,y_test))\n",
    "#Our model works for 5 times and sets its values by backpropagation"
   ]
  },
  {
   "cell_type": "code",
   "execution_count": 109,
   "metadata": {},
   "outputs": [],
   "source": [
    "#For ReLu\n",
    "# Making predictions using our trained model\n",
    "predictions = model.predict(X_test)\n",
    "predictions = np.argmax(predictions, axis=1)"
   ]
  },
  {
   "cell_type": "code",
   "execution_count": 110,
   "metadata": {},
   "outputs": [
    {
     "data": {
      "image/png": "[encoded data removed]",
      "text/plain": [
       "<Figure size 432x288 with 2 Axes>"
      ]
     },
     "metadata": {
      "needs_background": "light"
     },
     "output_type": "display_data"
    }
   ],
   "source": [
    "#For ReLu\n",
    "# plotting the convergence curve\n",
    "fig = plt.figure()\n",
    "plt.subplot(2,1,1)\n",
    "plt.plot(history_relu.history['acc'])\n",
    "plt.plot(history_relu.history['val_acc'])\n",
    "plt.title('model accuracy')\n",
    "plt.ylabel('accuracy')\n",
    "plt.xlabel('epoch')\n",
    "plt.legend(['train', 'test'], loc='lower right')\n",
    "\n",
    "plt.subplot(2,1,2)\n",
    "plt.plot(history_relu.history['loss'])\n",
    "plt.plot(history_relu.history['val_loss'])\n",
    "plt.title('model loss')\n",
    "plt.ylabel('loss')\n",
    "plt.xlabel('epoch')\n",
    "plt.legend(['train', 'test'], loc='upper right')\n",
    "\n",
    "plt.tight_layout()"
   ]
  },
  {
   "cell_type": "code",
   "execution_count": 111,
   "metadata": {},
   "outputs": [
    {
     "data": {
      "image/png": "[encoded data removed]",
      "text/plain": [
       "<Figure size 1440x288 with 10 Axes>"
      ]
     },
     "metadata": {
      "needs_background": "light"
     },
     "output_type": "display_data"
    }
   ],
   "source": [
    "#For ReLu\n",
    "# Display predictions on test data for\n",
    "fig, axes = plt.subplots(ncols=10, sharex=False,\n",
    "\t\t\t sharey=True, figsize=(20, 4))\n",
    "for i in range(10):\n",
    "\taxes[i].set_title(predictions[i])\n",
    "\taxes[i].imshow(X_test[i], cmap='gray')\n",
    "\taxes[i].get_xaxis().set_visible(False)\n",
    "\taxes[i].get_yaxis().set_visible(False)\n",
    "plt.show()"
   ]
  },
  {
   "cell_type": "code",
   "execution_count": 112,
   "metadata": {},
   "outputs": [
    {
     "name": "stdout",
     "output_type": "stream",
     "text": [
      "Model: \"sequential_14\"\n",
      "_________________________________________________________________\n",
      "Layer (type)                 Output Shape              Param #   \n",
      "=================================================================\n",
      "flatten_14 (Flatten)         (None, 784)               0         \n",
      "_________________________________________________________________\n",
      "dense_28 (Dense)             (None, 5)                 3925      \n",
      "_________________________________________________________________\n",
      "dense_29 (Dense)             (None, 10)                60        \n",
      "=================================================================\n",
      "Total params: 3,985\n",
      "Trainable params: 3,985\n",
      "Non-trainable params: 0\n",
      "_________________________________________________________________\n"
     ]
    }
   ],
   "source": [
    "#For tanh\n",
    "# Create simple Neural Network model\n",
    "model3 = Sequential()\n",
    "model3.add(Flatten(input_shape=(28,28)))\n",
    "model3.add(Dense(5, activation='tanh'))\n",
    "model3.add(Dense(10, activation='tanh'))\n",
    "\n",
    "model3.summary()\n",
    "\n",
    "model3.compile(loss='categorical_crossentropy', \n",
    "\t      optimizer='adam',\n",
    "\t      metrics=['acc'])"
   ]
  },
  {
   "cell_type": "code",
   "execution_count": 113,
   "metadata": {},
   "outputs": [
    {
     "name": "stdout",
     "output_type": "stream",
     "text": [
      "Epoch 1/5\n",
      "1875/1875 [==============================] - 3s 1ms/step - loss: 7.2507 - acc: 0.1178 - val_loss: 8.1289 - val_acc: 0.0779\n",
      "Epoch 2/5\n",
      "1875/1875 [==============================] - 2s 1ms/step - loss: 8.1318 - acc: 0.0804 - val_loss: 9.0361 - val_acc: 0.1786\n",
      "Epoch 3/5\n",
      "1875/1875 [==============================] - 3s 1ms/step - loss: 7.3788 - acc: 0.1458 - val_loss: 6.6229 - val_acc: 0.1062\n",
      "Epoch 4/5\n",
      "1875/1875 [==============================] - 3s 1ms/step - loss: 6.6932 - acc: 0.1043 - val_loss: 6.6181 - val_acc: 0.1050\n",
      "Epoch 5/5\n",
      "1875/1875 [==============================] - 2s 1ms/step - loss: 6.9244 - acc: 0.1084 - val_loss: 7.8916 - val_acc: 0.1020\n"
     ]
    }
   ],
   "source": [
    "#For tanh\n",
    "# Train the Neural Network model\n",
    "history_tanh = model3.fit(X_train, y_train, epochs=5, validation_data=(X_test,y_test))\n",
    "#Our model works for 5 times and sets its values by backpropagation"
   ]
  },
  {
   "cell_type": "code",
   "execution_count": 114,
   "metadata": {},
   "outputs": [],
   "source": [
    "#For tanh\n",
    "# Making predictions using our trained model\n",
    "predictions = model3.predict(X_test)\n",
    "predictions = np.argmax(predictions, axis=1)"
   ]
  },
  {
   "cell_type": "code",
   "execution_count": 115,
   "metadata": {},
   "outputs": [
    {
     "data": {
      "image/png": "[encoded data removed]",
      "text/plain": [
       "<Figure size 432x288 with 2 Axes>"
      ]
     },
     "metadata": {
      "needs_background": "light"
     },
     "output_type": "display_data"
    }
   ],
   "source": [
    "#For tanh\n",
    "# plotting the convergence curve\n",
    "fig = plt.figure()\n",
    "plt.subplot(2,1,1)\n",
    "plt.plot(history_tanh.history['acc'])\n",
    "plt.plot(history_tanh.history['val_acc'])\n",
    "plt.title('model accuracy')\n",
    "plt.ylabel('accuracy')\n",
    "plt.xlabel('epoch')\n",
    "plt.legend(['train', 'test'], loc='lower right')\n",
    "\n",
    "plt.subplot(2,1,2)\n",
    "plt.plot(history_tanh.history['loss'])\n",
    "plt.plot(history_tanh.history['val_loss'])\n",
    "plt.title('model loss')\n",
    "plt.ylabel('loss')\n",
    "plt.xlabel('epoch')\n",
    "plt.legend(['train', 'test'], loc='upper right')\n",
    "\n",
    "plt.tight_layout()"
   ]
  },
  {
   "cell_type": "code",
   "execution_count": 116,
   "metadata": {},
   "outputs": [
    {
     "data": {
      "image/png": "[encoded data removed]",
      "text/plain": [
       "<Figure size 1440x288 with 10 Axes>"
      ]
     },
     "metadata": {
      "needs_background": "light"
     },
     "output_type": "display_data"
    }
   ],
   "source": [
    "#For ReLu\n",
    "# Display predictions on test data for\n",
    "fig, axes = plt.subplots(ncols=10, sharex=False,\n",
    "\t\t\t sharey=True, figsize=(20, 4))\n",
    "for i in range(10):\n",
    "\taxes[i].set_title(predictions[i])\n",
    "\taxes[i].imshow(X_test[i], cmap='gray')\n",
    "\taxes[i].get_xaxis().set_visible(False)\n",
    "\taxes[i].get_yaxis().set_visible(False)\n",
    "plt.show()"
   ]
  },
  {
   "cell_type": "code",
   "execution_count": 117,
   "metadata": {},
   "outputs": [],
   "source": [
    "#Summary:\n",
    "\n",
    "#tanh is superior than sigmoid always. ReLu and tanh perform different depend on the model.\n",
    "#ReLu is commonly prefered because it is lot easier to understand and apply especially for deep learning(multi layer ann).\n",
    "\n",
    "#tanh is a logistic function. The range of the tanh function is from (-1 to 1).\n",
    "#Advantage of the tanh : Negative inputs will be mapped strongly negative and the zero inputs will be mapped near zero.\n",
    "#The range of ReLu is from (0 to infinity).\n",
    "#Advantage of the ReLu: Activation is sparse and efficient.\n",
    "#It should only be used within Hidden layers of a Neural Network Model.\n",
    "\n",
    "#In the model the learning rate a is 0,01 default value.\n",
    "#"
   ]
  },
  {
   "cell_type": "code",
   "execution_count": null,
   "metadata": {},
   "outputs": [],
   "source": []
  }
 ],
 "metadata": {
  "kernelspec": {
   "display_name": "Python 3",
   "language": "python",
   "name": "python3"
  },
  "language_info": {
   "codemirror_mode": {
    "name": "ipython",
    "version": 3
   },
   "file_extension": ".py",
   "mimetype": "text/x-python",
   "name": "python",
   "nbconvert_exporter": "python",
   "pygments_lexer": "ipython3",
   "version": "3.8.5"
  }
 },
 "nbformat": 4,
 "nbformat_minor": 4
}
