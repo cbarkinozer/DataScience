#Forecasting payment using sklearn
#Learned a lot but can't make it work
import numpy as np
import pandas as pd
import matplotlib.pyplot as plt


test_set = pd.read_csv('C:/Users/barkin/test_set.csv')
train = pd.read_csv('C:/Users/barkin/train.csv')

#copying
test=test_set.copy()
data=train.copy()

#Delete SEKTOR because we already have id
test.pop("sector")
data.pop("sector")

# islem turu one hot yapılcak 

#test
# Get one hot encoding of column
one_hot = pd.get_dummies(test['islem_turu'])
# Drop column  as it is now encoded
test = test.drop('islem_turu',axis = 1)
# Join the encoded 
test = test.join(one_hot)
# Drop dummy column  as it is now encoded
test = test.drop('taksit',axis = 1)

#data
# Get one hot encoding of columns 
one_hot = pd.get_dummies(data['islem'])
# Drop column  as it is now encoded
data = data.drop('islem_turu',axis = 1)
# Join the encoded 
data = data.join(one_hot)
# Drop dummy column  as it is now encoded
data = data.drop('taksit',axis = 1)

# Drop NaN column
test = test.drop('islem_tutar',axis = 1)
#add new column full of zeros
test['islem_tutar'] = 0
#change the place of the zero column to first index
cols = test.columns.tolist()
cols = cols[-1:] + cols[:-1]
test = test[cols]
# I must  have consist number of rows
data.shape
test.shape

data = data[data.index < 219666]

from sklearn.model_selection import train_test_split
X_train, X_test, y_train, y_test = train_test_split(data, test, test_size=0.33, random_state=42)

#fit model
from sklearn.linear_model import  LinearRegression
regressor=LinearRegression()
y_pred = regressor.fit(X_train,y_train)
print(y_pred)
prediction = y_pred.predict(X_test)
print(prediction)

#My prediction is meaningless so i quit here

# make a new dataframe
# in that dataframe there will be 2 columns
# one for id one for guess
# id should sum the guesses
