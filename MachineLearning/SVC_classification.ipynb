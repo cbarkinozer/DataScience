{
 "cells": [
  {
   "cell_type": "code",
   "execution_count": 16,
   "metadata": {},
   "outputs": [],
   "source": [
    "#Loading 3 datasets\n",
    "from sklearn.datasets import load_iris,load_wine,load_breast_cancer\n",
    "iris_X,iris_y=load_iris(return_X_y=True)\n",
    "wine_X,wine_y=load_wine(return_X_y=True)\n",
    "breast_X,breast_y=load_breast_cancer(return_X_y=True)"
   ]
  },
  {
   "cell_type": "code",
   "execution_count": 17,
   "metadata": {},
   "outputs": [],
   "source": [
    "from sklearn.model_selection import train_test_split\n",
    "#2-fold splitting\n",
    "iris_X_train, iris_X_test, iris_y_train, iris_y_test = train_test_split(iris_X, iris_y, test_size = 0.25, random_state = 0)\n",
    "wine_X_train, wine_X_test, wine_y_train, wine_y_test = train_test_split(wine_X, wine_y, test_size = 0.25, random_state = 0)\n",
    "breast_X_train, breast_X_test, breast_y_train, breast_y_test = train_test_split(breast_X, breast_y, test_size = 0.25, random_state = 0)"
   ]
  },
  {
   "cell_type": "code",
   "execution_count": 27,
   "metadata": {},
   "outputs": [
    {
     "data": {
      "text/plain": [
       "SVC(kernel='linear', random_state=0)"
      ]
     },
     "execution_count": 27,
     "metadata": {},
     "output_type": "execute_result"
    }
   ],
   "source": [
    "#Building and training support vector classifier\n",
    "from sklearn.svm import SVC\n",
    "iris_svc = SVC(kernel='linear', random_state = 0)\n",
    "iris_svc.fit(iris_X_train, iris_y_train)\n",
    "\n",
    "wine_svc = SVC(kernel='linear', random_state = 0)\n",
    "wine_svc.fit(wine_X_train, wine_y_train)\n",
    "\n",
    "breast_svc=SVC(kernel='linear',random_state=0)\n",
    "breast_svc.fit(breast_X_train,breast_y_train)"
   ]
  },
  {
   "cell_type": "code",
   "execution_count": 28,
   "metadata": {},
   "outputs": [],
   "source": [
    "#Getting predictions for the test values from the model\n",
    "iris_y_pred = iris_svc.predict(iris_X_test)\n",
    "wine_y_pred = wine_svc.predict(wine_X_test)\n",
    "breast_y_pred = breast_svc.predict(breast_X_test)"
   ]
  },
  {
   "cell_type": "code",
   "execution_count": 29,
   "metadata": {},
   "outputs": [],
   "source": [
    "#To test accuracy\n",
    "from sklearn.metrics import accuracy_score\n",
    "iris_score = accuracy_score(iris_y_pred,iris_y_test)\n",
    "wine_score = accuracy_score(wine_y_pred,wine_y_test)\n",
    "breast_score = accuracy_score(breast_y_pred,breast_y_test)"
   ]
  },
  {
   "cell_type": "code",
   "execution_count": 34,
   "metadata": {},
   "outputs": [],
   "source": [
    "#Confusion Matrix\n",
    "from sklearn.metrics import confusion_matrix\n",
    "iris_cm = confusion_matrix(iris_y_test, iris_y_pred)\n",
    "wine_cm = confusion_matrix(wine_y_test,wine_y_pred)\n",
    "breast_cm=confusion_matrix(breast_y_test,breast_y_pred)"
   ]
  },
  {
   "cell_type": "code",
   "execution_count": 49,
   "metadata": {},
   "outputs": [
    {
     "name": "stdout",
     "output_type": "stream",
     "text": [
      "Iris svc classification score: 0.9736842105263158\n",
      "Iris confusion matrix:\n",
      "['setosa' 'versicolor' 'virginica']\n",
      "[[13  0  0]\n",
      " [ 0 15  1]\n",
      " [ 0  0  9]] \n",
      "\n",
      "Wine svc classification score: 0.9777777777777777\n",
      "Wine confusion matrix:\n",
      "['class_0' 'class_1' 'class_2']\n",
      "[[16  0  0]\n",
      " [ 0 20  1]\n",
      " [ 0  0  8]] \n",
      "\n",
      "Breast svc classification score: 0.958041958041958\n",
      "Breast confusion matrix:\n",
      "['malignant' 'benign']\n",
      "[[52  1]\n",
      " [ 5 85]]\n"
     ]
    }
   ],
   "source": [
    "print('Iris svc classification score:',iris_score)\n",
    "print('Iris confusion matrix:')\n",
    "print(iris.target_names)\n",
    "print(iris_cm,'\\n')\n",
    "\n",
    "print('Wine svc classification score:',wine_score)\n",
    "print('Wine confusion matrix:')\n",
    "print(wine.target_names)\n",
    "print(wine_cm,'\\n')\n",
    "\n",
    "print('Breast svc classification score:',breast_score)\n",
    "print('Breast confusion matrix:')\n",
    "print(breast.target_names)\n",
    "print(breast_cm)"
   ]
  }
 ],
 "metadata": {
  "kernelspec": {
   "display_name": "Python 3",
   "language": "python",
   "name": "python3"
  },
  "language_info": {
   "codemirror_mode": {
    "name": "ipython",
    "version": 3
   },
   "file_extension": ".py",
   "mimetype": "text/x-python",
   "name": "python",
   "nbconvert_exporter": "python",
   "pygments_lexer": "ipython3",
   "version": "3.8.5"
  }
 },
 "nbformat": 4,
 "nbformat_minor": 4
}
