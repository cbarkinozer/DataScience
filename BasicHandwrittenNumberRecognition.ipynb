# Challange is training to 99% accuracy without exceeding 9 epochs
import tensorflow as tf
from os import path, getcwd, chdir

path = f"{getcwd()}/../tmp2/mnist.npz"

#  A callback, it is for stopping when reached 99% accuracy
def train_mnist():
    class myCallback(tf.keras.callbacks.Callback):
        def on_epoch_end(self, epoch, logs={}):
            if logs.get('accuracy') is not None and logs.get('accuracy') >= 0.99:
                print("Reached 99% accuracy so cancelling training!")
                self.model.stop_training = True

    mnist = tf.keras.datasets.mnist
    
    # Dividing the data to train and test datasets
    (x_train, y_train),(x_test, y_test) = mnist.load_data(path=path)
    
    # Normalization gives better resulsts by changing data range [0,255] to [0,1]
    x_train=x_train/255.0
    y_train=y_train/255.0
   
    # ANN model definition: Sequential model, firstly, image is flattened
    # Dense means all nodes are connected to each other
    # Output has 10 nodes each represents a number
    model = tf.keras.models.Sequential([
        
        tf.keras.layers.Flatten(input_shape=(28, 28)),
        tf.keras.layers.Dense(512, activation=tf.nn.relu),
        tf.keras.layers.Dense(10, activation=tf.nn.softmax)
       
    ])

    model.compile(optimizer='adam',
                  loss='sparse_categorical_crossentropy',
                  metrics=['accuracy'])
    
    # model fitting
    history = model.fit(x_train,y_train,epochs=10,callbacks=[myCallback()])
    return history.epoch, history.history['acc'][-1]
    train_mnist()
