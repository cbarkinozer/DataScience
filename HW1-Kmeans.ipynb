{
 "cells": [
  {
   "cell_type": "code",
   "execution_count": 52,
   "metadata": {},
   "outputs": [],
   "source": [
    "import pandas as pd #Uploading csv files etc.\n",
    "import numpy as np #For matrix aritmethics\n",
    "from sklearn.cluster import KMeans #For Kmeans algorithm\n",
    "from sklearn.metrics import mean_squared_error #For calculating the accuracy"
   ]
  },
  {
   "cell_type": "code",
   "execution_count": 53,
   "metadata": {},
   "outputs": [],
   "source": [
    "#Put the csv files in the same file with the code\n",
    "breast_data = pd.read_csv('breast_data.csv')\n",
    "breast_truth = pd.read_csv('breast_truth.csv')"
   ]
  },
  {
   "cell_type": "code",
   "execution_count": 54,
   "metadata": {},
   "outputs": [
    {
     "data": {
      "text/plain": [
       "(568, 30)"
      ]
     },
     "execution_count": 54,
     "metadata": {},
     "output_type": "execute_result"
    }
   ],
   "source": [
    "#We checked number of rows and columns of breast_data\n",
    "breast_data.shape"
   ]
  },
  {
   "cell_type": "code",
   "execution_count": 55,
   "metadata": {},
   "outputs": [
    {
     "data": {
      "text/plain": [
       "(568, 1)"
      ]
     },
     "execution_count": 55,
     "metadata": {},
     "output_type": "execute_result"
    }
   ],
   "source": [
    "#We check number of rows and columns of breast_truth\n",
    "breast_truth.shape"
   ]
  },
  {
   "cell_type": "code",
   "execution_count": 56,
   "metadata": {},
   "outputs": [
    {
     "data": {
      "text/plain": [
       "KMeans(n_clusters=2)"
      ]
     },
     "execution_count": 56,
     "metadata": {},
     "output_type": "execute_result"
    }
   ],
   "source": [
    "#K is a hyperparameter(we decide it's value)\n",
    "#In our problem there are 2 clusters: benign and malign\n",
    "kmean=KMeans(n_clusters=2)\n",
    "kmean.fit(breast_data)"
   ]
  },
  {
   "cell_type": "code",
   "execution_count": 57,
   "metadata": {},
   "outputs": [
    {
     "data": {
      "text/plain": [
       "array([[1.25562991e+01, 1.85703653e+01, 8.11234703e+01, 4.96061872e+02,\n",
       "        9.48844977e-02, 9.10998174e-02, 6.24377642e-02, 3.34325434e-02,\n",
       "        1.78057991e-01, 6.34540183e-02, 3.04190868e-01, 1.21515320e+00,\n",
       "        2.15288059e+00, 2.37852922e+01, 7.17326256e-03, 2.34746895e-02,\n",
       "        2.87455128e-02, 1.06363242e-02, 2.06135799e-02, 3.74750297e-03,\n",
       "        1.40439018e+01, 2.47095434e+01, 9.19375114e+01, 6.19647945e+02,\n",
       "        1.29959110e-01, 2.23311758e-01, 2.19214947e-01, 9.13298425e-02,\n",
       "        2.83553653e-01, 8.32819406e-02],\n",
       "       [1.93906154e+01, 2.17816154e+01, 1.28273077e+02, 1.18735231e+03,\n",
       "        1.01163000e-01, 1.47620769e-01, 1.75992077e-01, 1.00341846e-01,\n",
       "        1.91152308e-01, 6.04636154e-02, 7.40094615e-01, 1.22497846e+00,\n",
       "        5.22490000e+00, 9.52341538e+01, 6.60022308e-03, 3.20469769e-02,\n",
       "        4.23327692e-02, 1.56724769e-02, 2.02291538e-02, 3.93616154e-03,\n",
       "        2.36966154e+01, 2.90017692e+01, 1.58295385e+02, 1.75097692e+03,\n",
       "        1.40257231e-01, 3.55389692e-01, 4.47286154e-01, 1.91869769e-01,\n",
       "        3.10741538e-01, 8.59136923e-02]])"
      ]
     },
     "execution_count": 57,
     "metadata": {},
     "output_type": "execute_result"
    }
   ],
   "source": [
    "#We can see our centers\n",
    "kmean.cluster_centers_"
   ]
  },
  {
   "cell_type": "code",
   "execution_count": 58,
   "metadata": {},
   "outputs": [
    {
     "data": {
      "text/plain": [
       "array([1, 1, 0, 1, 0, 1, 0, 0, 0, 0, 1, 1, 0, 0, 0, 0, 1, 1, 0, 0, 0, 0,\n",
       "       1, 1, 1, 0, 1, 1, 1, 1, 0, 1, 1, 1, 1, 0, 0, 0, 0, 0, 0, 1, 0, 0,\n",
       "       1, 0, 0, 0, 0, 0, 0, 0, 1, 0, 0, 1, 0, 0, 0, 0, 0, 0, 0, 0, 0, 0,\n",
       "       0, 0, 0, 1, 0, 1, 0, 0, 1, 0, 1, 1, 0, 0, 0, 1, 1, 0, 1, 0, 1, 0,\n",
       "       0, 0, 0, 0, 0, 0, 1, 0, 0, 0, 0, 0, 0, 0, 0, 0, 0, 0, 0, 1, 0, 0,\n",
       "       0, 0, 0, 0, 0, 0, 0, 1, 1, 0, 1, 1, 0, 0, 0, 0, 1, 0, 1, 0, 0, 0,\n",
       "       0, 1, 0, 0, 0, 0, 0, 0, 1, 0, 0, 0, 0, 0, 0, 0, 0, 0, 0, 0, 0, 0,\n",
       "       0, 1, 0, 0, 0, 0, 1, 1, 0, 1, 0, 0, 1, 1, 0, 0, 0, 0, 0, 0, 0, 0,\n",
       "       0, 0, 0, 1, 1, 1, 0, 0, 0, 1, 0, 0, 0, 0, 0, 0, 0, 0, 0, 0, 1, 1,\n",
       "       0, 0, 1, 1, 0, 0, 0, 0, 1, 0, 0, 1, 0, 1, 0, 0, 0, 0, 0, 1, 1, 0,\n",
       "       0, 0, 0, 0, 0, 0, 0, 0, 0, 1, 0, 0, 1, 0, 0, 1, 1, 0, 1, 0, 0, 0,\n",
       "       0, 1, 0, 0, 0, 0, 0, 1, 0, 1, 1, 1, 0, 1, 0, 1, 0, 1, 1, 1, 0, 1,\n",
       "       1, 0, 0, 0, 0, 0, 0, 1, 0, 1, 0, 0, 1, 0, 0, 1, 0, 1, 0, 0, 0, 0,\n",
       "       0, 0, 0, 0, 0, 0, 0, 0, 0, 0, 0, 0, 0, 1, 0, 1, 0, 0, 0, 0, 0, 0,\n",
       "       0, 0, 0, 0, 0, 0, 0, 0, 1, 0, 0, 0, 1, 0, 1, 0, 0, 0, 0, 0, 0, 0,\n",
       "       0, 0, 0, 0, 1, 0, 1, 0, 1, 0, 0, 0, 1, 0, 0, 0, 0, 0, 0, 0, 0, 1,\n",
       "       0, 0, 0, 0, 0, 0, 0, 0, 0, 0, 0, 0, 1, 1, 0, 1, 1, 0, 0, 1, 1, 0,\n",
       "       0, 0, 0, 0, 0, 0, 0, 0, 0, 0, 0, 0, 0, 0, 1, 0, 0, 1, 1, 0, 0, 0,\n",
       "       0, 0, 0, 1, 0, 0, 0, 0, 0, 0, 0, 1, 0, 0, 0, 0, 0, 0, 0, 0, 1, 0,\n",
       "       0, 0, 0, 0, 0, 0, 0, 0, 0, 0, 0, 0, 0, 1, 1, 0, 0, 0, 0, 0, 0, 0,\n",
       "       1, 0, 0, 1, 0, 1, 0, 0, 1, 0, 1, 0, 0, 0, 0, 0, 0, 0, 0, 1, 1, 0,\n",
       "       0, 0, 0, 0, 0, 1, 0, 0, 0, 0, 0, 0, 0, 0, 0, 0, 0, 0, 0, 0, 0, 0,\n",
       "       0, 0, 1, 0, 0, 0, 1, 1, 0, 0, 0, 0, 0, 1, 1, 0, 0, 0, 1, 0, 0, 0,\n",
       "       0, 0, 0, 0, 0, 0, 0, 0, 0, 1, 1, 0, 0, 0, 1, 0, 0, 0, 0, 0, 0, 0,\n",
       "       0, 0, 0, 0, 1, 0, 1, 0, 0, 0, 0, 0, 0, 0, 0, 0, 0, 0, 0, 0, 0, 0,\n",
       "       0, 0, 0, 0, 0, 0, 0, 0, 0, 0, 0, 0, 1, 1, 1, 0, 1, 0])"
      ]
     },
     "execution_count": 58,
     "metadata": {},
     "output_type": "execute_result"
    }
   ],
   "source": [
    "#We can check labels created\n",
    "breast_predict=kmean.labels_\n",
    "breast_predict"
   ]
  },
  {
   "cell_type": "code",
   "execution_count": 63,
   "metadata": {},
   "outputs": [
    {
     "name": "stdout",
     "output_type": "stream",
     "text": [
      "% 14.612676056338028\n"
     ]
    }
   ],
   "source": [
    "#Accuracy is not commonly used in unsupervised algorithms altough\n",
    "#We can check the accuracy by using MSE(mean squared error)\n",
    "#Result is very low as expected (%14)\n",
    "#Kmeans gets better by iteration(also called lazy learner because of it's this feature)\n",
    "print('%',100*mean_squared_error(breast_predict,breast_truth))"
   ]
  },
  {
   "cell_type": "code",
   "execution_count": 62,
   "metadata": {},
   "outputs": [
    {
     "name": "stdout",
     "output_type": "stream",
     "text": [
      "Iteration 1 :   % 85.38732394366197\n",
      "Iteration 2 :   % 14.612676056338028\n",
      "Iteration 3 :   % 14.612676056338028\n",
      "Iteration 4 :   % 85.38732394366197\n",
      "Iteration 5 :   % 85.38732394366197\n",
      "Iteration 6 :   % 85.38732394366197\n",
      "Iteration 7 :   % 14.612676056338028\n",
      "Iteration 8 :   % 14.612676056338028\n",
      "Iteration 9 :   % 14.612676056338028\n",
      "Iteration 10 :   % 14.612676056338028\n",
      "Iteration 11 :   % 14.612676056338028\n",
      "Iteration 12 :   % 14.612676056338028\n",
      "Iteration 13 :   % 14.612676056338028\n",
      "Iteration 14 :   % 14.612676056338028\n",
      "Iteration 15 :   % 85.38732394366197\n",
      "Iteration 16 :   % 14.612676056338028\n",
      "Iteration 17 :   % 85.38732394366197\n",
      "Iteration 18 :   % 14.612676056338028\n",
      "Iteration 19 :   % 14.612676056338028\n",
      "Iteration 20 :   % 14.612676056338028\n"
     ]
    }
   ],
   "source": [
    "#Running our algorithm several times starting with different centers\n",
    "#The result got better(%85) because kmeans learns slow to not overfit data\n",
    "for i in range(1,21):\n",
    "    #kmean=KMeans(n_clusters=2) \n",
    "    kmean.fit(breast_data)\n",
    "    breast_predict=kmean.labels_\n",
    "    print('Iteration',i,':   %',100*mean_squared_error(breast_predict,breast_truth))"
   ]
  },
  {
   "cell_type": "code",
   "execution_count": null,
   "metadata": {},
   "outputs": [],
   "source": []
  }
 ],
 "metadata": {
  "kernelspec": {
   "display_name": "Python 3",
   "language": "python",
   "name": "python3"
  },
  "language_info": {
   "codemirror_mode": {
    "name": "ipython",
    "version": 3
   },
   "file_extension": ".py",
   "mimetype": "text/x-python",
   "name": "python",
   "nbconvert_exporter": "python",
   "pygments_lexer": "ipython3",
   "version": "3.8.5"
  }
 },
 "nbformat": 4,
 "nbformat_minor": 4
}
