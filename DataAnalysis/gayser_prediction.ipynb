{
 "cells": [
  {
   "cell_type": "code",
   "execution_count": 110,
   "metadata": {},
   "outputs": [
    {
     "data": {
      "text/plain": [
       "['anagrams',\n",
       " 'anscombe',\n",
       " 'attention',\n",
       " 'brain_networks',\n",
       " 'car_crashes',\n",
       " 'diamonds',\n",
       " 'dots',\n",
       " 'exercise',\n",
       " 'flights',\n",
       " 'fmri',\n",
       " 'gammas',\n",
       " 'geyser',\n",
       " 'iris',\n",
       " 'mpg',\n",
       " 'penguins',\n",
       " 'planets',\n",
       " 'tips',\n",
       " 'titanic']"
      ]
     },
     "execution_count": 110,
     "metadata": {},
     "output_type": "execute_result"
    }
   ],
   "source": [
    "import pandas as pd\n",
    "import numpy as np\n",
    "import seaborn as sns\n",
    "sns.get_dataset_names()\n",
    "#I select the geyser dataset"
   ]
  },
  {
   "cell_type": "code",
   "execution_count": 111,
   "metadata": {},
   "outputs": [
    {
     "data": {
      "text/html": [
       "<div>\n",
       "<style scoped>\n",
       "    .dataframe tbody tr th:only-of-type {\n",
       "        vertical-align: middle;\n",
       "    }\n",
       "\n",
       "    .dataframe tbody tr th {\n",
       "        vertical-align: top;\n",
       "    }\n",
       "\n",
       "    .dataframe thead th {\n",
       "        text-align: right;\n",
       "    }\n",
       "</style>\n",
       "<table border=\"1\" class=\"dataframe\">\n",
       "  <thead>\n",
       "    <tr style=\"text-align: right;\">\n",
       "      <th></th>\n",
       "      <th>duration</th>\n",
       "      <th>waiting</th>\n",
       "      <th>kind</th>\n",
       "    </tr>\n",
       "  </thead>\n",
       "  <tbody>\n",
       "    <tr>\n",
       "      <th>0</th>\n",
       "      <td>3.600</td>\n",
       "      <td>79</td>\n",
       "      <td>long</td>\n",
       "    </tr>\n",
       "    <tr>\n",
       "      <th>1</th>\n",
       "      <td>1.800</td>\n",
       "      <td>54</td>\n",
       "      <td>short</td>\n",
       "    </tr>\n",
       "    <tr>\n",
       "      <th>2</th>\n",
       "      <td>3.333</td>\n",
       "      <td>74</td>\n",
       "      <td>long</td>\n",
       "    </tr>\n",
       "    <tr>\n",
       "      <th>3</th>\n",
       "      <td>2.283</td>\n",
       "      <td>62</td>\n",
       "      <td>short</td>\n",
       "    </tr>\n",
       "    <tr>\n",
       "      <th>4</th>\n",
       "      <td>4.533</td>\n",
       "      <td>85</td>\n",
       "      <td>long</td>\n",
       "    </tr>\n",
       "    <tr>\n",
       "      <th>5</th>\n",
       "      <td>2.883</td>\n",
       "      <td>55</td>\n",
       "      <td>short</td>\n",
       "    </tr>\n",
       "    <tr>\n",
       "      <th>6</th>\n",
       "      <td>4.700</td>\n",
       "      <td>88</td>\n",
       "      <td>long</td>\n",
       "    </tr>\n",
       "    <tr>\n",
       "      <th>7</th>\n",
       "      <td>3.600</td>\n",
       "      <td>85</td>\n",
       "      <td>long</td>\n",
       "    </tr>\n",
       "    <tr>\n",
       "      <th>8</th>\n",
       "      <td>1.950</td>\n",
       "      <td>51</td>\n",
       "      <td>short</td>\n",
       "    </tr>\n",
       "    <tr>\n",
       "      <th>9</th>\n",
       "      <td>4.350</td>\n",
       "      <td>85</td>\n",
       "      <td>long</td>\n",
       "    </tr>\n",
       "  </tbody>\n",
       "</table>\n",
       "</div>"
      ],
      "text/plain": [
       "   duration  waiting   kind\n",
       "0     3.600       79   long\n",
       "1     1.800       54  short\n",
       "2     3.333       74   long\n",
       "3     2.283       62  short\n",
       "4     4.533       85   long\n",
       "5     2.883       55  short\n",
       "6     4.700       88   long\n",
       "7     3.600       85   long\n",
       "8     1.950       51  short\n",
       "9     4.350       85   long"
      ]
     },
     "execution_count": 111,
     "metadata": {},
     "output_type": "execute_result"
    }
   ],
   "source": [
    "geyser=sns.load_dataset('geyser')\n",
    "geyser.head(10)\n",
    "#There are 3 columns 1 float, 1 integer and 1 categoric"
   ]
  },
  {
   "cell_type": "code",
   "execution_count": 112,
   "metadata": {},
   "outputs": [],
   "source": [
    "#DataFrame. DataFrame is a 2-dimensional labeled data structure with columns of potentially different types.\n",
    "#It is generally the most commonly used pandas object.\n",
    "geyser_df = pd.DataFrame(geyser)\n",
    "geyser_df.columns = columns"
   ]
  },
  {
   "cell_type": "code",
   "execution_count": 113,
   "metadata": {},
   "outputs": [
    {
     "data": {
      "text/plain": [
       "duration    0\n",
       "waiting     0\n",
       "kind        0\n",
       "dtype: int64"
      ]
     },
     "execution_count": 113,
     "metadata": {},
     "output_type": "execute_result"
    }
   ],
   "source": [
    "geyser_df.isnull().sum()\n",
    "#There are no null values"
   ]
  },
  {
   "cell_type": "code",
   "execution_count": 114,
   "metadata": {},
   "outputs": [
    {
     "data": {
      "text/plain": [
       "<AxesSubplot:xlabel='duration'>"
      ]
     },
     "execution_count": 114,
     "metadata": {},
     "output_type": "execute_result"
    },
    {
     "data": {
      "image/png": "[encoded data removed]",
      "text/plain": [
       "<Figure size 432x288 with 1 Axes>"
      ]
     },
     "metadata": {
      "needs_background": "light"
     },
     "output_type": "display_data"
    }
   ],
   "source": [
    "#Let's check outliers\n",
    "sns.boxplot(x=geyser_df['duration'])"
   ]
  },
  {
   "cell_type": "code",
   "execution_count": 115,
   "metadata": {},
   "outputs": [
    {
     "data": {
      "text/plain": [
       "<AxesSubplot:xlabel='waiting'>"
      ]
     },
     "execution_count": 115,
     "metadata": {},
     "output_type": "execute_result"
    },
    {
     "data": {
      "image/png": "[encoded data removed]",
      "text/plain": [
       "<Figure size 432x288 with 1 Axes>"
      ]
     },
     "metadata": {
      "needs_background": "light"
     },
     "output_type": "display_data"
    }
   ],
   "source": [
    "sns.boxplot(x=geyser_df['waiting'])"
   ]
  },
  {
   "cell_type": "code",
   "execution_count": 116,
   "metadata": {},
   "outputs": [],
   "source": [
    "#No outliers\n",
    "#Let's encode the categorical values\n",
    "#One-Hot for non ordinal categorical values\n",
    "#Ordinal encoding for ordinal categorical values\n",
    "#One-hot vs Dummy encoding\n",
    "#One hot creates k numbers, dummy creates k-1 numbers\n",
    "#Where k is the amount of categorical number of values"
   ]
  },
  {
   "cell_type": "code",
   "execution_count": 117,
   "metadata": {},
   "outputs": [
    {
     "name": "stdout",
     "output_type": "stream",
     "text": [
      "     long  short\n",
      "0       1      0\n",
      "1       0      1\n",
      "2       1      0\n",
      "3       0      1\n",
      "4       1      0\n",
      "..    ...    ...\n",
      "267     1      0\n",
      "268     0      1\n",
      "269     1      0\n",
      "270     0      1\n",
      "271     1      0\n",
      "\n",
      "[272 rows x 2 columns]\n"
     ]
    }
   ],
   "source": [
    "s = pd.Series(geyser_df['kind'])\n",
    "encoded=pd.get_dummies(s)\n",
    "print(encoded)"
   ]
  },
  {
   "cell_type": "code",
   "execution_count": 118,
   "metadata": {},
   "outputs": [],
   "source": [
    "#Now we will delete kind column, and add our encoded long column\n",
    "#We are adding only the long column because adding 2 columns that are about\n",
    "#the same thing affects doubles the result\n",
    "del geyser_df['kind']\n",
    "geyser_df['long']=encoded['long']"
   ]
  },
  {
   "cell_type": "code",
   "execution_count": 119,
   "metadata": {},
   "outputs": [
    {
     "data": {
      "text/html": [
       "<div>\n",
       "<style scoped>\n",
       "    .dataframe tbody tr th:only-of-type {\n",
       "        vertical-align: middle;\n",
       "    }\n",
       "\n",
       "    .dataframe tbody tr th {\n",
       "        vertical-align: top;\n",
       "    }\n",
       "\n",
       "    .dataframe thead th {\n",
       "        text-align: right;\n",
       "    }\n",
       "</style>\n",
       "<table border=\"1\" class=\"dataframe\">\n",
       "  <thead>\n",
       "    <tr style=\"text-align: right;\">\n",
       "      <th></th>\n",
       "      <th>duration</th>\n",
       "      <th>waiting</th>\n",
       "      <th>kind</th>\n",
       "    </tr>\n",
       "  </thead>\n",
       "  <tbody>\n",
       "    <tr>\n",
       "      <th>0</th>\n",
       "      <td>3.600</td>\n",
       "      <td>79</td>\n",
       "      <td>1</td>\n",
       "    </tr>\n",
       "    <tr>\n",
       "      <th>1</th>\n",
       "      <td>1.800</td>\n",
       "      <td>54</td>\n",
       "      <td>0</td>\n",
       "    </tr>\n",
       "    <tr>\n",
       "      <th>2</th>\n",
       "      <td>3.333</td>\n",
       "      <td>74</td>\n",
       "      <td>1</td>\n",
       "    </tr>\n",
       "    <tr>\n",
       "      <th>3</th>\n",
       "      <td>2.283</td>\n",
       "      <td>62</td>\n",
       "      <td>0</td>\n",
       "    </tr>\n",
       "    <tr>\n",
       "      <th>4</th>\n",
       "      <td>4.533</td>\n",
       "      <td>85</td>\n",
       "      <td>1</td>\n",
       "    </tr>\n",
       "    <tr>\n",
       "      <th>...</th>\n",
       "      <td>...</td>\n",
       "      <td>...</td>\n",
       "      <td>...</td>\n",
       "    </tr>\n",
       "    <tr>\n",
       "      <th>267</th>\n",
       "      <td>4.117</td>\n",
       "      <td>81</td>\n",
       "      <td>1</td>\n",
       "    </tr>\n",
       "    <tr>\n",
       "      <th>268</th>\n",
       "      <td>2.150</td>\n",
       "      <td>46</td>\n",
       "      <td>0</td>\n",
       "    </tr>\n",
       "    <tr>\n",
       "      <th>269</th>\n",
       "      <td>4.417</td>\n",
       "      <td>90</td>\n",
       "      <td>1</td>\n",
       "    </tr>\n",
       "    <tr>\n",
       "      <th>270</th>\n",
       "      <td>1.817</td>\n",
       "      <td>46</td>\n",
       "      <td>0</td>\n",
       "    </tr>\n",
       "    <tr>\n",
       "      <th>271</th>\n",
       "      <td>4.467</td>\n",
       "      <td>74</td>\n",
       "      <td>1</td>\n",
       "    </tr>\n",
       "  </tbody>\n",
       "</table>\n",
       "<p>272 rows × 3 columns</p>\n",
       "</div>"
      ],
      "text/plain": [
       "     duration  waiting  kind\n",
       "0       3.600       79     1\n",
       "1       1.800       54     0\n",
       "2       3.333       74     1\n",
       "3       2.283       62     0\n",
       "4       4.533       85     1\n",
       "..        ...      ...   ...\n",
       "267     4.117       81     1\n",
       "268     2.150       46     0\n",
       "269     4.417       90     1\n",
       "270     1.817       46     0\n",
       "271     4.467       74     1\n",
       "\n",
       "[272 rows x 3 columns]"
      ]
     },
     "execution_count": 119,
     "metadata": {},
     "output_type": "execute_result"
    }
   ],
   "source": [
    "#Let's change column name long to kind\n",
    "geyser_df= geyser_df.rename(columns={\"long\": \"kind\"})\n",
    "geyser_df"
   ]
  },
  {
   "cell_type": "code",
   "execution_count": 120,
   "metadata": {},
   "outputs": [
    {
     "name": "stdout",
     "output_type": "stream",
     "text": [
      "x train number of rows: 162\n",
      "x validation number of rows: 55\n",
      "x test number of rows: 55\n",
      "y train number of rows: 162\n",
      "y validation number of rows: 55\n",
      "y test number of rows: 55\n"
     ]
    }
   ],
   "source": [
    "from sklearn.model_selection import train_test_split\n",
    "# Veri seti öncelikle train ve test olarak ikiye ayrılıyor\n",
    "x_train, x_test, y_train, y_test = train_test_split(geyser_df, # independent variables\n",
    "                                                    geyser_df['waiting'], # target\n",
    "                                                    test_size = 0.2, # test set percentile\n",
    "                                                    shuffle = False, # shuffless rows vertically\n",
    "                                                    random_state = None)\n",
    "\n",
    "# Train dataset split (%25) validation from itself \n",
    "x_train, x_val, y_train, y_val = train_test_split(x_train, y_train,\n",
    "                                                  test_size = 0.25,\n",
    "                                                  shuffle = False)\n",
    "# All datasets\n",
    "all = {\"x train\" : x_train,\n",
    "       \"x validation\" : x_val,\n",
    "       \"x test\" : x_test,\n",
    "       \"y train\" : y_train,\n",
    "       \"y validation\": y_val,\n",
    "       \"y test\": y_test}\n",
    "\n",
    "# Features of datasets\n",
    "for i in all:\n",
    "    print(f\"{i} number of rows: {len(all.get(i))}\")"
   ]
  },
  {
   "cell_type": "code",
   "execution_count": 121,
   "metadata": {},
   "outputs": [],
   "source": [
    "#METRIC\n",
    "#I will choose RMSE because there are no outliers(RMSLE) or no punishment intend\n",
    "import math"
   ]
  },
  {
   "cell_type": "code",
   "execution_count": 122,
   "metadata": {},
   "outputs": [],
   "source": [
    "#MODELS"
   ]
  },
  {
   "cell_type": "code",
   "execution_count": 123,
   "metadata": {},
   "outputs": [],
   "source": [
    "#DO NOT forget our dataset is very small so less learning algorithms\n",
    "#will succed and more complex models will fail.\n",
    "#If the RMSE metric solution is below 1 I will call it an overfit."
   ]
  },
  {
   "cell_type": "code",
   "execution_count": 124,
   "metadata": {},
   "outputs": [
    {
     "name": "stdout",
     "output_type": "stream",
     "text": [
      "Root Mean Squared Error: 7.842350716216406e-15\n",
      "     Actual  Predicted\n",
      "217      94       94.0\n",
      "218      55       55.0\n",
      "219      76       76.0\n",
      "220      50       50.0\n",
      "221      82       82.0\n",
      "222      54       54.0\n",
      "223      75       75.0\n",
      "224      78       78.0\n",
      "225      79       79.0\n",
      "226      78       78.0\n"
     ]
    }
   ],
   "source": [
    "#LinearRegression\n",
    "from sklearn.linear_model import LinearRegression\n",
    "regressor = LinearRegression()\n",
    "regressor.fit(x_train, y_train)\n",
    "y_pred = regressor.predict(x_test)\n",
    "df = pd.DataFrame({'Actual': y_test, 'Predicted': y_pred})\n",
    "MSE = np.square(np.subtract(y_test,y_pred)).mean() \n",
    "RMSE = math.sqrt(MSE)\n",
    "print('Root Mean Squared Error:',RMSE)\n",
    "print(df.head(10))\n",
    "#It is overfitted why?"
   ]
  },
  {
   "cell_type": "code",
   "execution_count": 125,
   "metadata": {},
   "outputs": [
    {
     "name": "stdout",
     "output_type": "stream",
     "text": [
      "Root Mean Squared Error: 3.222082894932745\n",
      "     Actual  Predicted\n",
      "217      94         90\n",
      "218      55         59\n",
      "219      76         78\n",
      "220      50         53\n",
      "221      82         81\n",
      "222      54         59\n",
      "223      75         77\n",
      "224      78         78\n",
      "225      79         81\n",
      "226      78         78\n"
     ]
    },
    {
     "name": "stderr",
     "output_type": "stream",
     "text": [
      "C:\\anaconda3\\lib\\site-packages\\sklearn\\linear_model\\_logistic.py:762: ConvergenceWarning: lbfgs failed to converge (status=1):\n",
      "STOP: TOTAL NO. of ITERATIONS REACHED LIMIT.\n",
      "\n",
      "Increase the number of iterations (max_iter) or scale the data as shown in:\n",
      "    https://scikit-learn.org/stable/modules/preprocessing.html\n",
      "Please also refer to the documentation for alternative solver options:\n",
      "    https://scikit-learn.org/stable/modules/linear_model.html#logistic-regression\n",
      "  n_iter_i = _check_optimize_result(\n"
     ]
    }
   ],
   "source": [
    "#LogisticRegression\n",
    "from sklearn.linear_model import LogisticRegression\n",
    "regressor = LogisticRegression(solver='lbfgs', max_iter=250)\n",
    "regressor.fit(x_train, y_train)\n",
    "y_pred = regressor.predict(x_test)\n",
    "df = pd.DataFrame({'Actual': y_test, 'Predicted': y_pred})\n",
    "MSE = np.square(np.subtract(y_test,y_pred)).mean() \n",
    "RMSE = math.sqrt(MSE)\n",
    "print('Root Mean Squared Error:',RMSE)\n",
    "print(df.head(10))\n",
    "#(Warning)It stops because total number of iterations reaches to the limit\n",
    "#Solution is pretty close, not bad"
   ]
  },
  {
   "cell_type": "code",
   "execution_count": 126,
   "metadata": {},
   "outputs": [
    {
     "name": "stdout",
     "output_type": "stream",
     "text": [
      "Root Mean Squared Error: 0.4861724348043977\n",
      "     Actual  Predicted\n",
      "217      94         92\n",
      "218      55         55\n",
      "219      76         76\n",
      "220      50         50\n",
      "221      82         82\n",
      "222      54         54\n",
      "223      75         75\n",
      "224      78         78\n",
      "225      79         79\n",
      "226      78         78\n"
     ]
    }
   ],
   "source": [
    "#DecisionTree\n",
    "from sklearn import tree\n",
    "regressor = tree.DecisionTreeClassifier()\n",
    "regressor.fit(x_train, y_train)\n",
    "y_pred = regressor.predict(x_test)\n",
    "df = pd.DataFrame({'Actual': y_test, 'Predicted': y_pred})\n",
    "MSE = np.square(np.subtract(y_test,y_pred)).mean() \n",
    "RMSE = math.sqrt(MSE)\n",
    "print('Root Mean Squared Error:',RMSE)\n",
    "print(df.head(10))\n",
    "#It nearly guesses all correct which might be a sign for overfitting\n",
    "#Also trees tend to overfit"
   ]
  },
  {
   "cell_type": "code",
   "execution_count": 127,
   "metadata": {},
   "outputs": [
    {
     "name": "stdout",
     "output_type": "stream",
     "text": [
      "Root Mean Squared Error: 6.448396558976361\n",
      "     Actual  Predicted\n",
      "217      94         82\n",
      "218      55         59\n",
      "219      76         81\n",
      "220      50         59\n",
      "221      82         82\n",
      "222      54         59\n",
      "223      75         81\n",
      "224      78         81\n",
      "225      79         81\n",
      "226      78         81\n"
     ]
    }
   ],
   "source": [
    "#SVM\n",
    "from sklearn import svm\n",
    "regressor = svm.SVC()\n",
    "regressor.fit(x_train, y_train)\n",
    "y_pred = regressor.predict(x_test)\n",
    "df = pd.DataFrame({'Actual': y_test, 'Predicted': y_pred})\n",
    "MSE = np.square(np.subtract(y_test,y_pred)).mean() \n",
    "RMSE = math.sqrt(MSE)\n",
    "print('Root Mean Squared Error:',RMSE)\n",
    "print(df.head(10))\n",
    "#It is close too, worse than logistic regression but not a overfit"
   ]
  },
  {
   "cell_type": "code",
   "execution_count": 128,
   "metadata": {},
   "outputs": [
    {
     "name": "stdout",
     "output_type": "stream",
     "text": [
      "Root Mean Squared Error: 0.3813850356982369\n",
      "     Actual  Predicted\n",
      "217      94         93\n",
      "218      55         55\n",
      "219      76         76\n",
      "220      50         50\n",
      "221      82         82\n",
      "222      54         54\n",
      "223      75         75\n",
      "224      78         78\n",
      "225      79         79\n",
      "226      78         78\n"
     ]
    }
   ],
   "source": [
    "#NaiveBayes\n",
    "from sklearn.naive_bayes import GaussianNB\n",
    "regressor = GaussianNB()\n",
    "regressor.fit(x_train, y_train)\n",
    "y_pred = regressor.predict(x_test)\n",
    "df = pd.DataFrame({'Actual': y_test, 'Predicted': y_pred})\n",
    "MSE = np.square(np.subtract(y_test,y_pred)).mean() \n",
    "RMSE = math.sqrt(MSE)\n",
    "print('Root Mean Squared Error:',RMSE)\n",
    "print(df.head(10))\n",
    "#It looks like an another overfit"
   ]
  },
  {
   "cell_type": "code",
   "execution_count": 129,
   "metadata": {},
   "outputs": [
    {
     "name": "stdout",
     "output_type": "stream",
     "text": [
      "Root Mean Squared Error: 0.5559594491425693\n",
      "     Actual  Predicted\n",
      "217      94         92\n",
      "218      55         55\n",
      "219      76         76\n",
      "220      50         50\n",
      "221      82         82\n",
      "222      54         54\n",
      "223      75         75\n",
      "224      78         78\n",
      "225      79         79\n",
      "226      78         78\n"
     ]
    }
   ],
   "source": [
    "#kNN\n",
    "from sklearn.neighbors import KNeighborsClassifier\n",
    "regressor = KNeighborsClassifier(n_neighbors=3)\n",
    "regressor.fit(x_train, y_train)\n",
    "y_pred = regressor.predict(x_test)\n",
    "df = pd.DataFrame({'Actual': y_test, 'Predicted': y_pred})\n",
    "MSE = np.square(np.subtract(y_test,y_pred)).mean() \n",
    "RMSE = math.sqrt(MSE)\n",
    "print('Root Mean Squared Error:',RMSE)\n",
    "print(df.head(10))\n",
    "#Overfit"
   ]
  },
  {
   "cell_type": "code",
   "execution_count": 130,
   "metadata": {},
   "outputs": [
    {
     "name": "stdout",
     "output_type": "stream",
     "text": [
      "Root Mean Squared Error: 3.534248023400323\n",
      "     Actual  Predicted\n",
      "217      94         90\n",
      "218      55         59\n",
      "219      76         78\n",
      "220      50         51\n",
      "221      82         82\n",
      "222      54         59\n",
      "223      75         78\n",
      "224      78         78\n",
      "225      79         78\n",
      "226      78         78\n"
     ]
    }
   ],
   "source": [
    "#Random Forest\n",
    "from sklearn.ensemble import RandomForestClassifier\n",
    "regressor = RandomForestClassifier(max_depth=2, random_state=0)\n",
    "regressor.fit(x_train, y_train)\n",
    "y_pred = regressor.predict(x_test)\n",
    "df = pd.DataFrame({'Actual': y_test, 'Predicted': y_pred})\n",
    "MSE = np.square(np.subtract(y_test,y_pred)).mean() \n",
    "RMSE = math.sqrt(MSE)\n",
    "print('Root Mean Squared Error:',RMSE)\n",
    "print(df.head(10))\n",
    "#Scores pretty good"
   ]
  },
  {
   "cell_type": "code",
   "execution_count": 131,
   "metadata": {},
   "outputs": [
    {
     "name": "stdout",
     "output_type": "stream",
     "text": [
      "Result:Logistic Regression>Random Forest>SVM>Linear Regression\n",
      "These are overfitted:KNN, Naive Bayes, Decision Tree\n"
     ]
    }
   ],
   "source": [
    "print(\"Result:Logistic Regression>Random Forest>SVM>Linear Regression\")\n",
    "print(\"These are overfitted:KNN, Naive Bayes, Decision Tree\")"
   ]
  }
 ],
 "metadata": {
  "kernelspec": {
   "display_name": "Python 3",
   "language": "python",
   "name": "python3"
  },
  "language_info": {
   "codemirror_mode": {
    "name": "ipython",
    "version": 3
   },
   "file_extension": ".py",
   "mimetype": "text/x-python",
   "name": "python",
   "nbconvert_exporter": "python",
   "pygments_lexer": "ipython3",
   "version": "3.8.5"
  }
 },
 "nbformat": 4,
 "nbformat_minor": 4
}
