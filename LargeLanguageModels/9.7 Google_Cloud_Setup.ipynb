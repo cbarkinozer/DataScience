{
 "cells": [
  {
   "cell_type": "markdown",
   "id": "3b55de89",
   "metadata": {},
   "source": [
    "# Google Cloud setup"
   ]
  },
  {
   "cell_type": "markdown",
   "id": "a96a7f33",
   "metadata": {},
   "source": [
    "This lab outlines the steps you will need to take to use Google Cloud and Vertex AI for your own projects.\n",
    "\n",
    "**Note**: To try this out yourself, please download this notebook and run it on your local computer."
   ]
  },
  {
   "cell_type": "markdown",
   "id": "a33d2a00",
   "metadata": {},
   "source": [
    "### Create a Google Cloud Project\n",
    "\n",
    "Google Cloud projects form the basis for creating, enabling, and using all Google Cloud services including managing APIs, enabling billing, adding and removing collaborators, and managing permissions for Google Cloud resources.\n",
    "\n",
    "Your usage of Google Cloud tools is always associated with a project.\n",
    "\n",
    "\n",
    "You will be prompted to create a new project the first time you visit the [Cloud Console](https://console.cloud.google.com)"
   ]
  },
  {
   "cell_type": "markdown",
   "id": "6a2b2be3",
   "metadata": {},
   "source": [
    "   > Note that you can create a [free project](https://cloud.google.com/free/docs/gcp-free-tier) which includes a 90-day $300 Free Trial."
   ]
  },
  {
   "cell_type": "markdown",
   "id": "da98fd9b",
   "metadata": {},
   "source": [
    "Learn more about projects [here.](https://cloud.google.com/resource-manager/docs/creating-managing-projects)"
   ]
  },
  {
   "cell_type": "markdown",
   "id": "0849a294",
   "metadata": {},
   "source": [
    "### Set up Billing\n",
    "\n",
    "A Cloud Billing account is used to define who pays for a given set of resources, and it can be linked to one or more projects. Project usage is charged to the linked Cloud Billing account.\n",
    "\n",
    "Within your project, you can configure billing by selecting \"Billing\" in the menu on the left.\n",
    "\n",
    "![select billing](billing.png)\n",
    "\n",
    "\n",
    "\n",
    "Make sure that **billing is enabled** for your Google Cloud project, [_click here_](https://cloud.google.com/billing/docs/how-to/modify-project) to learn how to confirm that billing is enabled."
   ]
  },
  {
   "cell_type": "markdown",
   "id": "1ecd6118",
   "metadata": {},
   "source": [
    "### Enable APIs"
   ]
  },
  {
   "cell_type": "markdown",
   "id": "214005bc",
   "metadata": {},
   "source": [
    "Once you have a project set up with a billing account, you will need to enable any services you want to use."
   ]
  },
  {
   "cell_type": "markdown",
   "id": "ef0b6159",
   "metadata": {},
   "source": [
    "[_Click here_](https://console.cloud.google.com/flows/enableapi?apiid=aiplatform,iam,bigquery.googleapis.com)\n",
    "   to **enable the following APIs** in your Google Cloud project:\n",
    "   \n",
    "- _Vertex AI_ \n",
    "- _BigQuery_ \n",
    "- _IAM_"
   ]
  },
  {
   "cell_type": "markdown",
   "id": "e6044062",
   "metadata": {},
   "source": [
    "### Create service account\n",
    "\n",
    "A service account is a special kind of account typically used by an application or compute workload, such as a Compute Engine instance, rather than a person. A service account is identified by its email address, which is unique to the account. To learn more, check out [this intro video](https://www.youtube.com/watch?v=xXk1YlkKW_k).\n",
    "\n",
    "You will need to create a service account and give it access to the Google Cloud services you want to use."
   ]
  },
  {
   "cell_type": "markdown",
   "id": "197e083e",
   "metadata": {},
   "source": [
    "#### 1. Go to the [Create Service Account](https://console.cloud.google.com/projectselector/iam-admin/serviceaccounts/create?walkthrough_id=iam--create-service-account&_ga=2.184446630.1022340625.1692280734-338572696.1692280734#step_index=1) page and **select your project**"
   ]
  },
  {
   "cell_type": "markdown",
   "id": "456d9360",
   "metadata": {},
   "source": [
    "#### 2. Give the account a name (you can pick anything)\n",
    "\n",
    "![create service account](create_sa.png)"
   ]
  },
  {
   "cell_type": "markdown",
   "id": "a135316d",
   "metadata": {},
   "source": [
    "#### Grant the account the following permissions\n",
    "\n",
    "![grant permissions](sa_permissions.png)"
   ]
  },
  {
   "cell_type": "markdown",
   "id": "34c4387e",
   "metadata": {},
   "source": [
    "### Create Service Account key"
   ]
  },
  {
   "cell_type": "markdown",
   "id": "f3f4b8ea",
   "metadata": {},
   "source": [
    "Once you have created your service account, you need to create a key.\n",
    "\n",
    "#### 1. Select your newly created service account then click. ADD KEY -> create new key."
   ]
  },
  {
   "cell_type": "markdown",
   "id": "82f5d347",
   "metadata": {},
   "source": [
    "#### 2. Select JSON key type and click create\n",
    "\n",
    "![JSON key](json_key.png)\n",
    "\n",
    "\n",
    "Clicking Create downloads a service account key file. After you download the key file, you cannot download it again."
   ]
  },
  {
   "cell_type": "markdown",
   "id": "f7818c66",
   "metadata": {},
   "source": [
    "### Create credentials"
   ]
  },
  {
   "cell_type": "markdown",
   "id": "192845ec",
   "metadata": {},
   "source": [
    "To use Vertex AI services, you will need to authenticate with your credentials.\n",
    "\n",
    "Using the json file you just downloaded, you will create a credentials object."
   ]
  },
  {
   "cell_type": "code",
   "execution_count": null,
   "id": "18e2c0c5",
   "metadata": {
    "height": 47
   },
   "outputs": [],
   "source": [
    "from google.auth.transport.requests import Request\n",
    "from google.oauth2.service_account import Credentials"
   ]
  },
  {
   "cell_type": "code",
   "execution_count": null,
   "id": "6501459a",
   "metadata": {
    "height": 47
   },
   "outputs": [],
   "source": [
    "# Path to your service account key file\n",
    "key_path = 'your_key.json' #Path to the json key associated with your service account from google cloud"
   ]
  },
  {
   "cell_type": "code",
   "execution_count": 1,
   "id": "eed553cc",
   "metadata": {
    "height": 149
   },
   "outputs": [],
   "source": [
    "# Create credentials object\n",
    "\n",
    "credentials = Credentials.from_service_account_file(\n",
    "    key_path,\n",
    "    scopes=['https://www.googleapis.com/auth/cloud-platform'])\n",
    "\n",
    "if credentials.expired:\n",
    "    credentials.refresh(Request())"
   ]
  },
  {
   "cell_type": "markdown",
   "id": "a1119972",
   "metadata": {},
   "source": [
    "### Connect to Vertex\n",
    "\n",
    "Once you have a project and your credentials, you can use Vertex AI tools.\n",
    "\n",
    "[**Copy your project ID**](https://cloud.google.com/resource-manager/docs/creating-managing-projects) and paste it in the `PROJECT_ID` field below."
   ]
  },
  {
   "cell_type": "code",
   "execution_count": null,
   "id": "931aef04",
   "metadata": {
    "height": 47
   },
   "outputs": [],
   "source": [
    "PROJECT_ID = 'your_project_ID'\n",
    "REGION = 'us-central1'"
   ]
  },
  {
   "cell_type": "code",
   "execution_count": 3,
   "id": "bddf7b0c",
   "metadata": {
    "height": 81
   },
   "outputs": [],
   "source": [
    "import vertexai\n",
    "\n",
    "# initialize vertex\n",
    "vertexai.init(project = PROJECT_ID, location = REGION, credentials = credentials)"
   ]
  }
 ],
 "metadata": {
  "kernelspec": {
   "display_name": "Python 3 (ipykernel)",
   "language": "python",
   "name": "python3"
  },
  "language_info": {
   "codemirror_mode": {
    "name": "ipython",
    "version": 3
   },
   "file_extension": ".py",
   "mimetype": "text/x-python",
   "name": "python",
   "nbconvert_exporter": "python",
   "pygments_lexer": "ipython3",
   "version": "3.10.13"
  }
 },
 "nbformat": 4,
 "nbformat_minor": 5
}
