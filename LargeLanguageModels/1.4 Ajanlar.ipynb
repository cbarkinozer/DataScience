{
  "cells": [
    {
      "cell_type": "code",
      "execution_count": 1,
      "metadata": {
        "id": "ZTRmvng6Hntn"
      },
      "outputs": [
        {
          "name": "stdout",
          "output_type": "stream",
          "text": [
            "Are environment variables loaded correctly?  True\n"
          ]
        }
      ],
      "source": [
        "# Lotus is your AI friend that plays simple text based games with you\n",
        "\n",
        "# !pip install python-dotenv\n",
        "import os\n",
        "import openai\n",
        "from dotenv import load_dotenv\n",
        "\n",
        "# **BURAYI .env DOSYANIZIN YERI OLACAK SEKILDE DEGISTIRIN***\n",
        "dotenv_path = 'key.env'\n",
        "is_loaded = load_dotenv(dotenv_path)\n",
        "\n",
        "# Load config values\n",
        "\n",
        "# Setting up the deployment name\n",
        "chatgpt_model_name = os.getenv('CHATGPT_MODEL')\n",
        "\n",
        "# This is set to `azure`\n",
        "openai.api_type = \"azure\"\n",
        "\n",
        "# The API key for your Azure OpenAI resource.\n",
        "openai.api_key = os.getenv(\"OPENAI_API_KEY\")\n",
        "\n",
        "# The base URL for your Azure OpenAI resource. e.g. \"https://<your resource name>.openai.azure.com\"\n",
        "openai.api_base = os.getenv('OPENAI_API_BASE')\n",
        "\n",
        "# Currently Chat Completions API have the following versions available: 2023-03-15-preview\n",
        "openai.api_version = os.getenv('OPENAI_API_VERSION')\n",
        "\n",
        "deployment_name = os.getenv('DEPLOYMENT_NAME')\n",
        "\n",
        "\n",
        "print(\"Are environment variables loaded correctly? \", is_loaded)"
      ]
    },
    {
      "cell_type": "markdown",
      "metadata": {
        "id": "-EsUHfjJHtrO"
      },
      "source": [
        "# Yerleşik LangChain araçlarını kullanma: DuckDuckGo arama ve Wikipedia"
      ]
    },
    {
      "cell_type": "code",
      "execution_count": 2,
      "metadata": {
        "id": "-WfnOsjoHsQQ"
      },
      "outputs": [
        {
          "name": "stdout",
          "output_type": "stream",
          "text": [
            "\n",
            "\n",
            "\u001b[1m> Entering new  chain...\u001b[0m\n",
            "\u001b[32;1m\u001b[1;3mThought: I should use the calculator tool for this question.\n",
            "\n",
            "Action:\n",
            "```\n",
            "{\n",
            "    \"action\": \"Calculator\",\n",
            "    \"action_input\": \"300*25/100\"\n",
            "}\n",
            "```\n",
            "\n",
            "\u001b[0m\n",
            "Observation: \u001b[36;1m\u001b[1;3mAnswer: 75.0\u001b[0m\n",
            "Thought:\u001b[32;1m\u001b[1;3m I now know the final answer.\n",
            "\n",
            "Final Answer: 75.0<|im_end|>\u001b[0m\n",
            "\n",
            "\u001b[1m> Finished chain.\u001b[0m\n",
            "\n",
            "\n",
            "\u001b[1m> Entering new  chain...\u001b[0m\n",
            "\u001b[32;1m\u001b[1;3mThought: I need to search who is Tom M. Mitchell and what book he wrote\n",
            "Action:\n",
            "```\n",
            "{\n",
            "  \"action\": \"Wikipedia\",\n",
            "  \"action_input\": \"Tom M. Mitchell\"\n",
            "}\n",
            "```\n",
            "\u001b[0m"
          ]
        },
        {
          "name": "stderr",
          "output_type": "stream",
          "text": [
            "c:\\Users\\cbark\\Desktop\\AI\\projects\\myenv\\Lib\\site-packages\\wikipedia\\wikipedia.py:389: GuessedAtParserWarning: No parser was explicitly specified, so I'm using the best available HTML parser for this system (\"html.parser\"). This usually isn't a problem, but if you run this code on another system, or in a different virtual environment, it may use a different parser and behave differently.\n",
            "\n",
            "The code that caused this warning is on line 389 of the file c:\\Users\\cbark\\Desktop\\AI\\projects\\myenv\\Lib\\site-packages\\wikipedia\\wikipedia.py. To get rid of this warning, pass the additional argument 'features=\"html.parser\"' to the BeautifulSoup constructor.\n",
            "\n",
            "  lis = BeautifulSoup(html).find_all('li')\n"
          ]
        },
        {
          "name": "stdout",
          "output_type": "stream",
          "text": [
            "\n",
            "Observation: \u001b[33;1m\u001b[1;3mPage: Tom M. Mitchell\n",
            "Summary: Tom Michael Mitchell (born August 9, 1951) is an American computer scientist and the Founders University Professor at Carnegie Mellon University (CMU). He is a founder and former Chair of the Machine Learning Department at CMU. Mitchell is known for his contributions to the advancement of machine learning, artificial intelligence, and cognitive neuroscience and is the author of the textbook Machine Learning. He is a member of the United States National Academy of Engineering since 2010. He is also a Fellow of the American Academy of Arts and Sciences, the American Association for the Advancement of Science and a Fellow and past President of the Association for the Advancement of Artificial Intelligence. In October 2018, Mitchell was appointed as the Interim Dean of the School of Computer Science at Carnegie Mellon.\n",
            "\n",
            "\n",
            "\n",
            "Page: Tom Mitchell (Australian footballer)\n",
            "Summary: Thomas Mitchell (born 31 May 1993) is a professional Australian rules footballer playing for the Collingwood Football Club in the Australian Football League (AFL). He previously played for the Sydney Swans from 2012 to 2016, and the Hawthorn Football Club between 2017 and 2022. Mitchell won the Brownlow Medal as the league's best and fairest player in 2018 and set the record for the most disposals in a VFL/AFL match, accruing 54 in a game against Collingwood during that season.\u001b[0m\n",
            "Thought:\u001b[32;1m\u001b[1;3m I need to look for the book he wrote\n",
            "Action:\n",
            "```\n",
            "{\n",
            "  \"action\": \"Wikipedia\",\n",
            "  \"action_input\": \"Tom M. Mitchell Machine Learning\"\n",
            "}\n",
            "```\n",
            "\n",
            "\u001b[0m\n",
            "Observation: \u001b[33;1m\u001b[1;3mPage: Tom M. Mitchell\n",
            "Summary: Tom Michael Mitchell (born August 9, 1951) is an American computer scientist and the Founders University Professor at Carnegie Mellon University (CMU). He is a founder and former Chair of the Machine Learning Department at CMU. Mitchell is known for his contributions to the advancement of machine learning, artificial intelligence, and cognitive neuroscience and is the author of the textbook Machine Learning. He is a member of the United States National Academy of Engineering since 2010. He is also a Fellow of the American Academy of Arts and Sciences, the American Association for the Advancement of Science and a Fellow and past President of the Association for the Advancement of Artificial Intelligence. In October 2018, Mitchell was appointed as the Interim Dean of the School of Computer Science at Carnegie Mellon.\n",
            "\n",
            "\n",
            "\n",
            "Page: Ensemble learning\n",
            "Summary: In statistics and machine learning, ensemble methods use multiple learning algorithms to obtain better predictive performance than could be obtained from any of the constituent learning algorithms alone.\n",
            "Unlike a statistical ensemble in statistical mechanics, which is usually infinite, a machine learning ensemble consists of only a concrete finite set of alternative models, but typically allows for much more flexible structure to exist among those alternatives.\n",
            "\n",
            "\n",
            "\n",
            "Page: Machine learning\n",
            "Summary: Machine learning (ML) is a field devoted to understanding and building methods that let machines \"learn\" – that is, methods that leverage data to improve computer performance on some set of tasks.Machine learning algorithms build a model based on sample data, known as training data, in order to make predictions or decisions without being explicitly programmed to do so. Machine learning algorithms are used in a wide variety of applications, such as in medicine, email filtering, speech recognition, agriculture, and computer vision, where it is difficult or unfeasible to develop conventional algorithms to perform the needed tasks.A subset of machine learning is closely related to computational statistics, which focuses on making predictions using computers, but not all machine learning is statistical learning. The study of mathematical optimization delivers methods, theory and application domains to the field of machine learning. Data mining is a related field of study, focusing on exploratory data analysis through unsupervised learning.Some implementations of machine learning use data and artificial neural networks in a way that mimics the working of a biological brain.In its application across business problems, machine learning is also referred to as predictive analytics.\n",
            "\n",
            "\u001b[0m\n",
            "Thought:"
          ]
        },
        {
          "name": "stderr",
          "output_type": "stream",
          "text": [
            "Retrying langchain.llms.openai.completion_with_retry.<locals>._completion_with_retry in 4.0 seconds as it raised ServiceUnavailableError: The server is overloaded or not ready yet..\n"
          ]
        },
        {
          "name": "stdout",
          "output_type": "stream",
          "text": [
            "\u001b[32;1m\u001b[1;3m Tom M. Mitchell wrote the book Machine Learning\n",
            "Final Answer: Machine Learning<|im_end|>\u001b[0m\n",
            "\n",
            "\u001b[1m> Finished chain.\u001b[0m\n"
          ]
        }
      ],
      "source": [
        "#!pip install -U wikipedia\n",
        "\n",
        "\n",
        "\n",
        "from langchain.agents.agent_toolkits import create_python_agent\n",
        "from langchain.agents import load_tools, initialize_agent\n",
        "from langchain.agents import AgentType\n",
        "from langchain.tools.python.tool import PythonREPLTool\n",
        "from langchain.python import PythonREPL\n",
        "from langchain.llms import AzureOpenAI\n",
        "\n",
        "llm = AzureOpenAI(\n",
        "    deployment_name=chatgpt_model_name,\n",
        "    model_name=chatgpt_model_name,\n",
        "    temperature=0.5,\n",
        "    max_tokens=500,\n",
        "    top_p=0.9,\n",
        "    frequency_penalty=0,\n",
        "    presence_penalty=0,\n",
        ")\n",
        "\n",
        "tools = load_tools([\"llm-math\",\"wikipedia\"], llm=llm)\n",
        "\n",
        "agent= initialize_agent(\n",
        "    tools,\n",
        "    llm,\n",
        "    agent=AgentType.CHAT_ZERO_SHOT_REACT_DESCRIPTION,\n",
        "    handle_parsing_errors=True,\n",
        "    verbose = True)\n",
        "\n",
        "agent(\"300'ün %25'i kaçtır?\")\n",
        "\n",
        "question = \"Tom M. Mitchell, Amerikalı bir bilgisayar bilimcisi ve \\\n",
        "Carnegie Mellon Üniversitesi'nde (CMU) Founders Üniversitesi Profesörü, \\\n",
        "hangi kitabı yazdı?\"\n",
        "\n",
        "result = agent(question)"
      ]
    },
    {
      "cell_type": "markdown",
      "metadata": {
        "id": "FB5TkTzoHy-O"
      },
      "source": [
        "# Python Ajanı"
      ]
    },
    {
      "cell_type": "code",
      "execution_count": 3,
      "metadata": {
        "id": "z5ze9j1CHzqo"
      },
      "outputs": [
        {
          "name": "stdout",
          "output_type": "stream",
          "text": [
            "\n",
            "\n",
            "\u001b[1m> Entering new  chain...\u001b[0m\n",
            "\u001b[32;1m\u001b[1;3m I can make a list of the customers and use the sort function to sort them\n",
            "Action: Python_REPL\n",
            "Action Input: customers = [['Jen', 'Ayai'], ['Elle', 'Elem'], ['Trance', 'Former'], ['Geoff', 'Fusion'], ['Harrison', 'Chase'], ['Lang', 'Chain'], ['Dolly', 'Too']]\n",
            "customers.sort(key=lambda x: (x[1], x[0]))\n",
            "print(customers)\u001b[0m\n",
            "Observation: \u001b[36;1m\u001b[1;3m[['Jen', 'Ayai'], ['Lang', 'Chain'], ['Harrison', 'Chase'], ['Elle', 'Elem'], ['Trance', 'Former'], ['Geoff', 'Fusion'], ['Dolly', 'Too']]\n",
            "\u001b[0m\n",
            "Thought:\u001b[32;1m\u001b[1;3m The list is sorted in the correct order\n",
            "Final Answer: [['Jen', 'Ayai'], ['Lang', 'Chain'], ['Harrison', 'Chase'], ['Elle', 'Elem'], ['Trance', 'Former'], ['Geoff', 'Fusion'], ['Dolly', 'Too']]<|im_end|>\u001b[0m\n",
            "\n",
            "\u001b[1m> Finished chain.\u001b[0m\n"
          ]
        },
        {
          "data": {
            "text/plain": [
              "\"[['Jen', 'Ayai'], ['Lang', 'Chain'], ['Harrison', 'Chase'], ['Elle', 'Elem'], ['Trance', 'Former'], ['Geoff', 'Fusion'], ['Dolly', 'Too']]<|im_end|>\""
            ]
          },
          "execution_count": 3,
          "metadata": {},
          "output_type": "execute_result"
        }
      ],
      "source": [
        "agent = create_python_agent(\n",
        "    llm,\n",
        "    tool=PythonREPLTool(),\n",
        "    verbose=True\n",
        ")\n",
        "\n",
        "customer_list = [[\"Harrison\", \"Chase\"],\n",
        "                 [\"Lang\", \"Chain\"],\n",
        "                 [\"Dolly\", \"Too\"],\n",
        "                 [\"Elle\", \"Elem\"],\n",
        "                 [\"Geoff\",\"Fusion\"],\n",
        "                 [\"Trance\",\"Former\"],\n",
        "                 [\"Jen\",\"Ayai\"]\n",
        "                ]\n",
        "\n",
        "agent.run(f\"\"\"Bu müşterileri soyadına ve ardından adına göre sıralayın ve \\\n",
        " çıktıyı yazdırın: {customer_list}\"\"\")"
      ]
    },
    {
      "cell_type": "markdown",
      "metadata": {
        "id": "9Spv1EVvH2-M"
      },
      "source": [
        "# Zincirlerin ayrıntılı çıktılarını görüntüleyelim"
      ]
    },
    {
      "cell_type": "code",
      "execution_count": 4,
      "metadata": {
        "id": "X_TbVJmnH4hC"
      },
      "outputs": [
        {
          "name": "stdout",
          "output_type": "stream",
          "text": [
            "\u001b[32;1m\u001b[1;3m[chain/start]\u001b[0m \u001b[1m[1:RunTypeEnum.chain:AgentExecutor] Entering Chain run with input:\n",
            "\u001b[0m{\n",
            "  \"input\": \"Bu müşterileri soyadına ve ardından adına göre sıralayın ve  çıktıyı yazdırın: [['Harrison', 'Chase'], ['Lang', 'Chain'], ['Dolly', 'Too'], ['Elle', 'Elem'], ['Geoff', 'Fusion'], ['Trance', 'Former'], ['Jen', 'Ayai']]\"\n",
            "}\n",
            "\u001b[32;1m\u001b[1;3m[chain/start]\u001b[0m \u001b[1m[1:RunTypeEnum.chain:AgentExecutor > 2:RunTypeEnum.chain:LLMChain] Entering Chain run with input:\n",
            "\u001b[0m{\n",
            "  \"input\": \"Bu müşterileri soyadına ve ardından adına göre sıralayın ve  çıktıyı yazdırın: [['Harrison', 'Chase'], ['Lang', 'Chain'], ['Dolly', 'Too'], ['Elle', 'Elem'], ['Geoff', 'Fusion'], ['Trance', 'Former'], ['Jen', 'Ayai']]\",\n",
            "  \"agent_scratchpad\": \"\",\n",
            "  \"stop\": [\n",
            "    \"\\nObservation:\",\n",
            "    \"\\n\\tObservation:\"\n",
            "  ]\n",
            "}\n",
            "\u001b[32;1m\u001b[1;3m[llm/start]\u001b[0m \u001b[1m[1:RunTypeEnum.chain:AgentExecutor > 2:RunTypeEnum.chain:LLMChain > 3:RunTypeEnum.llm:AzureOpenAI] Entering LLM run with input:\n",
            "\u001b[0m{\n",
            "  \"prompts\": [\n",
            "    \"You are an agent designed to write and execute python code to answer questions.\\nYou have access to a python REPL, which you can use to execute python code.\\nIf you get an error, debug your code and try again.\\nOnly use the output of your code to answer the question. \\nYou might know the answer without running any code, but you should still run the code to get the answer.\\nIf it does not seem like you can write code to answer the question, just return \\\"I don't know\\\" as the answer.\\n\\n\\nPython_REPL: A Python shell. Use this to execute python commands. Input should be a valid python command. If you want to see the output of a value, you should print it out with `print(...)`.\\n\\nUse the following format:\\n\\nQuestion: the input question you must answer\\nThought: you should always think about what to do\\nAction: the action to take, should be one of [Python_REPL]\\nAction Input: the input to the action\\nObservation: the result of the action\\n... (this Thought/Action/Action Input/Observation can repeat N times)\\nThought: I now know the final answer\\nFinal Answer: the final answer to the original input question\\n\\nBegin!\\n\\nQuestion: Bu müşterileri soyadına ve ardından adına göre sıralayın ve  çıktıyı yazdırın: [['Harrison', 'Chase'], ['Lang', 'Chain'], ['Dolly', 'Too'], ['Elle', 'Elem'], ['Geoff', 'Fusion'], ['Trance', 'Former'], ['Jen', 'Ayai']]\\nThought:\"\n",
            "  ]\n",
            "}\n",
            "\u001b[36;1m\u001b[1;3m[llm/end]\u001b[0m \u001b[1m[1:RunTypeEnum.chain:AgentExecutor > 2:RunTypeEnum.chain:LLMChain > 3:RunTypeEnum.llm:AzureOpenAI] [4.47s] Exiting LLM run with output:\n",
            "\u001b[0m{\n",
            "  \"generations\": [\n",
            "    [\n",
            "      {\n",
            "        \"text\": \" I can sort each element in the list by their second and first element.\\nAction: Python_REPL\\nAction Input: sorted([['Ayai', 'Jen'], ['Chain', 'Lang'], ['Chase', 'Harrison'], ['Elem', 'Elle'], ['Former', 'Trance'], ['Fusion', 'Geoff'], ['Too', 'Dolly']])\",\n",
            "        \"generation_info\": {\n",
            "          \"finish_reason\": \"stop\",\n",
            "          \"logprobs\": null\n",
            "        }\n",
            "      }\n",
            "    ]\n",
            "  ],\n",
            "  \"llm_output\": {\n",
            "    \"token_usage\": {\n",
            "      \"completion_tokens\": 77,\n",
            "      \"total_tokens\": 417,\n",
            "      \"prompt_tokens\": 340\n",
            "    },\n",
            "    \"model_name\": \"gpt-35-turbo\"\n",
            "  },\n",
            "  \"run\": null\n",
            "}\n",
            "\u001b[36;1m\u001b[1;3m[chain/end]\u001b[0m \u001b[1m[1:RunTypeEnum.chain:AgentExecutor > 2:RunTypeEnum.chain:LLMChain] [4.47s] Exiting Chain run with output:\n",
            "\u001b[0m{\n",
            "  \"text\": \" I can sort each element in the list by their second and first element.\\nAction: Python_REPL\\nAction Input: sorted([['Ayai', 'Jen'], ['Chain', 'Lang'], ['Chase', 'Harrison'], ['Elem', 'Elle'], ['Former', 'Trance'], ['Fusion', 'Geoff'], ['Too', 'Dolly']])\"\n",
            "}\n",
            "\u001b[32;1m\u001b[1;3m[tool/start]\u001b[0m \u001b[1m[1:RunTypeEnum.chain:AgentExecutor > 4:RunTypeEnum.tool:Python_REPL] Entering Tool run with input:\n",
            "\u001b[0m\"sorted([['Ayai', 'Jen'], ['Chain', 'Lang'], ['Chase', 'Harrison'], ['Elem', 'Elle'], ['Former', 'Trance'], ['Fusion', 'Geoff'], ['Too', 'Dolly']])\"\n",
            "\u001b[36;1m\u001b[1;3m[tool/end]\u001b[0m \u001b[1m[1:RunTypeEnum.chain:AgentExecutor > 4:RunTypeEnum.tool:Python_REPL] [0.9990000000000001ms] Exiting Tool run with output:\n",
            "\u001b[0m\"\"\n",
            "\u001b[32;1m\u001b[1;3m[chain/start]\u001b[0m \u001b[1m[1:RunTypeEnum.chain:AgentExecutor > 5:RunTypeEnum.chain:LLMChain] Entering Chain run with input:\n",
            "\u001b[0m{\n",
            "  \"input\": \"Bu müşterileri soyadına ve ardından adına göre sıralayın ve  çıktıyı yazdırın: [['Harrison', 'Chase'], ['Lang', 'Chain'], ['Dolly', 'Too'], ['Elle', 'Elem'], ['Geoff', 'Fusion'], ['Trance', 'Former'], ['Jen', 'Ayai']]\",\n",
            "  \"agent_scratchpad\": \" I can sort each element in the list by their second and first element.\\nAction: Python_REPL\\nAction Input: sorted([['Ayai', 'Jen'], ['Chain', 'Lang'], ['Chase', 'Harrison'], ['Elem', 'Elle'], ['Former', 'Trance'], ['Fusion', 'Geoff'], ['Too', 'Dolly']])\\nObservation: \\nThought:\",\n",
            "  \"stop\": [\n",
            "    \"\\nObservation:\",\n",
            "    \"\\n\\tObservation:\"\n",
            "  ]\n",
            "}\n",
            "\u001b[32;1m\u001b[1;3m[llm/start]\u001b[0m \u001b[1m[1:RunTypeEnum.chain:AgentExecutor > 5:RunTypeEnum.chain:LLMChain > 6:RunTypeEnum.llm:AzureOpenAI] Entering LLM run with input:\n",
            "\u001b[0m{\n",
            "  \"prompts\": [\n",
            "    \"You are an agent designed to write and execute python code to answer questions.\\nYou have access to a python REPL, which you can use to execute python code.\\nIf you get an error, debug your code and try again.\\nOnly use the output of your code to answer the question. \\nYou might know the answer without running any code, but you should still run the code to get the answer.\\nIf it does not seem like you can write code to answer the question, just return \\\"I don't know\\\" as the answer.\\n\\n\\nPython_REPL: A Python shell. Use this to execute python commands. Input should be a valid python command. If you want to see the output of a value, you should print it out with `print(...)`.\\n\\nUse the following format:\\n\\nQuestion: the input question you must answer\\nThought: you should always think about what to do\\nAction: the action to take, should be one of [Python_REPL]\\nAction Input: the input to the action\\nObservation: the result of the action\\n... (this Thought/Action/Action Input/Observation can repeat N times)\\nThought: I now know the final answer\\nFinal Answer: the final answer to the original input question\\n\\nBegin!\\n\\nQuestion: Bu müşterileri soyadına ve ardından adına göre sıralayın ve  çıktıyı yazdırın: [['Harrison', 'Chase'], ['Lang', 'Chain'], ['Dolly', 'Too'], ['Elle', 'Elem'], ['Geoff', 'Fusion'], ['Trance', 'Former'], ['Jen', 'Ayai']]\\nThought: I can sort each element in the list by their second and first element.\\nAction: Python_REPL\\nAction Input: sorted([['Ayai', 'Jen'], ['Chain', 'Lang'], ['Chase', 'Harrison'], ['Elem', 'Elle'], ['Former', 'Trance'], ['Fusion', 'Geoff'], ['Too', 'Dolly']])\\nObservation: \\nThought:\"\n",
            "  ]\n",
            "}\n",
            "\u001b[36;1m\u001b[1;3m[llm/end]\u001b[0m \u001b[1m[1:RunTypeEnum.chain:AgentExecutor > 5:RunTypeEnum.chain:LLMChain > 6:RunTypeEnum.llm:AzureOpenAI] [4.48s] Exiting LLM run with output:\n",
            "\u001b[0m{\n",
            "  \"generations\": [\n",
            "    [\n",
            "      {\n",
            "        \"text\": \" I have the sorted list. I can print it out\\nAction: Python_REPL\\nAction Input: print(sorted([['Ayai', 'Jen'], ['Chain', 'Lang'], ['Chase', 'Harrison'], ['Elem', 'Elle'], ['Former', 'Trance'], ['Fusion', 'Geoff'], ['Too', 'Dolly']]))\",\n",
            "        \"generation_info\": {\n",
            "          \"finish_reason\": \"stop\",\n",
            "          \"logprobs\": null\n",
            "        }\n",
            "      }\n",
            "    ]\n",
            "  ],\n",
            "  \"llm_output\": {\n",
            "    \"token_usage\": {\n",
            "      \"completion_tokens\": 76,\n",
            "      \"total_tokens\": 499,\n",
            "      \"prompt_tokens\": 423\n",
            "    },\n",
            "    \"model_name\": \"gpt-35-turbo\"\n",
            "  },\n",
            "  \"run\": null\n",
            "}\n",
            "\u001b[36;1m\u001b[1;3m[chain/end]\u001b[0m \u001b[1m[1:RunTypeEnum.chain:AgentExecutor > 5:RunTypeEnum.chain:LLMChain] [4.48s] Exiting Chain run with output:\n",
            "\u001b[0m{\n",
            "  \"text\": \" I have the sorted list. I can print it out\\nAction: Python_REPL\\nAction Input: print(sorted([['Ayai', 'Jen'], ['Chain', 'Lang'], ['Chase', 'Harrison'], ['Elem', 'Elle'], ['Former', 'Trance'], ['Fusion', 'Geoff'], ['Too', 'Dolly']]))\"\n",
            "}\n",
            "\u001b[32;1m\u001b[1;3m[tool/start]\u001b[0m \u001b[1m[1:RunTypeEnum.chain:AgentExecutor > 7:RunTypeEnum.tool:Python_REPL] Entering Tool run with input:\n",
            "\u001b[0m\"print(sorted([['Ayai', 'Jen'], ['Chain', 'Lang'], ['Chase', 'Harrison'], ['Elem', 'Elle'], ['Former', 'Trance'], ['Fusion', 'Geoff'], ['Too', 'Dolly']]))\"\n",
            "\u001b[36;1m\u001b[1;3m[tool/end]\u001b[0m \u001b[1m[1:RunTypeEnum.chain:AgentExecutor > 7:RunTypeEnum.tool:Python_REPL] [0.0ms] Exiting Tool run with output:\n",
            "\u001b[0m\"[['Ayai', 'Jen'], ['Chain', 'Lang'], ['Chase', 'Harrison'], ['Elem', 'Elle'], ['Former', 'Trance'], ['Fusion', 'Geoff'], ['Too', 'Dolly']]\"\n",
            "\u001b[32;1m\u001b[1;3m[chain/start]\u001b[0m \u001b[1m[1:RunTypeEnum.chain:AgentExecutor > 8:RunTypeEnum.chain:LLMChain] Entering Chain run with input:\n",
            "\u001b[0m{\n",
            "  \"input\": \"Bu müşterileri soyadına ve ardından adına göre sıralayın ve  çıktıyı yazdırın: [['Harrison', 'Chase'], ['Lang', 'Chain'], ['Dolly', 'Too'], ['Elle', 'Elem'], ['Geoff', 'Fusion'], ['Trance', 'Former'], ['Jen', 'Ayai']]\",\n",
            "  \"agent_scratchpad\": \" I can sort each element in the list by their second and first element.\\nAction: Python_REPL\\nAction Input: sorted([['Ayai', 'Jen'], ['Chain', 'Lang'], ['Chase', 'Harrison'], ['Elem', 'Elle'], ['Former', 'Trance'], ['Fusion', 'Geoff'], ['Too', 'Dolly']])\\nObservation: \\nThought: I have the sorted list. I can print it out\\nAction: Python_REPL\\nAction Input: print(sorted([['Ayai', 'Jen'], ['Chain', 'Lang'], ['Chase', 'Harrison'], ['Elem', 'Elle'], ['Former', 'Trance'], ['Fusion', 'Geoff'], ['Too', 'Dolly']]))\\nObservation: [['Ayai', 'Jen'], ['Chain', 'Lang'], ['Chase', 'Harrison'], ['Elem', 'Elle'], ['Former', 'Trance'], ['Fusion', 'Geoff'], ['Too', 'Dolly']]\\n\\nThought:\",\n",
            "  \"stop\": [\n",
            "    \"\\nObservation:\",\n",
            "    \"\\n\\tObservation:\"\n",
            "  ]\n",
            "}\n",
            "\u001b[32;1m\u001b[1;3m[llm/start]\u001b[0m \u001b[1m[1:RunTypeEnum.chain:AgentExecutor > 8:RunTypeEnum.chain:LLMChain > 9:RunTypeEnum.llm:AzureOpenAI] Entering LLM run with input:\n",
            "\u001b[0m{\n",
            "  \"prompts\": [\n",
            "    \"You are an agent designed to write and execute python code to answer questions.\\nYou have access to a python REPL, which you can use to execute python code.\\nIf you get an error, debug your code and try again.\\nOnly use the output of your code to answer the question. \\nYou might know the answer without running any code, but you should still run the code to get the answer.\\nIf it does not seem like you can write code to answer the question, just return \\\"I don't know\\\" as the answer.\\n\\n\\nPython_REPL: A Python shell. Use this to execute python commands. Input should be a valid python command. If you want to see the output of a value, you should print it out with `print(...)`.\\n\\nUse the following format:\\n\\nQuestion: the input question you must answer\\nThought: you should always think about what to do\\nAction: the action to take, should be one of [Python_REPL]\\nAction Input: the input to the action\\nObservation: the result of the action\\n... (this Thought/Action/Action Input/Observation can repeat N times)\\nThought: I now know the final answer\\nFinal Answer: the final answer to the original input question\\n\\nBegin!\\n\\nQuestion: Bu müşterileri soyadına ve ardından adına göre sıralayın ve  çıktıyı yazdırın: [['Harrison', 'Chase'], ['Lang', 'Chain'], ['Dolly', 'Too'], ['Elle', 'Elem'], ['Geoff', 'Fusion'], ['Trance', 'Former'], ['Jen', 'Ayai']]\\nThought: I can sort each element in the list by their second and first element.\\nAction: Python_REPL\\nAction Input: sorted([['Ayai', 'Jen'], ['Chain', 'Lang'], ['Chase', 'Harrison'], ['Elem', 'Elle'], ['Former', 'Trance'], ['Fusion', 'Geoff'], ['Too', 'Dolly']])\\nObservation: \\nThought: I have the sorted list. I can print it out\\nAction: Python_REPL\\nAction Input: print(sorted([['Ayai', 'Jen'], ['Chain', 'Lang'], ['Chase', 'Harrison'], ['Elem', 'Elle'], ['Former', 'Trance'], ['Fusion', 'Geoff'], ['Too', 'Dolly']]))\\nObservation: [['Ayai', 'Jen'], ['Chain', 'Lang'], ['Chase', 'Harrison'], ['Elem', 'Elle'], ['Former', 'Trance'], ['Fusion', 'Geoff'], ['Too', 'Dolly']]\\n\\nThought:\"\n",
            "  ]\n",
            "}\n",
            "\u001b[36;1m\u001b[1;3m[llm/end]\u001b[0m \u001b[1m[1:RunTypeEnum.chain:AgentExecutor > 8:RunTypeEnum.chain:LLMChain > 9:RunTypeEnum.llm:AzureOpenAI] [3.46s] Exiting LLM run with output:\n",
            "\u001b[0m{\n",
            "  \"generations\": [\n",
            "    [\n",
            "      {\n",
            "        \"text\": \" I can print out the final answer\\nFinal Answer: [['Harrison', 'Chase'], ['Lang', 'Chain'], ['Dolly', 'Too'], ['Elle', 'Elem'], ['Geoff', 'Fusion'], ['Trance', 'Former'], ['Jen', 'Ayai']]<|im_end|>\",\n",
            "        \"generation_info\": {\n",
            "          \"finish_reason\": \"stop\",\n",
            "          \"logprobs\": null\n",
            "        }\n",
            "      }\n",
            "    ]\n",
            "  ],\n",
            "  \"llm_output\": {\n",
            "    \"token_usage\": {\n",
            "      \"completion_tokens\": 63,\n",
            "      \"total_tokens\": 619,\n",
            "      \"prompt_tokens\": 556\n",
            "    },\n",
            "    \"model_name\": \"gpt-35-turbo\"\n",
            "  },\n",
            "  \"run\": null\n",
            "}\n",
            "\u001b[36;1m\u001b[1;3m[chain/end]\u001b[0m \u001b[1m[1:RunTypeEnum.chain:AgentExecutor > 8:RunTypeEnum.chain:LLMChain] [3.46s] Exiting Chain run with output:\n",
            "\u001b[0m{\n",
            "  \"text\": \" I can print out the final answer\\nFinal Answer: [['Harrison', 'Chase'], ['Lang', 'Chain'], ['Dolly', 'Too'], ['Elle', 'Elem'], ['Geoff', 'Fusion'], ['Trance', 'Former'], ['Jen', 'Ayai']]<|im_end|>\"\n",
            "}\n",
            "\u001b[36;1m\u001b[1;3m[chain/end]\u001b[0m \u001b[1m[1:RunTypeEnum.chain:AgentExecutor] [12.43s] Exiting Chain run with output:\n",
            "\u001b[0m{\n",
            "  \"output\": \"[['Harrison', 'Chase'], ['Lang', 'Chain'], ['Dolly', 'Too'], ['Elle', 'Elem'], ['Geoff', 'Fusion'], ['Trance', 'Former'], ['Jen', 'Ayai']]<|im_end|>\"\n",
            "}\n"
          ]
        }
      ],
      "source": [
        "import langchain\n",
        "\n",
        "langchain.debug=True\n",
        "\n",
        "agent.run(f\"\"\"Bu müşterileri soyadına ve ardından adına göre sıralayın ve \\\n",
        " çıktıyı yazdırın: {customer_list}\"\"\")\n",
        "\n",
        "langchain.debug=False"
      ]
    },
    {
      "cell_type": "markdown",
      "metadata": {
        "id": "aFlbGZLXH6Z-"
      },
      "source": [
        "# Kendi aracımızı tanımlayalım"
      ]
    },
    {
      "cell_type": "code",
      "execution_count": 5,
      "metadata": {
        "id": "dfyaDY6WIDI6"
      },
      "outputs": [],
      "source": [
        "#!pip install DateTime\n",
        "\n",
        "from langchain.agents import tool\n",
        "from datetime import date\n",
        "\n",
        "@tool\n",
        "def time(text: str) -> str:\n",
        "    \"\"\"Bugünün tarihini döndürür, bugünün tarihini bilmekle ilgili tüm sorular \\\n",
        "       için bunu kullanın. \\\n",
        "      Girdi her zaman boş bir dize olmalıdır ve bu işlev her zaman bugünün \\\n",
        "     tarihini döndürür - herhangi bir tarih matematiği bu işlevin dışında \\\n",
        "     gerçekleşmelidir.\"\"\"\n",
        "    return str(date.today())\n",
        "\n",
        "agent= initialize_agent(\n",
        "    tools + [time],\n",
        "    llm,\n",
        "    agent=AgentType.CHAT_ZERO_SHOT_REACT_DESCRIPTION,\n",
        "    handle_parsing_errors=True,\n",
        "    verbose = True)"
      ]
    },
    {
      "cell_type": "markdown",
      "metadata": {
        "id": "vJa3kKIGIGW6"
      },
      "source": [
        "**Not:**\n",
        "Temsilci bazen yanlış sonuca varabilir (ajanlar'ın geliştirilmesine devam edilmektedir!). Varsa, lütfen tekrar çalıştırmayı deneyin."
      ]
    },
    {
      "cell_type": "code",
      "execution_count": 6,
      "metadata": {
        "id": "oF0gl-1_IHky"
      },
      "outputs": [
        {
          "name": "stdout",
          "output_type": "stream",
          "text": [
            "\n",
            "\n",
            "\u001b[1m> Entering new  chain...\u001b[0m\n",
            "\u001b[32;1m\u001b[1;3mThought: I should use the `time` tool to get today's date\n",
            "Action:\n",
            "```\n",
            "{\n",
            "  \"action\": \"time\",\n",
            "  \"action_input\": \"\"\n",
            "}\n",
            "```\n",
            "\u001b[0m\n",
            "Observation: \u001b[38;5;200m\u001b[1;3m2023-06-20\u001b[0m\n",
            "Thought:\u001b[32;1m\u001b[1;3m I now know today's date\n",
            "Final Answer: 2023-06-20<|im_end|>\u001b[0m\n",
            "\n",
            "\u001b[1m> Finished chain.\u001b[0m\n"
          ]
        }
      ],
      "source": [
        "try:\n",
        "    result = agent(\"Bugünün tarihi ne?\")\n",
        "except:\n",
        "    print(\"Harici erişimde istisna gerçekleşti\")"
      ]
    }
  ],
  "metadata": {
    "colab": {
      "provenance": []
    },
    "kernelspec": {
      "display_name": "Python 3",
      "name": "python3"
    },
    "language_info": {
      "codemirror_mode": {
        "name": "ipython",
        "version": 3
      },
      "file_extension": ".py",
      "mimetype": "text/x-python",
      "name": "python",
      "nbconvert_exporter": "python",
      "pygments_lexer": "ipython3",
      "version": "3.11.4"
    }
  },
  "nbformat": 4,
  "nbformat_minor": 0
}
